{
 "cells": [
  {
   "cell_type": "markdown",
   "metadata": {},
   "source": [
    "Note : If you are good with relationships between these, go with that. Else simply go with definition. Dont dig too much"
   ]
  },
  {
   "cell_type": "markdown",
   "metadata": {},
   "source": [
    "### 1. Higher-Order Functions\n",
    "A higher-order function is a function that either:\n",
    "\n",
    "Takes another function as an argument, or\n",
    "Returns a function as its result."
   ]
  },
  {
   "cell_type": "code",
   "execution_count": 3,
   "metadata": {},
   "outputs": [
    {
     "name": "stdout",
     "output_type": "stream",
     "text": [
      "HELLO\n"
     ]
    }
   ],
   "source": [
    "def greet(name):\n",
    "    return f\"Hello, {name}!\"\n",
    "\n",
    "def shout(text_func):  # Higher-order function: takes a function as input\n",
    "    def louder():\n",
    "        return text_func().upper()\n",
    "    return louder\n",
    "\n",
    "def say_hello():\n",
    "    return \"hello\"\n",
    "\n",
    "loud_greet = shout(say_hello)  # Passing a function to another function\n",
    "print(loud_greet())  # Output: HELLO\n"
   ]
  },
  {
   "cell_type": "markdown",
   "metadata": {},
   "source": [
    "Relationships with nested func, closure, wrappe, decorator:\n",
    "\n",
    "- Higher-order functions often return **nested functions**.\n",
    "- Nested functions, when returned by higher-order functions, can form **closures**.\n",
    "- **Decorators** are a specific application of higher-order functions.\n",
    "- **Wrapper functions** are often returned by higher-order functions."
   ]
  },
  {
   "cell_type": "markdown",
   "metadata": {},
   "source": [
    "### 2. Nested Functions\n",
    "A nested function is simply a function defined inside another function. These nested functions(in this case : inner_function) callable from it's outer function (or) a closure which contains outer function, not directly accessible from external call.\n",
    "\n",
    "> The variables inside outer function is called as **non-local variables**. Inner functions have acccess to it even after outer function finished executing."
   ]
  },
  {
   "cell_type": "code",
   "execution_count": 8,
   "metadata": {},
   "outputs": [
    {
     "name": "stdout",
     "output_type": "stream",
     "text": [
      "My as is 10\n"
     ]
    }
   ],
   "source": [
    "def outer_function():  # Outer function\n",
    "    age =10\n",
    "    def inner_function():  # Nested (inner) function\n",
    "        print(f\"My as is {age}\")\n",
    "    inner_function()  # Calling the nested function\n",
    "\n",
    "outer_function()\n"
   ]
  },
  {
   "cell_type": "markdown",
   "metadata": {},
   "source": [
    "Relationships:\n",
    "\n",
    "- Used in higher-order functions: Nested functions are often returned by higher-order functions to provide additional behavior.\n",
    "- Forms closures: If a nested function uses variables from its enclosing scope, it becomes a closure.\n",
    "- Acts as wrapper functions: In many cases, nested functions serve as wrapper functions to add behavior to another function."
   ]
  },
  {
   "cell_type": "markdown",
   "metadata": {},
   "source": [
    "### 3. Wrapper Functions\n",
    "A wrapper function is a nested function used to \"wrap\" another function, adding or modifying behavior before or after calling the original function"
   ]
  },
  {
   "cell_type": "code",
   "execution_count": 4,
   "metadata": {},
   "outputs": [
    {
     "name": "stdout",
     "output_type": "stream",
     "text": [
      "Before calling the function\n",
      "Hello, Alice!\n",
      "After calling the function\n"
     ]
    }
   ],
   "source": [
    "# A simple function to greet someone\n",
    "def greet(name):\n",
    "    print(f\"Hello, {name}!\")\n",
    "\n",
    "# venkat a wrapper function that modifies the behavior of greet()\n",
    "def venkat (func, *args, **kwargs):\n",
    "    print(\"Before calling the function\")\n",
    "    result = func(*args, **kwargs)  # Calling the original function\n",
    "    print(\"After calling the function\")\n",
    "    return result\n",
    "\n",
    "# Using the wrapper function to call greet\n",
    "venkat (greet, \"Alice\")\n"
   ]
  },
  {
   "cell_type": "markdown",
   "metadata": {},
   "source": [
    "Explanation:\n",
    "- greet: A simple function that takes a name and prints a greeting.\n",
    "- venkat a wrapper: A function that takes another function (func) as an argument along with its arguments (*args, **kwargs). The wrapper function adds behavior before and after calling the greet function.\n",
    "- Calling wrapper: Instead of using a decorator to apply the wrapper, we directly call the wrapper function, passing the greet function and the arguments (\"Alice\")."
   ]
  },
  {
   "cell_type": "markdown",
   "metadata": {},
   "source": [
    "Key Points:\n",
    "- In this example, wrapper is acting as a regular function, not a decorator. It still serves as a wrapper function by modifying the behavior of the greet function.\n",
    "- The wrapper adds behavior before and after the original function is called, and it returns the result of the original function.\n",
    "So, this is an example of how you can use a wrapper function without using the @decorator syntax!"
   ]
  },
  {
   "cell_type": "markdown",
   "metadata": {},
   "source": [
    ">> Above Example is superb example where we are seeing only wrapper function with out decorator. In the concept of decoraters, wrapper functions must be a nested  function because it resides inside another function (the decorator)."
   ]
  },
  {
   "cell_type": "markdown",
   "metadata": {},
   "source": [
    "Relationships:\n",
    "\n",
    "- Always nested: A wrapper function is defined inside another function.\n",
    "- Part of higher-order functions: Wrapper functions are typically returned by higher-order functions.\n",
    "- Closures: Wrapper functions often form closures because they use variables from their enclosing function.\n",
    "- Central to decorators: Wrapper functions are the core mechanism that decorators use to extend or modify functionality."
   ]
  },
  {
   "cell_type": "markdown",
   "metadata": {},
   "source": [
    "### 4. Closures\n",
    "A closure is a function that remembers the variables from its enclosing scope even if the outer function is no longer in memory."
   ]
  },
  {
   "cell_type": "code",
   "execution_count": 7,
   "metadata": {},
   "outputs": [
    {
     "name": "stdout",
     "output_type": "stream",
     "text": [
      "10\n"
     ]
    }
   ],
   "source": [
    "def multiplier(n):  # Outer function\n",
    "    def multiply_by(x):  # Inner function (closure)\n",
    "        return x * n  # `n` is remembered even after `multiplier` finishes\n",
    "    return multiply_by\n",
    "\n",
    "times_two = multiplier(2)  # Closure: remembers n=2\n",
    "print(times_two(5))  # Output: 10\n"
   ]
  },
  {
   "cell_type": "markdown",
   "metadata": {},
   "source": [
    "Relationships:\n",
    "\n",
    "- Result of nested functions: A nested function becomes a closure when it captures variables from its enclosing scope.\n",
    "- Used in wrapper functions: Wrapper functions often rely on closures to remember the original function or additional arguments.\n",
    "- Found in decorators: Most decorators involve closures because the wrapper function captures the original function."
   ]
  },
  {
   "cell_type": "markdown",
   "metadata": {},
   "source": [
    "### 5. Decorators\n",
    "A decorator is a higher-order function that takes another function as input and returns a modified or extended version of that function, usually using a wrapper function and nested function. All decorators use nested functions, and the nested function often acts as the wrapper."
   ]
  },
  {
   "cell_type": "code",
   "execution_count": 9,
   "metadata": {},
   "outputs": [
    {
     "name": "stdout",
     "output_type": "stream",
     "text": [
      "Before the function call\n",
      "Hello, Alice!\n",
      "After the function call\n"
     ]
    }
   ],
   "source": [
    "def my_decorator(func):  # Higher-order function (Decorator)\n",
    "    def wrapper(*args, **kwargs):  # Nested function (Wrapper)\n",
    "        print(\"Before the function call\")\n",
    "        result = func(*args, **kwargs)  # Original function\n",
    "        print(\"After the function call\")\n",
    "        return result\n",
    "    return wrapper\n",
    "\n",
    "@my_decorator\n",
    "def greet(name):\n",
    "    print(f\"Hello, {name}!\")\n",
    "\n",
    "greet(\"Alice\")\n"
   ]
  },
  {
   "cell_type": "markdown",
   "metadata": {},
   "source": [
    "Relationships:\n",
    "\n",
    "- Use higher-order functions: All decorators are higher-order functions.\n",
    "- Contain nested functions: Decorators define a nested function (wrapper function) to wrap the original function.\n",
    "- Rely on closures: The wrapper function often uses closures to access the original function and any variables from the enclosing scope.\n",
    "- Built around wrapper functions: The wrapper function is what implements the added behavior in decorators."
   ]
  },
  {
   "cell_type": "markdown",
   "metadata": {},
   "source": [
    "### 6.Complete Example Demonstrating All Relationships:"
   ]
  },
  {
   "cell_type": "code",
   "execution_count": 2,
   "metadata": {},
   "outputs": [
    {
     "name": "stdout",
     "output_type": "stream",
     "text": [
      "Before calling the function\n",
      "Hello, Alice!\n",
      "After calling the function\n"
     ]
    }
   ],
   "source": [
    "# Higher-order function\n",
    "def higher_order_function(func):  \n",
    "    # Nested function (also a wrapper)\n",
    "    def wrapper(*args, **kwargs):  \n",
    "        # Closure: remembers `func` and modifies behavior\n",
    "        print(\"Before calling the function\")\n",
    "        result = func(*args, **kwargs)\n",
    "        print(\"After calling the function\")\n",
    "        return result\n",
    "    return wrapper  # Returning the wrapper function\n",
    "\n",
    "# Using the decorator (which combines all concepts)\n",
    "@higher_order_function\n",
    "def greet(name):\n",
    "    print(f\"Hello, {name}!\")\n",
    "\n",
    "greet(\"Alice\")\n"
   ]
  },
  {
   "cell_type": "markdown",
   "metadata": {},
   "source": [
    "Key Concepts in the Example:\n",
    "\n",
    "- Higher-Order Function: higher_order_function takes a function (greet) as input and returns wrapper.\n",
    "- Nested Function: wrapper is defined inside higher_order_function.\n",
    "- Wrapper Function: wrapper modifies the behavior of greet.\n",
    "- Closure: wrapper retains access to func (greet) and its arguments.\n",
    "- Decorator: @higher_order_function applies all these concepts to greet.\n",
    "This illustrates how these concepts are interconnected but distinct in Python."
   ]
  },
  {
   "cell_type": "markdown",
   "metadata": {},
   "source": [
    "## Questions:"
   ]
  },
  {
   "cell_type": "markdown",
   "metadata": {},
   "source": [
    "> ### if we use @ symbol in the code, then only we can say we are implementing decorators concept in python ?"
   ]
  },
  {
   "cell_type": "markdown",
   "metadata": {},
   "source": [
    "No, using the @ symbol is not the only way to implement decorators in Python. The @ symbol is a syntactic sugar that makes applying decorators more concise and readable. However, you can implement and use decorators without the @ symbol by explicitly passing a function to the decorator.\n",
    "\n",
    "Here’s an example to clarify:"
   ]
  },
  {
   "cell_type": "markdown",
   "metadata": {},
   "source": [
    "**Using @ Symbol:**"
   ]
  },
  {
   "cell_type": "code",
   "execution_count": 11,
   "metadata": {},
   "outputs": [
    {
     "name": "stdout",
     "output_type": "stream",
     "text": [
      "Before the function call\n",
      "Hello!\n",
      "After the function call\n"
     ]
    }
   ],
   "source": [
    "def my_decorator(func):\n",
    "    def wrapper():\n",
    "        print(\"Before the function call\")\n",
    "        func()\n",
    "        print(\"After the function call\")\n",
    "    return wrapper\n",
    "\n",
    "@my_decorator\n",
    "def say_hello():\n",
    "    print(\"Hello!\")\n",
    "\n",
    "say_hello()\n"
   ]
  },
  {
   "cell_type": "markdown",
   "metadata": {},
   "source": [
    "**Without Using @ Symbol:**"
   ]
  },
  {
   "cell_type": "code",
   "execution_count": 12,
   "metadata": {},
   "outputs": [
    {
     "name": "stdout",
     "output_type": "stream",
     "text": [
      "Before the function call\n",
      "Hello!\n",
      "After the function call\n"
     ]
    }
   ],
   "source": [
    "def my_decorator(func):\n",
    "    def wrapper():\n",
    "        print(\"Before the function call\")\n",
    "        func()\n",
    "        print(\"After the function call\")\n",
    "    return wrapper\n",
    "\n",
    "def say_hello():\n",
    "    print(\"Hello!\")\n",
    "\n",
    "# Manually applying the decorator\n",
    "decorated_function = my_decorator(say_hello)\n",
    "decorated_function()\n"
   ]
  },
  {
   "cell_type": "markdown",
   "metadata": {},
   "source": [
    "Key Points:\n",
    "- The @ symbol is a shorthand for applying a decorator to a function.\n",
    "- Without @, you can manually call the decorator and assign its return value to another variable or overwrite the original function.\n",
    "- The concept of decorators is based on wrapping a function (or a class) with another function to add or modify its behavior, regardless of whether you use the @ symbol."
   ]
  },
  {
   "cell_type": "markdown",
   "metadata": {},
   "source": [
    "> ### Wrapper function and decorators both are same ?"
   ]
  },
  {
   "cell_type": "markdown",
   "metadata": {},
   "source": [
    "A wrapper function and a decorator are related concepts in Python but not exactly the same. Let me explain their relationship and differences.\n",
    "\n",
    "**Wrapper Function :**\n",
    "\n",
    "A wrapper function is a function that is defined inside another function (often a decorator) and is used to \"wrap\" the original function. The wrapper adds, modifies, or extends the behavior of the original function before or after it executes."
   ]
  },
  {
   "cell_type": "markdown",
   "metadata": {},
   "source": [
    "Example of a Wrapper Function:"
   ]
  },
  {
   "cell_type": "code",
   "execution_count": 13,
   "metadata": {},
   "outputs": [],
   "source": [
    "def my_decorator(func):  # Decorator\n",
    "    def wrapper():       # Wrapper function\n",
    "        print(\"Before the function call\")\n",
    "        func()           # Original function\n",
    "        print(\"After the function call\")\n",
    "    return wrapper       # Returning the wrapper function\n"
   ]
  },
  {
   "cell_type": "markdown",
   "metadata": {},
   "source": [
    "Here, wrapper is the inner function that wraps around func to add extra behavior."
   ]
  },
  {
   "cell_type": "markdown",
   "metadata": {},
   "source": [
    "**Decorator:**\n",
    "\n",
    "A decorator is a design pattern in Python that is used to dynamically alter the behavior of functions or methods. It is a higher-order function that takes a function as input and returns a new function (often the wrapper function) with added or modified behavior.\n",
    "\n",
    "The decorator itself is responsible for defining and returning the wrapper function."
   ]
  },
  {
   "cell_type": "markdown",
   "metadata": {},
   "source": [
    "Example of a Decorator:"
   ]
  },
  {
   "cell_type": "code",
   "execution_count": 14,
   "metadata": {},
   "outputs": [
    {
     "name": "stdout",
     "output_type": "stream",
     "text": [
      "Before the function call\n",
      "Hello!\n",
      "After the function call\n"
     ]
    }
   ],
   "source": [
    "def my_decorator(func):  # Decorator\n",
    "    def wrapper():       # Wrapper function inside the decorator\n",
    "        print(\"Before the function call\")\n",
    "        func()\n",
    "        print(\"After the function call\")\n",
    "    return wrapper       # The decorator returns the wrapper function\n",
    "\n",
    "@my_decorator\n",
    "def say_hello():         # Function to be decorated\n",
    "    print(\"Hello!\")\n",
    "\n",
    "say_hello()  # This will call the wrapper function returned by the decorator\n"
   ]
  },
  {
   "attachments": {
    "image.png": {
     "image/png": "[encoded data removed]"
    }
   },
   "cell_type": "markdown",
   "metadata": {},
   "source": [
    "![image.png](attachment:image.png)"
   ]
  },
  {
   "cell_type": "markdown",
   "metadata": {},
   "source": []
  }
 ],
 "metadata": {
  "kernelspec": {
   "display_name": "chicken",
   "language": "python",
   "name": "python3"
  },
  "language_info": {
   "codemirror_mode": {
    "name": "ipython",
    "version": 3
   },
   "file_extension": ".py",
   "mimetype": "text/x-python",
   "name": "python",
   "nbconvert_exporter": "python",
   "pygments_lexer": "ipython3",
   "version": "3.12.1"
  }
 },
 "nbformat": 4,
 "nbformat_minor": 2
}
