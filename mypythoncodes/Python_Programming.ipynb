{
 "cells": [
  {
   "cell_type": "markdown",
   "metadata": {
    "id": "kxRH2vTH3-AH"
   },
   "source": [
    "## Python **Programming**\n",
    "    Python is a high-level, interpreted, interactive and object-oriented scripting language\n"
   ]
  },
  {
   "cell_type": "markdown",
   "metadata": {
    "id": "MYrQDGeFjCnP"
   },
   "source": [
    "# Oops with Python"
   ]
  },
  {
   "cell_type": "markdown",
   "metadata": {
    "id": "rIAfFILJjAbn"
   },
   "source": [
    "### Classes"
   ]
  },
  {
   "cell_type": "markdown",
   "metadata": {
    "id": "8iWRSL-l-m_B"
   },
   "source": [
    "A class is a collection of objects. A class contains the blueprints or the prototype from which the objects are being created. It is a logical entity that contains some attributes and methods. **bold text**"
   ]
  },
  {
   "cell_type": "markdown",
   "metadata": {
    "id": "9Aytltwm-t9t"
   },
   "source": [
    "To understand the need for creating a class let’s consider an example, let’s say you wanted to track the number of dogs that may have different attributes like breed, and age. If a list is used, **the first element could be the dog’s breed while the second element could represent its age**. Let’s suppose there are 100 different dogs, **then how would you know which element is supposed to be which?** What if you wanted to add other properties to these dogs? This lacks organization and it’s the exact need for classes."
   ]
  },
  {
   "cell_type": "markdown",
   "metadata": {
    "id": "15LYsHHz-5O_"
   },
   "source": [
    "### Objects"
   ]
  },
  {
   "cell_type": "markdown",
   "metadata": {
    "id": "PAwTsmN7_0k7"
   },
   "source": [
    "The object is an instance(an example) of a class. Object has a state and behavior associated with it."
   ]
  },
  {
   "cell_type": "markdown",
   "metadata": {
    "id": "MshFRbmABWTK"
   },
   "source": [
    "An object consists of:\n",
    "* **Identity**: It gives a unique name to an object and enables one object to interact with other objects.\n",
    "\n",
    "Ex: The identity can be considered as the name of the dog.\n",
    "\n",
    "* **State**: It is represented by the attributes of an object. It also reflects the properties of an object.\n",
    "\n",
    "Ex: State or Attributes can be considered as the breed, age, or color of the dog.\n",
    "\n",
    "* **Behavior**: It is represented by the methods of an object. It also reflects the response of an object to other objects.\n",
    "\n",
    "Ex: The behavior can be considered as to whether the dog is eating or sleeping."
   ]
  },
  {
   "cell_type": "markdown",
   "metadata": {
    "id": "JSSajkd9Elzw"
   },
   "source": [
    "**Creating  a class**"
   ]
  },
  {
   "cell_type": "markdown",
   "metadata": {
    "id": "247Z8tSPEpVF"
   },
   "source": [
    "1.   Classes are created by keyword class.\n",
    "2.   Attributes are the variables that belong to a class.\n",
    "3. Attributes are always public and can be accessed using the dot (.) operator. Eg.: Myclass.Myattribute"
   ]
  },
  {
   "cell_type": "code",
   "execution_count": null,
   "metadata": {
    "id": "L5vOSCt4E-1I"
   },
   "outputs": [],
   "source": [
    "class Dog :\n",
    "  pass\n"
   ]
  },
  {
   "cell_type": "markdown",
   "metadata": {
    "id": "pufWoAeeEPRH"
   },
   "source": [
    "**Creating Object**"
   ]
  },
  {
   "cell_type": "code",
   "execution_count": null,
   "metadata": {
    "id": "tqPSWjnTFLgz"
   },
   "outputs": [],
   "source": [
    "obj = Dog()"
   ]
  },
  {
   "cell_type": "markdown",
   "metadata": {
    "id": "55jHIygVFeTS"
   },
   "source": [
    "**python self**"
   ]
  },
  {
   "cell_type": "code",
   "execution_count": null,
   "metadata": {
    "colab": {
     "base_uri": "https://localhost:8080/"
    },
    "id": "A-nN4uGxFajJ",
    "outputId": "898f9708-12dc-4a97-d70d-65716de3812e"
   },
   "outputs": [
    {
     "name": "stdout",
     "output_type": "stream",
     "text": [
      "Rodger is an mammal\n",
      "Tommy is an mammal\n",
      "\n",
      "Rodger is an Rodger\n",
      "Tommy is an Tommy\n",
      "\n",
      "\n",
      "My name is Rodger\n",
      "My name is Tommy\n"
     ]
    }
   ],
   "source": [
    "class Dog:\n",
    "  #class attribute\n",
    "  attr1 = \"mammal\"\n",
    "\n",
    "  # Instance attribute\n",
    "  def __init__(self, name):\n",
    "    \"\"\"__init__ method is similar to constructors in C++ and Java. It is run as soon as an object of a class is instantiated.\n",
    "    The method is useful to do any initialization you want to do with your object.\"\"\"\n",
    "    self.name = name\n",
    "\n",
    "  def speak(self):\n",
    "    print(\"My name is {}\".format(self.name))\n",
    "\"\"\" by dfault a object passed over self parameter. self parameter is default for all the class methods\"\"\"\n",
    "\n",
    "\n",
    "Rodger = Dog(\"Rodger\")\n",
    "Tommy  = Dog(\"Tommy\")\n",
    "\n",
    "\n",
    "# Accessing class attribute\n",
    "print(\"Rodger is an {}\".format(Rodger.__class__.attr1))\n",
    "\"\"\" All the class attributes are public and need to be accessed with dot(.) \"\"\"\n",
    "print(\"Tommy is an {}\".format(Tommy.__class__.attr1)+\"\\n\")\n",
    "\n",
    "\n",
    "#Accessing Instance attributes\n",
    "print (\"Rodger is an {}\".format(Rodger.name))\n",
    "print(\"Tommy is an {}\".format(Tommy.name)+\"\\n\\n\")\n",
    "\n",
    "\n",
    "#Accessing class method using diff objects\n",
    "Rodger.speak()\n",
    "Tommy.speak()\n",
    "\n"
   ]
  },
  {
   "cell_type": "markdown",
   "metadata": {
    "id": "ddDslp93PbbI"
   },
   "source": [
    "## Python Polymorphism"
   ]
  },
  {
   "cell_type": "markdown",
   "metadata": {
    "id": "g6FhWAogPlkS"
   },
   "source": []
  },
  {
   "cell_type": "markdown",
   "metadata": {
    "id": "0AfwsI70Ig6w"
   },
   "source": [
    "## Python Inheritance"
   ]
  },
  {
   "cell_type": "markdown",
   "metadata": {
    "id": "uBF_sxCZEj4-"
   },
   "source": [
    "Inheritance is the capability of one class to derive or inherit the properties from another class.\n",
    "\n",
    "It provides the reusability of a code. We don’t have to write the same code again and again. Also, it allows us to add more features to a class without modifying it.\n",
    "\n",
    "It is transitive in nature, which means that if class B inherits from another class A, then all the subclasses of B would automatically inherit from class A.\n",
    "\n",
    "https://www.geeksforgeeks.org/types-of-inheritance-python/?ref=lbp"
   ]
  },
  {
   "cell_type": "markdown",
   "metadata": {
    "id": "leOLq4U_Es6Q"
   },
   "source": [
    "**4 Types of Inheritance**\n",
    "1. single Inheritance - one child clss  deriving properties from one parent class\n",
    "2. Multilevel Inheritance- a derived class to inherit properties from an immediate parent class which in turn inherits properties from his parent class.\n",
    "3. Hierarchial Inheritance- One parent class multiple child class\n",
    "4. Multiple Inheritance- Multiple base class & one derived class\n",
    "5. Hybrid Inheritance- combination of all type of inheritance\n"
   ]
  },
  {
   "cell_type": "code",
   "execution_count": null,
   "metadata": {
    "colab": {
     "base_uri": "https://localhost:8080/"
    },
    "executionInfo": {
     "elapsed": 13,
     "status": "ok",
     "timestamp": 1706581302146,
     "user": {
      "displayName": "Venkat Shan",
      "userId": "06397932801350352783"
     },
     "user_tz": -330
    },
    "id": "zSnCeGemJ2lY",
    "outputId": "e3de5d2c-af16-43ff-b210-7cc2568fcc6e"
   },
   "outputs": [
    {
     "name": "stdout",
     "output_type": "stream",
     "text": [
      "I am printing from child class\n",
      "I am printing from parent class\n"
     ]
    }
   ],
   "source": [
    "#single Inheritance\n",
    "class Parent:\n",
    "  def func1(self):\n",
    "    print(\"I am printing from parent class\")\n",
    "class Child(Parent):\n",
    "  def func2(self):\n",
    "    print(\"I am printing from child class\")\n",
    "obj = Child()\n",
    "obj.func2()\n",
    "obj.func1()"
   ]
  },
  {
   "cell_type": "markdown",
   "metadata": {
    "id": "J76hJ_8NOLm0"
   },
   "source": [
    "Remember the syntax, how to invoke contructor of a parent class"
   ]
  },
  {
   "cell_type": "code",
   "execution_count": null,
   "metadata": {
    "id": "7C7N5jjSJPLz"
   },
   "outputs": [],
   "source": [
    "#Multilevel Inheritace\n",
    "# multilevel inheritance\n",
    "\n",
    "# Base class\n",
    "class Grandfather:\n",
    "\n",
    "    def __init__(self, grandfathername):\n",
    "        self.grandfathername = grandfathername\n",
    "\n",
    "# Intermediate class\n",
    "class Father(Grandfather):\n",
    "    def __init__(self, fathername, grandfathername):\n",
    "        self.fathername = fathername\n",
    "\n",
    "        # invoking constructor of Grandfather class\n",
    "        Grandfather.__init__(self, grandfathername)\n",
    "\n",
    "# Derived class\n",
    "class Son(Father):\n",
    "    def __init__(self, sonname, fathername, grandfathername):\n",
    "        self.sonname = sonname\n",
    "\n",
    "        # invoking constructor of Father class\n",
    "        Father.__init__(self, fathername, grandfathername)\n",
    "\n",
    "    def print_name(self):\n",
    "        print('Grandfather name :', self.grandfathername)\n",
    "        print(\"Father name :\", self.fathername)\n",
    "        print(\"Son name :\", self.sonname)\n",
    "\n",
    "\n",
    "#  Driver code\n",
    "s1 = Son('Prince', 'Rampal', 'Lal mani')\n",
    "print(s1.grandfathername)\n",
    "s1.print_name()"
   ]
  },
  {
   "cell_type": "code",
   "execution_count": null,
   "metadata": {
    "id": "PMnWLUw3LV1z"
   },
   "outputs": [],
   "source": [
    "# hybrid inheritance\n",
    "class School:\n",
    "    def func1(self):\n",
    "        print(\"This function is in school.\")\n",
    "\n",
    "\n",
    "class Student1(School):\n",
    "    def func2(self):\n",
    "        print(\"This function is in student 1. \")\n",
    "\n",
    "\n",
    "class Student2(School):\n",
    "    def func3(self):\n",
    "        print(\"This function is in student 2.\")\n",
    "\n",
    "\n",
    "class Student3(Student1, School):\n",
    "    def func4(self):\n",
    "        print(\"This function is in student 3.\")\n",
    "\n",
    "\n",
    "# Driver's code\n",
    "object = Student3()\n",
    "object.func1()\n",
    "object.func2()"
   ]
  },
  {
   "cell_type": "markdown",
   "metadata": {
    "id": "qv2xMZ1e1slA"
   },
   "source": [
    "## Polymorphism"
   ]
  },
  {
   "cell_type": "markdown",
   "metadata": {
    "id": "LQcZ7tf-1wUw"
   },
   "source": [
    "The word polymorphism means having many forms. In programming, polymorphism means the same function name (but different signatures) being used for different types. The key difference is the data types and number of arguments used in function.\n",
    "\n",
    "Two Types of Polymorphism:\n",
    "1. Mothod Overriding\n",
    "2. Method overloading"
   ]
  },
  {
   "cell_type": "markdown",
   "metadata": {
    "id": "MVNPVCRJ2iBX"
   },
   "source": [
    "**1. Method Overriding**"
   ]
  },
  {
   "cell_type": "markdown",
   "metadata": {
    "id": "6NovgV3Z3Gw-"
   },
   "source": [
    "Method overriding occurs when a subclass provides a specific implementation of a method that is already defined in its superclass(with the same name and signature (parameters))."
   ]
  },
  {
   "cell_type": "markdown",
   "metadata": {
    "id": "jV4EmhbR3hfk"
   },
   "source": [
    "This is particularly useful in cases where the method inherited from the parent class doesn’t quite fit the child class. In such cases, we re-implement the method in the child class\n",
    "\n",
    "When an overridden method is called on an object of the subclass, the subclass's implementation is executed instead of the superclass's implementation."
   ]
  },
  {
   "cell_type": "code",
   "execution_count": null,
   "metadata": {
    "colab": {
     "base_uri": "https://localhost:8080/"
    },
    "executionInfo": {
     "elapsed": 455,
     "status": "ok",
     "timestamp": 1706610039081,
     "user": {
      "displayName": "Venkat Shan",
      "userId": "06397932801350352783"
     },
     "user_tz": -330
    },
    "id": "EhumuOp82luQ",
    "outputId": "62df17c0-d40d-4ac1-cc09-06b1bfc8b410"
   },
   "outputs": [
    {
     "name": "stdout",
     "output_type": "stream",
     "text": [
      "Woof!\n",
      "Meow!\n"
     ]
    }
   ],
   "source": [
    "#parent class\n",
    "class Animal:\n",
    "    def speak(self):\n",
    "        raise NotImplementedError(\"Subclass must implement this method\")\n",
    "\n",
    "#Child class-1\n",
    "class Dog(Animal):\n",
    "    def speak(self):\n",
    "        return \"Woof!\"\n",
    "#child class-2\n",
    "class Cat(Animal):\n",
    "    def speak(self):\n",
    "        return \"Meow!\"\n",
    "\n",
    "# Create a list of Animal objects\n",
    "animals = [Dog(), Cat()]\n",
    "\n",
    "# Call the speak method on each object\n",
    "for animal in animals:\n",
    "    print(animal.speak())"
   ]
  },
  {
   "cell_type": "markdown",
   "metadata": {
    "id": "gT-hmR8q3sWf"
   },
   "source": [
    "**2. Method Overloading**"
   ]
  },
  {
   "cell_type": "markdown",
   "metadata": {
    "id": "m2Weqr9T33JG"
   },
   "source": [
    "Method overloading refers to defining multiple methods in the same class with the same name but with different parameters.\n",
    "\n",
    "Unlike some other programming languages (like Java or C++), Python does not support method overloading by default, where the **method behavior would change based on the type or number of arguments passed.**\n",
    "\n",
    "In Python, since method ***overloading is not supported directly***, you can achieve similar behavior using default parameter values or variable-length arguments (*args and **kwargs).\n",
    "\n",
    "Example (using default parameter values):"
   ]
  },
  {
   "cell_type": "code",
   "execution_count": null,
   "metadata": {
    "colab": {
     "base_uri": "https://localhost:8080/"
    },
    "executionInfo": {
     "elapsed": 426,
     "status": "ok",
     "timestamp": 1706610471422,
     "user": {
      "displayName": "Venkat Shan",
      "userId": "06397932801350352783"
     },
     "user_tz": -330
    },
    "id": "IyfUo7sT51Wb",
    "outputId": "302db8c8-f68f-44ee-9b73-c9a71c85777f"
   },
   "outputs": [
    {
     "name": "stdout",
     "output_type": "stream",
     "text": [
      "5\n",
      "9\n"
     ]
    }
   ],
   "source": [
    "# A simple Python function to demonstrate\n",
    "# Polymorphism\n",
    "\n",
    "def add(x, y, z = 0):\n",
    "    return x + y+z\n",
    "\n",
    "# Driver code\n",
    "print(add(2, 3))\n",
    "print(add(2, 3, 4))\n",
    "#method overloading is not directly supported but can be simulated using default parameter values or variable-length arguments"
   ]
  },
  {
   "cell_type": "markdown",
   "metadata": {
    "id": "3Nh5cBu_9Wre"
   },
   "source": [
    "## Encapsulation"
   ]
  },
  {
   "cell_type": "markdown",
   "metadata": {
    "id": "3kXLrfTb9gif"
   },
   "source": [
    "This puts restrictions on accessing variables and methods directly and can prevent the accidental modification of data\n",
    "\n",
    "Ex: Finace Team data can't be accessed by Sales Team direstly in an organization.\n",
    "\n",
    "Two Types of varilables:\n",
    "1. Protected Variables : can be accessed from within the class and its subclasses. The protected variable can be accessed out of the class as well as in the derived class (modified too in derived class).\n",
    "\n",
    "Convention:  by prefixing the name of the member by a single underscore “_”\n",
    "\n",
    "2. Private variables: These members are not accessible outside the class in which they are defined. They are hidden from the outside world.\n",
    "\n",
    "Private members are meant to be used internally within the class.\n",
    "\n",
    "Accessing private members from outside the class directly will raise an AttributeError.\n",
    "Convention: prefix the member name with double underscore \"__\""
   ]
  },
  {
   "cell_type": "code",
   "execution_count": null,
   "metadata": {
    "colab": {
     "base_uri": "https://localhost:8080/"
    },
    "executionInfo": {
     "elapsed": 14,
     "status": "ok",
     "timestamp": 1706618520989,
     "user": {
      "displayName": "Venkat Shan",
      "userId": "06397932801350352783"
     },
     "user_tz": -330
    },
    "id": "L6K1pShUXbr5",
    "outputId": "06bd94c6-a1bc-4aa7-e542-04a886972f12"
   },
   "outputs": [
    {
     "name": "stdout",
     "output_type": "stream",
     "text": [
      "Calling protected member of base class:  2\n",
      "Calling modified protected member outside class:  3\n",
      "Accessing protected member of obj1:  3\n",
      "Accessing protected member of obj2:  2\n"
     ]
    }
   ],
   "source": [
    "# Python program to\n",
    "# demonstrate protected members\n",
    "\n",
    "# Creating a base class\n",
    "class Base:\n",
    "    def __init__(self):\n",
    "\n",
    "        # Protected member\n",
    "        self._a = 2\n",
    "\n",
    "# Creating a derived class\n",
    "class Derived(Base):\n",
    "    def __init__(self):\n",
    "\n",
    "        # Calling constructor of\n",
    "        # Base class\n",
    "        Base.__init__(self)\n",
    "        print(\"Calling protected member of base class: \",\n",
    "              self._a)\n",
    "\n",
    "        # Modify the protected variable:\n",
    "        self._a = 3\n",
    "        print(\"Calling modified protected member outside class: \",\n",
    "              self._a)\n",
    "\n",
    "\n",
    "obj1 = Derived()\n",
    "\n",
    "obj2 = Base()\n",
    "\n",
    "# Calling protected member\n",
    "# Can be accessed but should not be done due to convention\n",
    "print(\"Accessing protected member of obj1: \", obj1._a)\n",
    "\n",
    "# Accessing the protected variable outside\n",
    "print(\"Accessing protected member of obj2: \", obj2._a)"
   ]
  },
  {
   "cell_type": "code",
   "execution_count": null,
   "metadata": {
    "colab": {
     "base_uri": "https://localhost:8080/"
    },
    "executionInfo": {
     "elapsed": 496,
     "status": "ok",
     "timestamp": 1706618795117,
     "user": {
      "displayName": "Venkat Shan",
      "userId": "06397932801350352783"
     },
     "user_tz": -330
    },
    "id": "cngE-7ULZ7q6",
    "outputId": "eff67d1d-b5f1-4b80-d42d-b94718708be9"
   },
   "outputs": [
    {
     "name": "stdout",
     "output_type": "stream",
     "text": [
      "I am private\n"
     ]
    }
   ],
   "source": [
    "\n",
    "class MyClass:\n",
    "    def __init__(self):\n",
    "        self.__private_member = \"I am private\" #Private variable\n",
    "\n",
    "    def get_private_member(self):\n",
    "        return self.__private_member\n",
    "\n",
    "obj = MyClass()\n",
    "# Attempting to access the private member directly raises an AttributeError\n",
    "\n",
    "# print(obj.__private_member)\n",
    "# This will raise an AttributeError\n",
    "\n",
    "# But accessing it through a method works\n",
    "print(obj.get_private_member())  # Output: I am private"
   ]
  },
  {
   "cell_type": "markdown",
   "metadata": {
    "id": "oLQrHAmucjO4"
   },
   "source": [
    "## Abstraction"
   ]
  },
  {
   "cell_type": "markdown",
   "metadata": {
    "id": "yvx4-3TvcpDe"
   },
   "source": [
    "An abstract class can be considered a blueprint for other classes. It allows you to create a **set of methods that must be created within any child classes** built from the abstract class."
   ]
  },
  {
   "cell_type": "markdown",
   "metadata": {
    "id": "G5IJwOMcMNmJ"
   },
   "source": [
    "A class that **contains one or more abstract methods** is called an abstract class. An abstract method is a method that has a declaration but does **not have an implementation**."
   ]
  },
  {
   "cell_type": "markdown",
   "metadata": {
    "id": "M48f5znJM8xG"
   },
   "source": [
    "Exmple: This capability is especially useful in situations where other people going implement the code."
   ]
  },
  {
   "cell_type": "markdown",
   "metadata": {
    "id": "eXveIJOZODfn"
   },
   "source": [
    "**Creating abstract class**"
   ]
  },
  {
   "cell_type": "markdown",
   "metadata": {
    "id": "U66CA5FKOOTx"
   },
   "source": [
    "By default, **Python does not provide abstract classes**. **Python comes with a module** that provides the base for defining Abstract Base classes(ABC) and that module name is **ABC**.\n",
    "\n",
    "ABC works by **decorating methods of the base class as an abstract** and then registering **concrete classes(subclasses) as implementations of the abstract base**. A **method becomes abstract when decorated with the keyword @abstractmethod**."
   ]
  },
  {
   "cell_type": "code",
   "execution_count": null,
   "metadata": {
    "colab": {
     "base_uri": "https://localhost:8080/"
    },
    "executionInfo": {
     "elapsed": 14,
     "status": "ok",
     "timestamp": 1706686567636,
     "user": {
      "displayName": "Venkat Shan",
      "userId": "06397932801350352783"
     },
     "user_tz": -330
    },
    "id": "Sytf1aPnO1oZ",
    "outputId": "727748b2-b71d-41c6-f804-e5e05b0519d7"
   },
   "outputs": [
    {
     "name": "stdout",
     "output_type": "stream",
     "text": [
      "I have 3 sides\n",
      "I have 4 sides\n",
      "I have 5 sides\n",
      "I have 6 sides\n"
     ]
    }
   ],
   "source": [
    "\n",
    "# Python program showing\n",
    "# abstract base class work\n",
    "from abc import ABC, abstractmethod\n",
    "\n",
    "\n",
    "class Polygon(ABC):\n",
    "\n",
    "    @abstractmethod\n",
    "    def noofsides(self):\n",
    "        pass\n",
    "\n",
    "class Triangle(Polygon):\n",
    "      # overriding abstract method\n",
    "    def noofsides(self):\n",
    "        print(\"I have 3 sides\")\n",
    "\n",
    "class Pentagon(Polygon):\n",
    "      # overriding abstract method\n",
    "    def noofsides(self):\n",
    "        print(\"I have 5 sides\")\n",
    "\n",
    "class Hexagon(Polygon):\n",
    "      # overriding abstract method\n",
    "    def noofsides(self):\n",
    "        print(\"I have 6 sides\")\n",
    "\n",
    "class Quadrilateral(Polygon):\n",
    "      # overriding abstract method\n",
    "    def noofsides(self):\n",
    "        print(\"I have 4 sides\")\n",
    "\n",
    "# Driver code\n",
    "R = Triangle()\n",
    "R.noofsides()\n",
    "\n",
    "K = Quadrilateral()\n",
    "K.noofsides()\n",
    "\n",
    "R = Pentagon()\n",
    "R.noofsides()\n",
    "\n",
    "K = Hexagon()\n",
    "K.noofsides()"
   ]
  },
  {
   "cell_type": "markdown",
   "metadata": {
    "id": "Mt-omBqqak5d"
   },
   "source": [
    "This code defines an abstract base class called “Polygon” using the ABC (Abstract Base Class) module in Python. The “Polygon” class has an abstract method called “noofsides” that **must needs to be implemented by its subclasses**.\n",
    "\n",
    "There are four subclasses of “Polygon” defined: “Triangle,” “Pentagon,” “Hexagon,” and “Quadrilateral.” Each of these subclasses overrides the “noofsides” method and **provides its own implementation** by printing the number of sides it has."
   ]
  },
  {
   "cell_type": "markdown",
   "metadata": {
    "id": "2uXc7AIAalfq"
   },
   "source": [
    ">> An abstract class is not a concrete class, **it cannot be instantiated(we can't create object for abstract class)**. When we create an object for the abstract class it raises an error(like : TypeError: Can't instantiate abstract class Animal with abstract methods move )."
   ]
  },
  {
   "cell_type": "code",
   "execution_count": null,
   "metadata": {
    "colab": {
     "base_uri": "https://localhost:8080/"
    },
    "executionInfo": {
     "elapsed": 13,
     "status": "ok",
     "timestamp": 1706686935349,
     "user": {
      "displayName": "Venkat Shan",
      "userId": "06397932801350352783"
     },
     "user_tz": -330
    },
    "id": "fzNcMQQucR8Y",
    "outputId": "398af1e3-89ea-4134-9754-e4cd71732c86"
   },
   "outputs": [
    {
     "name": "stdout",
     "output_type": "stream",
     "text": [
      "Can't instantiate abstract class parent with abstract method geeks\n",
      "child class\n"
     ]
    }
   ],
   "source": [
    "# Python program showing\n",
    "# abstract properties\n",
    "\n",
    "import abc\n",
    "from abc import ABC, abstractmethod\n",
    "\n",
    "class parent(ABC):\n",
    "    @abc.abstractproperty\n",
    "    def geeks(self):\n",
    "        return \"parent class\"\n",
    "class child(parent):\n",
    "\n",
    "    @property\n",
    "    def geeks(self):\n",
    "        return \"child class\"\n",
    "\n",
    "\n",
    "try:\n",
    "    r =parent()\n",
    "    print( r.geeks)\n",
    "except Exception as err:\n",
    "    print (err)\n",
    "\n",
    "r = child()\n",
    "print (r.geeks)"
   ]
  },
  {
   "cell_type": "code",
   "execution_count": null,
   "metadata": {
    "id": "VKMfwWR7d-uC"
   },
   "outputs": [],
   "source": []
  },
  {
   "cell_type": "markdown",
   "metadata": {
    "id": "DfpPfg8E5Lwz"
   },
   "source": [
    "## Python Closures:"
   ]
  },
  {
   "cell_type": "markdown",
   "metadata": {
    "id": "bNtQN4Ec8qAz"
   },
   "source": [
    "**Nested Functions:**"
   ]
  },
  {
   "cell_type": "markdown",
   "metadata": {
    "id": "BzTOH2C68oKO"
   },
   "source": [
    "A function that is defined inside another function is known as a nested function. Below you can find inner_function is nested function. These nested functions(in this case : inner_function) callable from it's outer function (or) a closure which contains outer function, not directly accessible from external call.\n",
    "\n",
    "> The variables inside outer function is called as **non-local variables**. Inner functions have acccess to it even after outer function finished executing."
   ]
  },
  {
   "cell_type": "markdown",
   "metadata": {
    "id": "PRgI9ZtQ9E7b"
   },
   "source": [
    "## Closures"
   ]
  },
  {
   "cell_type": "markdown",
   "metadata": {
    "id": "UZD9r9CQ1wSd"
   },
   "source": [
    "In simpler terms, a closure allows a function to remember and access the variables from its enclosing scope (the scope in which it was defined), even after the scope has finished executing."
   ]
  },
  {
   "cell_type": "code",
   "execution_count": null,
   "metadata": {
    "colab": {
     "base_uri": "https://localhost:8080/"
    },
    "executionInfo": {
     "elapsed": 11,
     "status": "ok",
     "timestamp": 1706979887930,
     "user": {
      "displayName": "Venkat Shan",
      "userId": "06397932801350352783"
     },
     "user_tz": -330
    },
    "id": "Eov6kTvx3P3h",
    "outputId": "d03dac8a-71f6-41f0-f853-be25bea61754"
   },
   "outputs": [
    {
     "name": "stdout",
     "output_type": "stream",
     "text": [
      "15\n"
     ]
    }
   ],
   "source": [
    "def outer_function(x):\n",
    "    def inner_function(y):\n",
    "        return x + y\n",
    "    return inner_function\n",
    "\n",
    "closure = outer_function(10)  # outer_function returns inner_function\n",
    "result = closure(5)  # we call inner_function through the closure\n",
    "print(result)  # Output: 15"
   ]
  },
  {
   "cell_type": "markdown",
   "metadata": {
    "id": "c4LOSLu87dyd"
   },
   "source": [
    "Here's a breakdown of lexical scope with respect to the example provided:\n",
    "\n",
    "**Outer Function Scope:** The x variable is defined within the outer_function. Any functions defined within outer_function (such as inner_function) have access to the variables defined in outer_function.\n",
    "\n",
    "**Inner Function Scope:** The inner_function is defined within outer_function, making it nested inside the scope of outer_function. As a result, inner_function has access to the variables defined in outer_function, including the x variable. This access to x is **facilitated by lexical scoping**.\n",
    "\n",
    "**Closure:** **When outer_function returns inner_function, it creates a closure.** A closure is formed when an inner function captures and retains access to variables from its enclosing scope (in this case, outer_function). The closure allows inner_function to continue referencing and using the variable x even after outer_function has finished executing."
   ]
  },
  {
   "cell_type": "markdown",
   "metadata": {
    "id": "mOhL6x3mvM8U"
   },
   "source": [
    "**Another Example of closure:**"
   ]
  },
  {
   "cell_type": "code",
   "execution_count": null,
   "metadata": {
    "colab": {
     "base_uri": "https://localhost:8080/"
    },
    "executionInfo": {
     "elapsed": 443,
     "status": "ok",
     "timestamp": 1707010254226,
     "user": {
      "displayName": "Venkat Shan",
      "userId": "06397932801350352783"
     },
     "user_tz": -330
    },
    "id": "xufA56ql7k-l",
    "outputId": "1a38a2c3-b276-4527-cbbd-f4016fd95ba1"
   },
   "outputs": [
    {
     "name": "stdout",
     "output_type": "stream",
     "text": [
      "6\n",
      "9\n",
      "5\n",
      "10\n"
     ]
    }
   ],
   "source": [
    "\n",
    "# Python program to illustrate\n",
    "# closures\n",
    "import logging\n",
    "logging.basicConfig(filename='example.log',\n",
    "                    level=logging.INFO)\n",
    "\n",
    " #logger is a higher-order function that takes another function func as its parameter.\n",
    "def logger(func):\n",
    "    def log_func(*args):\n",
    "        logging.info(\n",
    "            'Running \"{}\" with arguments {}'.format(func.__name__,\n",
    "                                                    args))\n",
    "        print(func(*args))\n",
    "\n",
    "    # Necessary for closure to\n",
    "    # work (returning WITHOUT parenthesis)\n",
    "    return log_func\n",
    "\n",
    "def add(x, y):\n",
    "    return x+y\n",
    "\n",
    "def sub(x, y):\n",
    "    return x-y\n",
    "\n",
    "add_logger = logger(add)\n",
    "sub_logger = logger(sub)\n",
    "\n",
    "add_logger(3, 3)\n",
    "add_logger(4, 5)\n",
    "\n",
    "sub_logger(10, 5)\n",
    "sub_logger(20, 10)"
   ]
  },
  {
   "cell_type": "markdown",
   "metadata": {
    "id": "cDniJ4zCvJOB"
   },
   "source": [
    "**Here exlain how add(x, y ) called when we didn't called any where with call add (x, y)?**\n",
    "\n",
    "**Answer :**\n",
    "In the provided code, the add function is indirectly called when you invoke add_logger or sub_logger, even though you don't explicitly call add or sub. This is due to the mechanism of closures and how they retain access to the original function (add or sub). Let's break down how add gets called indirectly:\n",
    "\n",
    "**Closure Creation:**\n",
    "When you create add_logger or sub_logger by passing add or sub to the logger function, you're essentially creating a closure. This closure retains access to the original function (add or sub) as a result of being defined within the scope of the logger function.\n",
    "\n",
    "**Logging Functionality:**\n",
    "Inside the logger function, there's an inner function named log_func. This function is what actually gets called when you invoke add_logger or sub_logger.\n",
    "\n",
    "**Calling the Original Function:**\n",
    "\n",
    "**Within log_func, after logging information about the function call in example.log file, the original function (add or sub) is called. This happens implicitly through the use of func(*args) inside log_func. Here, func refers to the original function (add or sub) that was passed to logger, and args contains the arguments passed to add_logger or sub_logger.**\n",
    "\n",
    "So, add() function passed as argument (func) to the  outer function. when we call **print(func(*args))**, this calls add(3,3) on the first function call.\n",
    "\n",
    "**Access to Original Function:**\n",
    "Crucially, log_func retains access to the original add or sub function due to the closure created when you called logger. Even though you're not directly calling add or sub, log_func can still access and execute them because it captures and retains a reference to them.\n",
    "\n",
    "In summary, when you invoke add_logger(3, 3) or sub_logger(10, 5), the log_func within the respective closure (add_logger or sub_logger) is executed. Inside log_func, the original function (add or sub) is called with the provided arguments. This indirect invocation of add or sub is facilitated by the closure mechanism, allowing for logging and execution of the original functions seamlessly within the closure."
   ]
  },
  {
   "cell_type": "markdown",
   "metadata": {
    "id": "pjfyzQ8q4zs2"
   },
   "source": [
    "**When and Why to Use Closures**\n",
    "1. As Python closures are used as callback functions, they provide some sort of data hiding. This helps us to reduce the use of global variables.\n",
    "\n",
    "2. When we have few functions in our code, closures in Python prove to be an efficient way. But if we need to have many functions, then go for class (OOP).\n",
    "\n",
    "3. We may have variables in the global scope that are not used by many functions at times. Instead of defining variables in global scope, consider using a closure. They can be defined in the outer function and used in the inner function. Python Closures are also useful for avoiding the use of a global scope.\n",
    "\n",
    "4. A class in the Python programming language always has the __init__ method. If you only have one extra method, an elegant solution would be to use a closure rather than a class. Because this improves code readability and even reduces the programmer’s workload. Closures in Python can thus be used to avoid the needless use of a class."
   ]
  },
  {
   "cell_type": "markdown",
   "metadata": {
    "id": "S5iQGHq2vcUB"
   },
   "source": [
    "## Higher Order Functions"
   ]
  },
  {
   "cell_type": "markdown",
   "metadata": {
    "id": "Q1ySJCyT3iVQ"
   },
   "source": [
    "Functions are objects we can pass them as arguments to other functions. Functions that can accept other functions as arguments are also called higher-order functions. In the example below, a function greet is created which takes a function as an argument."
   ]
  },
  {
   "cell_type": "code",
   "execution_count": null,
   "metadata": {
    "colab": {
     "base_uri": "https://localhost:8080/"
    },
    "executionInfo": {
     "elapsed": 13,
     "status": "ok",
     "timestamp": 1707062812193,
     "user": {
      "displayName": "Venkat Shan",
      "userId": "06397932801350352783"
     },
     "user_tz": -330
    },
    "id": "3vOf__iy3wFn",
    "outputId": "aebb8f6f-9444-476f-9b9d-39f89604715c"
   },
   "outputs": [
    {
     "name": "stdout",
     "output_type": "stream",
     "text": [
      "HI, I AM CREATED BY A FUNCTION PASSED AS AN ARGUMENT.\n",
      "hi, i am created by a function passed as an argument.\n"
     ]
    }
   ],
   "source": [
    "# Python program to illustrate functions\n",
    "# can be passed as arguments to other functions\n",
    "def shout(text):\n",
    "\treturn text.upper()\n",
    "\n",
    "def whisper(text):\n",
    "\treturn text.lower()\n",
    "\n",
    "def greet(func):\n",
    "\t# storing the function in a variable\n",
    "\tgreeting = func(\"Hi, I am created by a function passed as an argument.\")\n",
    "\tprint(greeting)\n",
    "\n",
    "greet(shout)\n",
    "greet(whisper)\n"
   ]
  },
  {
   "cell_type": "markdown",
   "metadata": {
    "id": "W1i2LkKH3x5d"
   },
   "source": [
    "## Wrapper function"
   ]
  },
  {
   "cell_type": "markdown",
   "metadata": {
    "id": "vKufC5JY4SYI"
   },
   "source": [
    "Wrapper function or decorator allows us to wrap another function in order to extend the behavior of the wrapped function, without permanently modifying it. In Decorators, functions are taken as the argument into another function and then called inside the wrapper function.\n",
    "\n",
    "Wrapper fucntion **provides additional functionality** before or after calling the inner function, modifies input or output, or provides a different interface to the inner function.\n",
    "\n",
    "Below is the example of a simple decorator."
   ]
  },
  {
   "cell_type": "code",
   "execution_count": null,
   "metadata": {
    "colab": {
     "base_uri": "https://localhost:8080/"
    },
    "executionInfo": {
     "elapsed": 964,
     "status": "ok",
     "timestamp": 1707063024016,
     "user": {
      "displayName": "Venkat Shan",
      "userId": "06397932801350352783"
     },
     "user_tz": -330
    },
    "id": "6FurwDYn4g5k",
    "outputId": "c9476943-3edf-4a6e-fd6c-252650d5151b"
   },
   "outputs": [
    {
     "name": "stdout",
     "output_type": "stream",
     "text": [
      "Hello, this is before function execution\n",
      "This is inside the function !!\n",
      "This is after function execution\n"
     ]
    }
   ],
   "source": [
    "# defining a decorator\n",
    "def hello_decorator(func):\n",
    "\n",
    "\t# inner1 is a Wrapper function in\n",
    "\t# which the argument is called\n",
    "\n",
    "\t# inner function can access the outer local\n",
    "\t# functions like in this case \"func\"\n",
    "\tdef inner1():\n",
    "\t\tprint(\"Hello, this is before function execution\")\n",
    "\n",
    "\t\t# calling the actual function now\n",
    "\t\t# inside the wrapper function.\n",
    "\t\tfunc()\n",
    "\n",
    "\t\tprint(\"This is after function execution\")\n",
    "\n",
    "\treturn inner1\n",
    "\n",
    "\n",
    "# defining a function, to be called inside wrapper\n",
    "def function_to_be_used():\n",
    "\tprint(\"This is inside the function !!\")\n",
    "\n",
    "\n",
    "# passing 'function_to_be_used' inside the\n",
    "# decorator to control its behavior\n",
    "function_to_be_used = hello_decorator(function_to_be_used)\n",
    "\n",
    "\n",
    "# calling the function\n",
    "function_to_be_used()\n"
   ]
  },
  {
   "cell_type": "markdown",
   "metadata": {
    "id": "hjO7EreM_hOb"
   },
   "source": [
    "## Explain the difference between nested function, wrapper, closure and decortors\n",
    "\n",
    "Nested Function, Wrapper, Closure, and Decorators are all related concepts in programming, especially in languages that support higher-order functions and functional programming paradigms like Python. However, they serve different purposes:\n",
    "\n",
    "**Nested Function:**\n",
    "* A nested function is a function defined within another function.\n",
    "* The inner function is scoped within the outer function and has access to the variables of the outer function's scope.\n",
    "* Nested functions are used for organizing code, reducing namespace pollution, and encapsulating functionality within a specific scope.\n",
    "* They are not necessarily wrappers; they might perform specific tasks within the outer function without necessarily wrapping another function.\n",
    "\n",
    "**Wrapper Function:**\n",
    "* A wrapper function is a function that encapsulates or \"wraps\" another function or piece of functionality.\n",
    "* It typically provides additional functionality before or after calling the inner function, modifies input or output, or provides a different interface to the inner function.\n",
    "* Wrapper functions can contain nested functions, but not all nested functions are wrapper functions.\n",
    "\n",
    "**Closure:**\n",
    "* A closure is a function that captures and remembers the environment in which it was created.\n",
    "* It has access to variables from its lexical scope even after the scope has finished executing.\n",
    "* Closures are often used to create functions with persistent local state or to create functions that \"remember\" values from their enclosing scope.\n",
    "* Closures are not necessarily nested functions or wrapper functions, but they can be implemented using nested functions.\n",
    "\n",
    "**Decorator:**\n",
    "* A decorator is a function that takes another function as input and returns a new function that usually extends or modifies the behavior of the original function.\n",
    "* Decorators are typically used to add functionality to functions without modifying their code directly.\n",
    "* They are often implemented using closures and/or wrapper functions.\n",
    "Decorators are a higher-level concept that can encompass the functionality of nested functions, wrapper functions, and closures.\n",
    "I\n",
    "n summary, while nested functions, wrapper functions, closures, and decorators are related concepts, they serve different purposes and can be used independently or in conjunction with each other depending on the requirements of the programming task."
   ]
  },
  {
   "cell_type": "code",
   "execution_count": null,
   "metadata": {
    "id": "WPr7t3jqX2mU"
   },
   "outputs": [],
   "source": []
  },
  {
   "cell_type": "markdown",
   "metadata": {
    "id": "rXzP4muZ9OPv"
   },
   "source": [
    "### ConfigBOX"
   ]
  },
  {
   "cell_type": "markdown",
   "metadata": {
    "id": "1C5PZARE9hzm"
   },
   "source": [
    "ConfigBox is a class. If we pass our dictionary to it's constructor, it will create the dictionary which will be accessible very easily."
   ]
  },
  {
   "cell_type": "code",
   "execution_count": 5,
   "metadata": {
    "executionInfo": {
     "elapsed": 2,
     "status": "ok",
     "timestamp": 1708792566819,
     "user": {
      "displayName": "Venkat Shan",
      "userId": "06397932801350352783"
     },
     "user_tz": -330
    },
    "id": "A7dVwsG5_8OG"
   },
   "outputs": [],
   "source": [
    "dict1 = {\n",
    "    'name': 'John',\n",
    "    'age': 30,\n",
    "    'city': 'New York'\n",
    "}"
   ]
  },
  {
   "cell_type": "code",
   "execution_count": 2,
   "metadata": {
    "colab": {
     "base_uri": "https://localhost:8080/",
     "height": 141
    },
    "executionInfo": {
     "elapsed": 6,
     "status": "error",
     "timestamp": 1708792489071,
     "user": {
      "displayName": "Venkat Shan",
      "userId": "06397932801350352783"
     },
     "user_tz": -330
    },
    "id": "NIRw8PCX9-Ce",
    "outputId": "96c9d82b-9536-469b-a37c-11659345e51e"
   },
   "outputs": [
    {
     "ename": "AttributeError",
     "evalue": "'dict' object has no attribute 'name'",
     "output_type": "error",
     "traceback": [
      "\u001b[0;31m---------------------------------------------------------------------------\u001b[0m",
      "\u001b[0;31mAttributeError\u001b[0m                            Traceback (most recent call last)",
      "\u001b[0;32m<ipython-input-2-e7dc373f7ba1>\u001b[0m in \u001b[0;36m<cell line: 1>\u001b[0;34m()\u001b[0m\n\u001b[0;32m----> 1\u001b[0;31m \u001b[0mconfig_dict\u001b[0m\u001b[0;34m.\u001b[0m\u001b[0mname\u001b[0m\u001b[0;34m\u001b[0m\u001b[0;34m\u001b[0m\u001b[0m\n\u001b[0m",
      "\u001b[0;31mAttributeError\u001b[0m: 'dict' object has no attribute 'name'"
     ]
    }
   ],
   "source": [
    "config_dict.name # we can't access the normal type dict value with format of key.value"
   ]
  },
  {
   "cell_type": "code",
   "execution_count": 6,
   "metadata": {
    "executionInfo": {
     "elapsed": 412,
     "status": "ok",
     "timestamp": 1708792570967,
     "user": {
      "displayName": "Venkat Shan",
      "userId": "06397932801350352783"
     },
     "user_tz": -330
    },
    "id": "k4SHwrEu-BBR"
   },
   "outputs": [],
   "source": [
    "from box import ConfigBox"
   ]
  },
  {
   "cell_type": "code",
   "execution_count": 9,
   "metadata": {
    "colab": {
     "base_uri": "https://localhost:8080/"
    },
    "executionInfo": {
     "elapsed": 3,
     "status": "ok",
     "timestamp": 1708792631837,
     "user": {
      "displayName": "Venkat Shan",
      "userId": "06397932801350352783"
     },
     "user_tz": -330
    },
    "id": "PYtsSsh4-OKP",
    "outputId": "d0ce227c-ef39-49cf-aacb-ce03e9416b53"
   },
   "outputs": [
    {
     "name": "stdout",
     "output_type": "stream",
     "text": [
      "John\n"
     ]
    }
   ],
   "source": [
    "config_dict= ConfigBox(dict1)\n",
    "print(config_dict.name) # we can access the normal type dict value with format of key.value"
   ]
  },
  {
   "cell_type": "markdown",
   "metadata": {
    "id": "_2p4ME8Q-3bR"
   },
   "source": [
    "It's giving more convenience to us when we are accessing configuration files (like yaml files ) easily."
   ]
  },
  {
   "cell_type": "markdown",
   "metadata": {
    "id": "CHkwKVRL_nAn"
   },
   "source": [
    "## Ensure annotations"
   ]
  },
  {
   "cell_type": "code",
   "execution_count": 18,
   "metadata": {
    "colab": {
     "base_uri": "https://localhost:8080/",
     "height": 36
    },
    "executionInfo": {
     "elapsed": 630,
     "status": "ok",
     "timestamp": 1708793310334,
     "user": {
      "displayName": "Venkat Shan",
      "userId": "06397932801350352783"
     },
     "user_tz": -330
    },
    "id": "b_ILvpx4A8e3",
    "outputId": "fef857a9-6614-45d1-bab5-0d8c60dcddb6"
   },
   "outputs": [
    {
     "data": {
      "application/vnd.google.colaboratory.intrinsic+json": {
       "type": "string"
      },
      "text/plain": [
       "'HiiHiiHiiHiiHiiHiiHiiHiiHiiHiiHiiHiiHiiHiiHiiHiiHiiHiiHiiHiiHiiHiiHii'"
      ]
     },
     "execution_count": 18,
     "metadata": {},
     "output_type": "execute_result"
    }
   ],
   "source": [
    "def sum (num1:int, num2:int) -> int:\n",
    "  return num1*num2\n",
    "\n",
    "sum (23, \"Hii\")# Accepting string and performing operating eventhough we defined function should accept and return int type values. we need ensure avoid doing this."
   ]
  },
  {
   "cell_type": "code",
   "execution_count": 15,
   "metadata": {
    "colab": {
     "base_uri": "https://localhost:8080/"
    },
    "executionInfo": {
     "elapsed": 10693,
     "status": "ok",
     "timestamp": 1708793237707,
     "user": {
      "displayName": "Venkat Shan",
      "userId": "06397932801350352783"
     },
     "user_tz": -330
    },
    "id": "EpqMd5vLAaPW",
    "outputId": "7e1a6d96-bea7-4274-8555-5e8ad2812797"
   },
   "outputs": [
    {
     "name": "stdout",
     "output_type": "stream",
     "text": [
      "Collecting ensure\n",
      "  Downloading ensure-1.0.4-py3-none-any.whl (15 kB)\n",
      "Requirement already satisfied: six>=1.11.0 in /usr/local/lib/python3.10/dist-packages (from ensure) (1.16.0)\n",
      "Installing collected packages: ensure\n",
      "Successfully installed ensure-1.0.4\n"
     ]
    }
   ],
   "source": [
    "!pip install ensure"
   ]
  },
  {
   "cell_type": "code",
   "execution_count": 22,
   "metadata": {
    "colab": {
     "base_uri": "https://localhost:8080/",
     "height": 297
    },
    "executionInfo": {
     "elapsed": 429,
     "status": "error",
     "timestamp": 1708793783041,
     "user": {
      "displayName": "Venkat Shan",
      "userId": "06397932801350352783"
     },
     "user_tz": -330
    },
    "id": "A4u62yzr_p8v",
    "outputId": "7b14bb02-5cff-432d-ffd0-926989ee7069"
   },
   "outputs": [
    {
     "ename": "EnsureError",
     "evalue": "Argument num2 of type <class 'str'> to <function sum at 0x7f9db2d864d0> does not match annotation type <class 'int'>",
     "output_type": "error",
     "traceback": [
      "\u001b[0;31m---------------------------------------------------------------------------\u001b[0m",
      "\u001b[0;31mEnsureError\u001b[0m                               Traceback (most recent call last)",
      "\u001b[0;32m<ipython-input-22-b3e0aea5f6fa>\u001b[0m in \u001b[0;36m<cell line: 6>\u001b[0;34m()\u001b[0m\n\u001b[1;32m      4\u001b[0m   \u001b[0;32mreturn\u001b[0m \u001b[0mnum1\u001b[0m\u001b[0;34m*\u001b[0m\u001b[0mnum2\u001b[0m\u001b[0;34m\u001b[0m\u001b[0;34m\u001b[0m\u001b[0m\n\u001b[1;32m      5\u001b[0m \u001b[0;34m\u001b[0m\u001b[0m\n\u001b[0;32m----> 6\u001b[0;31m \u001b[0msum\u001b[0m \u001b[0;34m(\u001b[0m\u001b[0;36m23\u001b[0m\u001b[0;34m,\u001b[0m \u001b[0;34m\"Hii\"\u001b[0m\u001b[0;34m)\u001b[0m \u001b[0;31m# You will get error here as you did get annotation matched\u001b[0m\u001b[0;34m\u001b[0m\u001b[0;34m\u001b[0m\u001b[0m\n\u001b[0m",
      "\u001b[0;32m/usr/local/lib/python3.10/dist-packages/ensure/main.py\u001b[0m in \u001b[0;36m__call__\u001b[0;34m(self, *args, **kwargs)\u001b[0m\n\u001b[1;32m    868\u001b[0m             \u001b[0;32mif\u001b[0m \u001b[0;32mnot\u001b[0m \u001b[0misinstance\u001b[0m\u001b[0;34m(\u001b[0m\u001b[0mvalue\u001b[0m\u001b[0;34m,\u001b[0m \u001b[0mtempl\u001b[0m\u001b[0;34m)\u001b[0m\u001b[0;34m:\u001b[0m\u001b[0;34m\u001b[0m\u001b[0;34m\u001b[0m\u001b[0m\n\u001b[1;32m    869\u001b[0m                 \u001b[0mmsg\u001b[0m \u001b[0;34m=\u001b[0m \u001b[0;34m\"Argument {arg} of type {valt} to {f} \"\u001b[0m \u001b[0;34m\"does not match annotation type {t}\"\u001b[0m\u001b[0;34m\u001b[0m\u001b[0;34m\u001b[0m\u001b[0m\n\u001b[0;32m--> 870\u001b[0;31m                 \u001b[0;32mraise\u001b[0m \u001b[0mEnsureError\u001b[0m\u001b[0;34m(\u001b[0m\u001b[0mmsg\u001b[0m\u001b[0;34m.\u001b[0m\u001b[0mformat\u001b[0m\u001b[0;34m(\u001b[0m\u001b[0marg\u001b[0m\u001b[0;34m=\u001b[0m\u001b[0marg\u001b[0m\u001b[0;34m,\u001b[0m \u001b[0mf\u001b[0m\u001b[0;34m=\u001b[0m\u001b[0mself\u001b[0m\u001b[0;34m.\u001b[0m\u001b[0mf\u001b[0m\u001b[0;34m,\u001b[0m \u001b[0mt\u001b[0m\u001b[0;34m=\u001b[0m\u001b[0mtempl\u001b[0m\u001b[0;34m,\u001b[0m \u001b[0mvalt\u001b[0m\u001b[0;34m=\u001b[0m\u001b[0mtype\u001b[0m\u001b[0;34m(\u001b[0m\u001b[0mvalue\u001b[0m\u001b[0;34m)\u001b[0m\u001b[0;34m)\u001b[0m\u001b[0;34m)\u001b[0m\u001b[0;34m\u001b[0m\u001b[0;34m\u001b[0m\u001b[0m\n\u001b[0m\u001b[1;32m    871\u001b[0m \u001b[0;34m\u001b[0m\u001b[0m\n\u001b[1;32m    872\u001b[0m         \u001b[0mreturn_val\u001b[0m \u001b[0;34m=\u001b[0m \u001b[0mself\u001b[0m\u001b[0;34m.\u001b[0m\u001b[0mf\u001b[0m\u001b[0;34m(\u001b[0m\u001b[0;34m*\u001b[0m\u001b[0margs\u001b[0m\u001b[0;34m,\u001b[0m \u001b[0;34m**\u001b[0m\u001b[0mkwargs\u001b[0m\u001b[0;34m)\u001b[0m\u001b[0;34m\u001b[0m\u001b[0;34m\u001b[0m\u001b[0m\n",
      "\u001b[0;31mEnsureError\u001b[0m: Argument num2 of type <class 'str'> to <function sum at 0x7f9db2d864d0> does not match annotation type <class 'int'>"
     ]
    }
   ],
   "source": [
    "from ensure import ensure_annotations\n",
    "@ensure_annotations\n",
    "def sum (num1:int, num2:int) -> int:\n",
    "  return num1*num2\n",
    "\n",
    "sum (23, \"Hii\") # You will get error here as you did get annotation matched\n"
   ]
  }
 ],
 "metadata": {
  "colab": {
   "provenance": []
  },
  "kernelspec": {
   "display_name": "chicken",
   "language": "python",
   "name": "python3"
  },
  "language_info": {
   "name": "python",
   "version": "3.12.1"
  }
 },
 "nbformat": 4,
 "nbformat_minor": 0
}
