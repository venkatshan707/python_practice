{
 "cells": [
  {
   "cell_type": "markdown",
   "metadata": {},
   "source": [
    "## Closures\n",
    "In simpler terms, a closure allows a function to remember and access the variables from its enclosing scope (the scope in which it was defined), even after the scope has finished executing."
   ]
  },
  {
   "cell_type": "code",
   "execution_count": 2,
   "metadata": {},
   "outputs": [
    {
     "name": "stdout",
     "output_type": "stream",
     "text": [
      "15\n"
     ]
    }
   ],
   "source": [
    "def outer_function(x):\n",
    "    def inner_function(y):\n",
    "        return x + y\n",
    "    return inner_function\n",
    "\n",
    "closure = outer_function(10)  \n",
    "\"\"\"Closures are created by capturing the return of the enclosing function. \n",
    "The closure doesn't explicitly contain the inner function, but \n",
    "it captures the necessary state(variables, bindings) to execute inner_function.\"\"\"\n",
    "\n",
    "\"\"\"Here we are calling inner_function after the enclosing function has finished executing/returned.\n",
    "Eventhough we can recall the value of x variable with help of closure\"\"\"\n",
    "\n",
    "result = closure(5)  \n",
    "# we call inner_function through the closure\n",
    "\n",
    "print(result)  # Output: 15\n"
   ]
  },
  {
   "cell_type": "code",
   "execution_count": 3,
   "metadata": {},
   "outputs": [
    {
     "name": "stdout",
     "output_type": "stream",
     "text": [
      "\n",
      "Tommy has 2 coins left.\n",
      "\n",
      "Tommy has 1 coin left.\n",
      "\n",
      "Jenny has 4 coins left.\n",
      "\n",
      "Tommy is out of coins.\n"
     ]
    }
   ],
   "source": [
    "# Closure is a function having access to the scope of its parent\n",
    "# function after the parent function has returned.\n",
    "\n",
    "def parent_function(person, coins):\n",
    "    # coins = 3\n",
    "\n",
    "    def play_game():\n",
    "        nonlocal coins\n",
    "        coins -= 1\n",
    "\n",
    "        if coins > 1:\n",
    "            print(\"\\n\" + person + \" has \" + str(coins) + \" coins left.\")\n",
    "        elif coins == 1:\n",
    "            print(\"\\n\" + person + \" has \" + str(coins) + \" coin left.\")\n",
    "        else:\n",
    "            print(\"\\n\" + person + \" is out of coins.\")\n",
    "\n",
    "    return play_game\n",
    "\n",
    "\n",
    "\n",
    "tommy = parent_function(\"Tommy\", 3)\n",
    "jenny = parent_function(\"Jenny\", 5)\n",
    "\n",
    "tommy()\n",
    "tommy()\n",
    "\n",
    "jenny()\n",
    "\n",
    "tommy()"
   ]
  }
 ],
 "metadata": {
  "kernelspec": {
   "display_name": "chicken",
   "language": "python",
   "name": "python3"
  },
  "language_info": {
   "codemirror_mode": {
    "name": "ipython",
    "version": 3
   },
   "file_extension": ".py",
   "mimetype": "text/x-python",
   "name": "python",
   "nbconvert_exporter": "python",
   "pygments_lexer": "ipython3",
   "version": "3.8.18"
  }
 },
 "nbformat": 4,
 "nbformat_minor": 2
}
