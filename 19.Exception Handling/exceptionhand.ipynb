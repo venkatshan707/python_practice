{
 "cells": [
  {
   "cell_type": "markdown",
   "metadata": {},
   "source": [
    "## Exceptions Handling\n",
    "Error in Python can be of two types i.e. 1. Syntax errors and 2. Exceptions. \n",
    "\n",
    "1. Syntax Error: Errors are problems in a program due to which the program will stop the execution. \n",
    "2. Exceptions: Exceptions are raised when some internal events occur which change the normal flow of the program. "
   ]
  },
  {
   "cell_type": "markdown",
   "metadata": {},
   "source": [
    "Please check here for various built in exceptions:\n",
    "https://www.w3schools.com/python/python_ref_exceptions.asp"
   ]
  },
  {
   "cell_type": "markdown",
   "metadata": {},
   "source": [
    "## **what is the use of Exception handling in real world scenario?**\n"
   ]
  },
  {
   "cell_type": "markdown",
   "metadata": {},
   "source": [
    "Exception handling in programming, including in Python, is essential for managing unexpected or exceptional situations that may occur during program execution. These exceptional situations could include errors, unexpected inputs, or other conditions that disrupt the normal flow of the program.\n",
    "\n",
    "Real-world scenarios where exception handling is crucial include:\n",
    "\n",
    "**1. Input Validation:** When accepting user input, such as from a web form or a file, it's crucial to validate that input to ensure it meets the expected format and constraints. Exception handling allows you to gracefully handle cases where the input is invalid or unexpected.\n",
    "\n",
    "**2. File Operations:** When reading from or writing to files, various issues can occur, such as missing files, permission errors, or unexpected file formats. Exception handling allows you to handle these situations and provide meaningful error messages to users.\n",
    "\n",
    "**3. Network Operations:** When working with network connections, exceptions can occur due to network errors, timeouts, or connection issues. Exception handling allows you to handle these situations and implement appropriate retry mechanisms or fallback behaviors.\n",
    "\n",
    "**4. Database Operations:** When interacting with databases, exceptions can occur due to connection failures, query errors, or concurrency issues. Exception handling allows you to handle these situations and implement error recovery strategies.\n",
    "\n",
    "**5. External API Calls:** When making requests to external APIs, exceptions can occur due to network errors, rate limiting, or invalid responses. Exception handling allows you to handle these situations and implement retry logic or fallback mechanisms.\n",
    "\n",
    "**6. Concurrency and Multithreading:** In concurrent or multithreaded programs, exceptions can occur due to race conditions, deadlocks, or other synchronization issues. Exception handling allows you to manage these situations and prevent the entire program from crashing.\n",
    "\n",
    "**7. Third-Party Libraries:** When using third-party libraries or modules, exceptions raised by those libraries need to be handled appropriately to prevent them from propagating up to the main program and causing crashes.\n",
    "\n",
    "In summary, exception handling is essential in real-world programming scenarios to ensure robustness, reliability, and graceful error recovery in the face of unexpected situations. It allows you to detect, handle, and recover from errors, ensuring that your programs behave predictably and provide a good user experience."
   ]
  },
  {
   "cell_type": "markdown",
   "metadata": {},
   "source": [
    "### Few Example of built in exceptions"
   ]
  },
  {
   "cell_type": "markdown",
   "metadata": {},
   "source": [
    "NameError: This exception is raised when a variable or function name is not found in the current scope"
   ]
  },
  {
   "cell_type": "code",
   "execution_count": 2,
   "metadata": {},
   "outputs": [
    {
     "ename": "NameError",
     "evalue": "name 'X' is not defined",
     "output_type": "error",
     "traceback": [
      "\u001b[1;31m---------------------------------------------------------------------------\u001b[0m",
      "\u001b[1;31mNameError\u001b[0m                                 Traceback (most recent call last)",
      "Cell \u001b[1;32mIn[2], line 1\u001b[0m\n\u001b[1;32m----> 1\u001b[0m \u001b[38;5;28mprint\u001b[39m(\u001b[43mX\u001b[49m)\n",
      "\u001b[1;31mNameError\u001b[0m: name 'X' is not defined"
     ]
    }
   ],
   "source": [
    "print(X)"
   ]
  },
  {
   "cell_type": "markdown",
   "metadata": {},
   "source": [
    "### Try and Except Statement – Catching Exceptions"
   ]
  },
  {
   "cell_type": "markdown",
   "metadata": {},
   "source": [
    "\n",
    "Try and except statements are used to catch and handle exceptions in Python. \n",
    "* Statements that can raise exceptions are kept inside the try clause and \n",
    "* The statements that handle the exception are written inside except clause."
   ]
  },
  {
   "cell_type": "code",
   "execution_count": 3,
   "metadata": {},
   "outputs": [
    {
     "name": "stdout",
     "output_type": "stream",
     "text": [
      "Error: cannot add an int and a str\n"
     ]
    }
   ],
   "source": [
    "  \n",
    "x = 5\n",
    "y = \"hello\"\n",
    "try:\n",
    "    z = x + y\n",
    "except TypeError:\n",
    "    print(\"Error: cannot add an int and a str\")"
   ]
  },
  {
   "cell_type": "markdown",
   "metadata": {},
   "source": [
    "In the above example, the statements that can cause the error are placed inside the try statement. You can't add int(5) with string(y)"
   ]
  },
  {
   "cell_type": "markdown",
   "metadata": {},
   "source": [
    "### Catching Specific Exception from Multiple Exception statements\n",
    "\n",
    "try:\n",
    "\n",
    "     statement(s)\n",
    "\n",
    "except IndexError:\n",
    "\n",
    "    statement(s)\n",
    "\n",
    "except ValueError:\n",
    "\n",
    "    statement(s)"
   ]
  },
  {
   "cell_type": "markdown",
   "metadata": {},
   "source": [
    "A try statement can have more than one except clause, to specify handlers for different exceptions. Please note that at most one handler will be executed. "
   ]
  },
  {
   "cell_type": "code",
   "execution_count": 9,
   "metadata": {},
   "outputs": [
    {
     "name": "stdout",
     "output_type": "stream",
     "text": [
      "you are getting a Zerodivision error or Name Error\n"
     ]
    }
   ],
   "source": [
    "def fun(a):\n",
    "    if a < 4:\n",
    " \n",
    "        b = a/(a-3)\n",
    "    print(\"Value of b = \", b)\n",
    "     \n",
    "try:\n",
    "    fun(3)\n",
    "    fun(5)\n",
    "# except ZeroDivisionError:\n",
    "#     print(\"ZeroDivisionError Occurred and Handled\")\n",
    "# except NameError:\n",
    "#     print(\"NameError Occurred and Handled\")\n",
    "except(ZeroDivisionError, NameError):\n",
    "    print(\"you are getting a Zerodivision error or Name Error\")"
   ]
  },
  {
   "cell_type": "markdown",
   "metadata": {},
   "source": [
    "The code defines a function ‘fun(a)' that calculates b based on the input a. If a is less than 4, it attempts a division by zero, causing a ‘ZeroDivisionError'. The code calls fun(3) and fun(5) inside a try-except block. It handles the ZeroDivisionError for fun(3) and prints “ZeroDivisionError Occurred and Handled.” The ‘NameError' block is not executed since there are no ‘NameError' exceptions in the code."
   ]
  },
  {
   "cell_type": "markdown",
   "metadata": {},
   "source": [
    "If you comment on the line fun(3), the output will be \n",
    "\n",
    ">NameError Occurred and Handled"
   ]
  },
  {
   "cell_type": "markdown",
   "metadata": {},
   "source": [
    "### Try with Else Clause\n",
    "In Python, you can also use the else clause on the try-except block which must be present after all the except clauses. **The code enters the else block only if the try clause does not raise an exception**."
   ]
  },
  {
   "cell_type": "code",
   "execution_count": 5,
   "metadata": {},
   "outputs": [
    {
     "name": "stdout",
     "output_type": "stream",
     "text": [
      "-5.0\n",
      "a/b result in 0\n"
     ]
    }
   ],
   "source": [
    "   \n",
    "def AbyB(a , b):\n",
    "    try:\n",
    "        c = ((a+b) / (a-b))\n",
    "    except ZeroDivisionError:\n",
    "        print (\"a/b result in 0\")\n",
    "    else:\n",
    "        print (c)\n",
    "AbyB(2.0, 3.0)# This rejects exception and execute else\n",
    "AbyB(3.0, 3.0)# This hitting exception"
   ]
  },
  {
   "cell_type": "markdown",
   "metadata": {},
   "source": [
    "### Finally Keyword in Python\n",
    "Python provides a keyword finally, which is always executed after the try and except blocks. The final block always executes after the normal termination of the try block or after the try block terminates due to some exception."
   ]
  },
  {
   "cell_type": "code",
   "execution_count": 6,
   "metadata": {},
   "outputs": [
    {
     "name": "stdout",
     "output_type": "stream",
     "text": [
      "Can't divide by zero\n",
      "This is always executed\n"
     ]
    }
   ],
   "source": [
    "try:\n",
    "    k = 5//0\n",
    "    print(k)\n",
    " \n",
    "except ZeroDivisionError:\n",
    "    print(\"Can't divide by zero\")\n",
    " \n",
    "finally:\n",
    "    print('This is always executed')"
   ]
  },
  {
   "cell_type": "markdown",
   "metadata": {},
   "source": [
    "## User-Defined Exception in Python:\n",
    "**Exceptions need to be derived from the Exception class**, either directly or indirectly. Although not mandatory, most of the exceptions are named as names that end in “Error” similar to the naming of the standard exceptions in python. "
   ]
  },
  {
   "cell_type": "code",
   "execution_count": 11,
   "metadata": {},
   "outputs": [
    {
     "name": "stdout",
     "output_type": "stream",
     "text": [
      "A New Exception occurred:  6\n"
     ]
    }
   ],
   "source": [
    "# A python program to create user-defined exception\n",
    "# class MyError is derived from super class Exception\n",
    "class MyErrorEx(Exception):\n",
    "\n",
    "\t# Constructor or Initializer\n",
    "\tdef __init__(self, value):\n",
    "\t\tself.value = value\n",
    "\n",
    "\t# __str__ is to print() the value\n",
    "\tdef __str__(self):\n",
    "\t\treturn(repr(self.value))\n",
    "\n",
    "\n",
    "try:\n",
    "\traise(MyErrorEx(3*2))\n",
    "\n",
    "# Value of Exception is stored in error\n",
    "except MyErrorEx as error:\n",
    "\tprint('A New Exception occurred: ', error.value)\n"
   ]
  },
  {
   "cell_type": "markdown",
   "metadata": {},
   "source": [
    "The above code tells how to create a single user defined Exception.  \n",
    "## Multiple user -defined Exceptios:\n",
    "Superclass Exceptions are created when a module needs to handle several distinct errors. One of the common ways of doing this is to create a base class for exceptions defined by that module. Further, various subclasses are defined to create specific exception classes for different error conditions.\n",
    "Below is an example code demonstrating how to create multiple user-defined exceptions in Python:"
   ]
  },
  {
   "cell_type": "code",
   "execution_count": 14,
   "metadata": {},
   "outputs": [],
   "source": [
    "# class CustomError is derived from super class Exception\n",
    "class CustomError(Exception):\n",
    "    pass\n",
    "\n",
    "class InputError(CustomError):\n",
    "    def __init__(self, message):\n",
    "        self.message = message\n",
    "        #Literally using Hybrid Inheritance\n",
    "# using Multilevel inheritance : Exception (base class), CustomError immediate base class, and InputError, validation error(child classes)\n",
    "# using Multiple Inheritance- base class (CustomError): child classes are InputError and ValidationError\n",
    "class ValidationError(CustomError):\n",
    "    def __init__(self, message):\n",
    "        self.message = message\n",
    "\n",
    "# Example function raising custom exceptions\n",
    "def validate_input(input_data):\n",
    "    if not input_data:\n",
    "        raise InputError(\"Input data cannot be empty\")\n",
    "    if len(input_data) < 3:\n",
    "        raise ValidationError(\"Input data must be at least 3 characters long\")\n",
    "\n",
    "# Example usage\n",
    "try:\n",
    "    user_input = input(\"Enter some data: \")\n",
    "    validate_input(user_input)\n",
    "except InputError as e:\n",
    "    print(\"InputError:\", e.message)\n",
    "except ValidationError as e:\n",
    "    print(\"ValidationError:\", e.message)\n",
    "except CustomError as e:\n",
    "    print(\"CustomError:\", e.message)\n",
    "except Exception as e:\n",
    "    print(\"An unexpected error occurred:\", e)\n"
   ]
  },
  {
   "cell_type": "markdown",
   "metadata": {},
   "source": [
    "In this code:\n",
    "\n",
    "* CustomError is a base custom exception class.\n",
    "* InputError and ValidationError are derived from CustomError, each representing a specific type of error with its own message.\n",
    "* The validate_input function checks the validity of input data and raises InputError or ValidationError if the input is invalid.\n",
    "* In the try block, we call validate_input with user input, catching specific custom exceptions and printing their messages."
   ]
  },
  {
   "cell_type": "code",
   "execution_count": 1,
   "metadata": {},
   "outputs": [
    {
     "name": "stdout",
     "output_type": "stream",
     "text": [
      "Only strings are allowed.\n",
      "I'm going to print with or without an error.\n"
     ]
    }
   ],
   "source": [
    "x = 2\n",
    "try:       \n",
    "    if not type(x) is str:\n",
    "        raise TypeError(\"Only strings are allowed.\")\n",
    "except NameError:\n",
    "    print('NameError means something is probably undefined.')\n",
    "except ZeroDivisionError:\n",
    "    print('Please do not divide by zero.')\n",
    "except Exception as error: #built-in error catched here\n",
    "    print(error)\n",
    "else:\n",
    "    print('No errors!')\n",
    "finally:\n",
    "    print(\"I'm going to print with or without an error.\")"
   ]
  },
  {
   "cell_type": "code",
   "execution_count": 4,
   "metadata": {},
   "outputs": [
    {
     "name": "stdout",
     "output_type": "stream",
     "text": [
      "This just isn't cool, man.\n",
      "I'm going to print with or without an error.\n"
     ]
    }
   ],
   "source": [
    "class JustNotCoolError(Exception):\n",
    "    pass\n",
    "\n",
    "\n",
    "x = 2\n",
    "try:\n",
    "    raise JustNotCoolError(\"This just isn't cool, man.\")\n",
    "    \n",
    "except NameError:\n",
    "    print('NameError means something is probably undefined.')\n",
    "\n",
    "except Exception as error: # When raising error(JustNotCoolError), if we are specifically mentioning exception block for that error, \n",
    "    #it will be catched by general exception. \n",
    "\n",
    "#If you comment above to two lines, then you are raising JustNotCoolError but as there is no exception block catch, it will through error in command prompt. \n",
    "\n",
    "    print(error)\n",
    "else:\n",
    "    print('No errors!')\n",
    "finally:\n",
    "    print(\"I'm going to print with or without an error.\")"
   ]
  },
  {
   "cell_type": "markdown",
   "metadata": {},
   "source": [
    "#### **can we say except block helping us to perform some action rather than stopping the program and raising error in command prompt ?**"
   ]
  },
  {
   "cell_type": "markdown",
   "metadata": {},
   "source": [
    "Yes, that's a good way to think about the purpose of the except block in Python's exception handling mechanism. While the primary role of exception handling is to catch and handle errors, it also allows you to perform specific actions or implement fallback behaviors in response to those errors, rather than simply stopping the program and raising an error traceback.\n",
    "\n",
    "Here are some actions you can perform in an except block:\n",
    "\n",
    "**Logging**: You can log the error message or relevant information to a log file for debugging purposes.\n",
    "\n",
    "**Graceful Error Handling**: You can provide a user-friendly error message or perform alternative actions to gracefully handle the error without crashing the program.\n",
    "\n",
    "**Retry Logic**: You can implement retry logic to attempt the failed operation again, either immediately or after a delay.\n",
    "\n",
    "**Fallback Behavior**: You can provide fallback behavior or default values when an error occurs, ensuring that the program can continue executing despite the error.\n",
    "\n",
    "**Cleanup Operations**: You can perform cleanup operations, such as closing files or releasing resources, before exiting the program.\n",
    "\n",
    "By using except blocks effectively, you can make your programs more robust and resilient to errors, providing a better user experience and ensuring that critical operations can continue even in the face of unexpected circumstances."
   ]
  }
 ],
 "metadata": {
  "kernelspec": {
   "display_name": "chicken",
   "language": "python",
   "name": "python3"
  },
  "language_info": {
   "codemirror_mode": {
    "name": "ipython",
    "version": 3
   },
   "file_extension": ".py",
   "mimetype": "text/x-python",
   "name": "python",
   "nbconvert_exporter": "python",
   "pygments_lexer": "ipython3",
   "version": "3.11.5"
  }
 },
 "nbformat": 4,
 "nbformat_minor": 2
}
