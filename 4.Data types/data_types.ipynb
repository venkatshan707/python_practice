{
 "cells": [
  {
   "cell_type": "code",
   "execution_count": 2,
   "metadata": {},
   "outputs": [
    {
     "name": "stdout",
     "output_type": "stream",
     "text": [
      "<class 'str'>\n",
      "<class 'int'>\n",
      "<class 'float'>\n",
      "<class 'int'>\n",
      "<class 'float'>\n"
     ]
    }
   ],
   "source": [
    "Name=\"venkat\"\n",
    "age= 23\n",
    "height=5.7\n",
    "phone=886677889976784\n",
    "ran_num =3774748383435358.857855\n",
    "print(type(Name))\n",
    "print(type(age))\n",
    "print(type(height))\n",
    "print(type(phone))\n",
    "print(type(ran_num))"
   ]
  },
  {
   "cell_type": "markdown",
   "metadata": {},
   "source": [
    "## String data type and Methods with it:"
   ]
  },
  {
   "cell_type": "code",
   "execution_count": 3,
   "metadata": {},
   "outputs": [
    {
     "name": "stdout",
     "output_type": "stream",
     "text": [
      "<class 'type'>\n",
      "True\n",
      "True\n"
     ]
    }
   ],
   "source": [
    "print(type(str))\n",
    "print(type(Name)==str)\n",
    "print(isinstance(Name, str))\n",
    "# It's says Name is Instance of str class,"
   ]
  },
  {
   "cell_type": "code",
   "execution_count": 4,
   "metadata": {},
   "outputs": [
    {
     "name": "stdout",
     "output_type": "stream",
     "text": [
      "True\n",
      "True\n"
     ]
    }
   ],
   "source": [
    "#Construcutor Function\n",
    "Person_name=str(\"Venkat\")#using String class's Construcutor Function\n",
    "print(type(Person_name)==str)\n",
    "print(isinstance(Person_name, str))\n",
    "# It's says Person_name is Instance of str class"
   ]
  },
  {
   "cell_type": "code",
   "execution_count": 5,
   "metadata": {},
   "outputs": [
    {
     "name": "stdout",
     "output_type": "stream",
     "text": [
      "<class 'str'>\n"
     ]
    }
   ],
   "source": [
    "#Casting \n",
    "decade = str(1998)\n",
    "print(type(decade))"
   ]
  },
  {
   "cell_type": "code",
   "execution_count": 6,
   "metadata": {},
   "outputs": [
    {
     "name": "stdout",
     "output_type": "stream",
     "text": [
      "I like the rock music from 1998\n"
     ]
    }
   ],
   "source": [
    "print(f\"I like the rock music from {decade}\")"
   ]
  },
  {
   "cell_type": "code",
   "execution_count": 7,
   "metadata": {},
   "outputs": [
    {
     "name": "stdout",
     "output_type": "stream",
     "text": [
      "Hi Commander !!\n",
      "Good Day, \n",
      "     How can I help you ?\n",
      "\n"
     ]
    }
   ],
   "source": [
    "multiline= \"\"\"Hi Commander !!\n",
    "Good Day, \n",
    "     How can I help you ?\n",
    "\"\"\"\n",
    "print(multiline)"
   ]
  },
  {
   "cell_type": "code",
   "execution_count": 8,
   "metadata": {},
   "outputs": [
    {
     "name": "stdout",
     "output_type": "stream",
     "text": [
      "Hi this is venkat's Code. Escapped single quotes with backslash\n",
      "\n",
      "\n",
      "\n",
      "Here we are using tab space \t and newline  \n",
      " in venkat's code\n"
     ]
    }
   ],
   "source": [
    "#Escaping special Character with \"\\\". Escapped single quotes with \\\n",
    "print('Hi this is venkat\\'s Code. '+ \"Escapped single quotes with backslash\")\n",
    "print(\"\\n\\n\")\n",
    "print(\"Here we are using tab space \\t and newline  \\n in venkat\\'s code\")"
   ]
  },
  {
   "cell_type": "markdown",
   "metadata": {},
   "source": [
    "### String Methods \n"
   ]
  },
  {
   "cell_type": "code",
   "execution_count": 9,
   "metadata": {},
   "outputs": [
    {
     "name": "stdout",
     "output_type": "stream",
     "text": [
      "venkat\n",
      "venkat\n",
      "VENKAT\n",
      "venkat\n"
     ]
    }
   ],
   "source": [
    "#lower and upper\n",
    "print(Name)\n",
    "print(Name.lower())\n",
    "print(Name.upper())\n",
    "print(Name)"
   ]
  },
  {
   "cell_type": "code",
   "execution_count": 10,
   "metadata": {},
   "outputs": [
    {
     "name": "stdout",
     "output_type": "stream",
     "text": [
      "Hi Commander !!\n",
      "Good Day, \n",
      "     How Can I Help You ?\n",
      "\n",
      "Hi Commander !!\n",
      "Nice Day, \n",
      "     How can I help you ?\n",
      "\n"
     ]
    }
   ],
   "source": [
    "print(multiline.title())# convertsall the first letter  of words as captial\n",
    "print(multiline.replace(\"Good\", \"Nice\"))#replace method is case sensitive"
   ]
  },
  {
   "cell_type": "code",
   "execution_count": 11,
   "metadata": {},
   "outputs": [
    {
     "name": "stdout",
     "output_type": "stream",
     "text": [
      "53\n",
      "71\n",
      "         Hi Commander !!\n",
      "Good Day, \n",
      "     How can I help you ?\n",
      "         \n"
     ]
    }
   ],
   "source": [
    "print(len(multiline))\n",
    "multiline+=\"         \"\n",
    "multiline= \"         \"+multiline\n",
    "print(len(multiline))\n",
    "print(multiline)"
   ]
  },
  {
   "cell_type": "code",
   "execution_count": 12,
   "metadata": {},
   "outputs": [
    {
     "name": "stdout",
     "output_type": "stream",
     "text": [
      "         Hi Commander !!\n",
      "Good Day, \n",
      "     How can I help you ?\n",
      "         \n"
     ]
    }
   ],
   "source": [
    "print(multiline)"
   ]
  },
  {
   "cell_type": "markdown",
   "metadata": {},
   "source": [
    "lstrip and rstrip methods"
   ]
  },
  {
   "cell_type": "code",
   "execution_count": 18,
   "metadata": {},
   "outputs": [
    {
     "name": "stdout",
     "output_type": "stream",
     "text": [
      "Hi Commander !!\n",
      "Good Day, \n",
      "     How can I help you ?\n",
      "\n",
      "Only striing on the left spaces:\n",
      "Hi Commander !!\n",
      "Good Day, \n",
      "     How can I help you ?\n",
      "         \n",
      "\n",
      "Only striing on the right spaces:\n",
      "         Hi Commander !!\n",
      "Good Day, \n",
      "     How can I help you ?\n"
     ]
    }
   ],
   "source": [
    "print(multiline.strip()+\"\\n\")\n",
    "print(\"Only striing on the left spaces:\\n\"+ multiline.lstrip())\n",
    "print(\"\\nOnly striing on the right spaces:\\n\"+multiline.rstrip())"
   ]
  },
  {
   "cell_type": "markdown",
   "metadata": {},
   "source": [
    "Build a Meanu with center, ljust and rjust"
   ]
  },
  {
   "cell_type": "code",
   "execution_count": 4,
   "metadata": {},
   "outputs": [
    {
     "name": "stdout",
     "output_type": "stream",
     "text": [
      "========Meau========\n",
      "Coffee..........  $1\n",
      "Muffin..........  $2\n",
      "Waffle..........  $3\n"
     ]
    }
   ],
   "source": [
    "\n",
    "print(\"Meau\".center(20, \"=\"))\n",
    "#left-justifies the string within a specified width by padding it with specified characters on the right\n",
    "\n",
    "# string + speacified character will be printed for 16 characters. Mentioned string in left.\n",
    "print(\"Coffee\".ljust(16, \".\")+\"$1\".rjust(4))\n",
    "print(\"Muffin\".ljust(16, \".\")+\"$2\".rjust(4))\n",
    "print(\"Waffle\".ljust(16, \".\")+\"$3\".rjust(4))\n"
   ]
  },
  {
   "cell_type": "markdown",
   "metadata": {},
   "source": [
    "String Indexing and slicing"
   ]
  },
  {
   "cell_type": "code",
   "execution_count": 39,
   "metadata": {},
   "outputs": [
    {
     "name": "stdout",
     "output_type": "stream",
     "text": [
      "venkat\n",
      "v e t\n",
      "nkat \n",
      "enk\n"
     ]
    }
   ],
   "source": [
    "\n",
    "print (Name)\n",
    "print(Name[0]+\" \" #String Indexing starts from zero\n",
    "      +(Name[1])+ \" \" \n",
    "      +Name[-1])# -1 specifies the last character\n",
    "\n",
    "print(Name[2:]+\" \\n\" #Starting from 2 indexed characters and printing rest\n",
    "      +Name[1:-2]# staring from 1st index and from the last 2nd index  \n",
    "      \n",
    "      )\n"
   ]
  },
  {
   "cell_type": "code",
   "execution_count": 41,
   "metadata": {},
   "outputs": [
    {
     "name": "stdout",
     "output_type": "stream",
     "text": [
      "True\n",
      "False\n"
     ]
    }
   ],
   "source": [
    "#startwith and endswith\n",
    "print (\"Dog\".startswith(\"D\"))\n",
    "print (\"Dog\".endswith(\"a\"))"
   ]
  },
  {
   "cell_type": "code",
   "execution_count": 1,
   "metadata": {},
   "outputs": [
    {
     "name": "stdout",
     "output_type": "stream",
     "text": [
      "capitalize(): Hello, world!\n",
      "casefold(): hello, world!\n",
      "center(): ***hello, world!****\n",
      "count('l'): 3\n",
      "encode(): b'hello, world!'\n",
      "endswith('world!'): True\n",
      "expandtabs(): hello   world\n",
      "find('l'): 2\n",
      "format(): My name is Alice and I am 30 years old.\n",
      "format_map(): My name is Bob and I am 25 years old.\n",
      "index('l'): 2\n",
      "isalnum(): False\n",
      "isalpha(): False\n",
      "isascii(): True\n",
      "isdecimal(): True\n",
      "isdigit(): True\n",
      "isidentifier(): False\n",
      "islower(): True\n",
      "isnumeric(): True\n",
      "isprintable(): True\n",
      "isspace(): True\n",
      "istitle(): True\n",
      "isupper(): True\n",
      "join(): hello-world-python\n",
      "ljust(): hello, world!*******\n",
      "lower(): hello, world!\n",
      "lstrip(): hello   \n",
      "maketrans(): h2ll4, w4rld!\n",
      "partition(','):  ('hello', ',', ' world!')\n",
      "replace('world', 'Python'): hello, Python!\n",
      "rfind('l'): 10\n",
      "rindex('l'): 10\n",
      "rjust(): *******hello, world!\n",
      "rpartition(','):  ('hello', ',', ' world!')\n",
      "rsplit(','):  ['hello', ' world!']\n",
      "rstrip():    hello\n",
      "split(','):  ['hello', ' world!']\n",
      "splitlines(): ['Hello,', 'World!', 'Python']\n",
      "startswith('hello'): True\n",
      "strip(): hello\n",
      "swapcase(): HELLO, WORLD!\n",
      "title(): Hello, World!\n"
     ]
    }
   ],
   "source": [
    "# Define a sample string for demonstration\n",
    "sample_string = \"hello, world!\"\n",
    "\n",
    "# 1. capitalize(): Converts the first character of the string to uppercase\n",
    "print(\"capitalize():\", sample_string.capitalize())\n",
    "\n",
    "# 2. casefold(): Returns a lowercase version of the string with special characters handled appropriately\n",
    "print(\"casefold():\", sample_string.casefold())\n",
    "\n",
    "# 3. center(width, fillchar): Centers the string within a given width, padding it with fillchar on both sides\n",
    "print(\"center():\", sample_string.center(20, '*'))\n",
    "\n",
    "# 4. count(substring): Counts the occurrences of a substring in the string\n",
    "print(\"count('l'):\", sample_string.count('l'))\n",
    "\n",
    "# 5. encode(encoding): Encodes the string using the specified encoding\n",
    "print(\"encode():\", sample_string.encode())\n",
    "\n",
    "# 6. endswith(suffix): Checks if the string ends with a specified suffix\n",
    "print(\"endswith('world!'):\", sample_string.endswith('world!'))\n",
    "\n",
    "# 7. expandtabs(tabsize): Expands tabs in the string to spaces based on the tab size\n",
    "tabbed_string = \"hello\\tworld\"\n",
    "print(\"expandtabs():\", tabbed_string.expandtabs(4))\n",
    "\n",
    "# 8. find(substring): Finds the lowest index of a substring in the string\n",
    "print(\"find('l'):\", sample_string.find('l'))\n",
    "\n",
    "# 9. format(*args, **kwargs): Formats the string using positional and keyword arguments\n",
    "name = \"Alice\"\n",
    "age = 30\n",
    "print(\"format():\", \"My name is {} and I am {} years old.\".format(name, age))\n",
    "\n",
    "# 10. format_map(mapping): Formats the string using a mapping object\n",
    "info = {'name': 'Bob', 'age': 25}\n",
    "print(\"format_map():\", \"My name is {name} and I am {age} years old.\".format_map(info))\n",
    "\n",
    "# 11. index(substring): Returns the lowest index of a substring in the string\n",
    "print(\"index('l'):\", sample_string.index('l'))\n",
    "\n",
    "# 12. isalnum(): Checks if all characters in the string are alphanumeric\n",
    "print(\"isalnum():\", sample_string.isalnum())\n",
    "\n",
    "# 13. isalpha(): Checks if all characters in the string are alphabetic\n",
    "print(\"isalpha():\", sample_string.isalpha())\n",
    "\n",
    "# 14. isascii(): Checks if all characters in the string are ASCII characters\n",
    "print(\"isascii():\", sample_string.isascii())\n",
    "\n",
    "# 15. isdecimal(): Checks if all characters in the string are decimal characters\n",
    "numeric_string = \"12345\"\n",
    "print(\"isdecimal():\", numeric_string.isdecimal())\n",
    "\n",
    "# 16. isdigit(): Checks if all characters in the string are digits\n",
    "print(\"isdigit():\", numeric_string.isdigit())\n",
    "\n",
    "# 17. isidentifier(): Checks if the string is a valid Python identifier\n",
    "print(\"isidentifier():\", sample_string.isidentifier())\n",
    "\n",
    "# 18. islower(): Checks if all cased characters in the string are lowercase\n",
    "print(\"islower():\", sample_string.islower())\n",
    "\n",
    "# 19. isnumeric(): Checks if all characters in the string are numeric\n",
    "print(\"isnumeric():\", numeric_string.isnumeric())\n",
    "\n",
    "# 20. isprintable(): Checks if all characters in the string are printable\n",
    "print(\"isprintable():\", sample_string.isprintable())\n",
    "\n",
    "# 21. isspace(): Checks if all characters in the string are whitespace\n",
    "whitespace_string = \"   \"\n",
    "print(\"isspace():\", whitespace_string.isspace())\n",
    "\n",
    "# 22. istitle(): Checks if the string is in title case\n",
    "title_string = \"Hello, World!\"\n",
    "print(\"istitle():\", title_string.istitle())\n",
    "\n",
    "# 23. isupper(): Checks if all cased characters in the string are uppercase\n",
    "uppercase_string = \"HELLO, WORLD!\"\n",
    "print(\"isupper():\", uppercase_string.isupper())\n",
    "\n",
    "# 24. join(iterable): Joins elements of an iterable using the string as a separator\n",
    "list_of_words = ['hello', 'world', 'python']\n",
    "print(\"join():\", '-'.join(list_of_words))\n",
    "\n",
    "# 25. ljust(width, fillchar): Left-justifies the string within a given width, padding it with fillchar\n",
    "print(\"ljust():\", sample_string.ljust(20, '*'))\n",
    "\n",
    "# 26. lower(): Converts the string to lowercase\n",
    "print(\"lower():\", sample_string.lower())\n",
    "\n",
    "# 27. lstrip(characters): Removes leading characters from the string\n",
    "whitespace_string = \"   hello   \"\n",
    "print(\"lstrip():\", whitespace_string.lstrip())\n",
    "\n",
    "# 28. maketrans(): Creates a translation table for translate() method\n",
    "translation_table = str.maketrans('aeiou', '12345')\n",
    "print(\"maketrans():\", sample_string.translate(translation_table))\n",
    "\n",
    "# 29. partition(sep): Splits the string at the first occurrence of a separator and returns a tuple\n",
    "print(\"partition(','): \", sample_string.partition(\",\"))\n",
    "\n",
    "# 30. replace(old, new): Replaces occurrences of a substring with another substring\n",
    "print(\"replace('world', 'Python'):\", sample_string.replace('world', 'Python'))\n",
    "\n",
    "# 31. rfind(substring): Finds the highest index of a substring in the string\n",
    "print(\"rfind('l'):\", sample_string.rfind('l'))\n",
    "\n",
    "# 32. rindex(substring): Finds the highest index of a substring in the string\n",
    "print(\"rindex('l'):\", sample_string.rindex('l'))\n",
    "\n",
    "# 33. rjust(width, fillchar): Right-justifies the string within a given width, padding it with fillchar\n",
    "print(\"rjust():\", sample_string.rjust(20, '*'))\n",
    "\n",
    "# 34. rpartition(sep): Splits the string at the last occurrence of a separator and returns a tuple\n",
    "print(\"rpartition(','): \", sample_string.rpartition(\",\"))\n",
    "\n",
    "# 35. rsplit(sep): Splits the string into a list from the right, using a separator\n",
    "print(\"rsplit(','): \", sample_string.rsplit(\",\"))\n",
    "\n",
    "# 36. rstrip(characters): Removes trailing characters from the string\n",
    "whitespace_string = \"   hello   \"\n",
    "print(\"rstrip():\", whitespace_string.rstrip())\n",
    "\n",
    "# 37. split(sep): Splits the string into a list using a separator\n",
    "print(\"split(','): \", sample_string.split(\",\"))\n",
    "\n",
    "# 38. splitlines(keepends): Splits the string at line breaks and returns a list of lines\n",
    "multiline_string = \"Hello,\\nWorld!\\nPython\\n\"\n",
    "print(\"splitlines():\", multiline_string.splitlines())\n",
    "\n",
    "# 39. startswith(prefix): Checks if the string starts with a specified prefix\n",
    "print(\"startswith('hello'):\", sample_string.startswith('hello'))\n",
    "\n",
    "# 40. strip(characters): Removes leading and trailing characters from the string\n",
    "whitespace_string = \"   hello   \"\n",
    "print(\"strip():\", whitespace_string.strip())\n",
    "\n",
    "# 41. swapcase(): Swaps the case of the characters in the string\n",
    "print(\"swapcase():\", sample_string.swapcase())\n",
    "\n",
    "# 42. title(): Converts the string to title case\n",
    "print(\"title():\", sample_string.title())\n",
    "\n",
    "# 43. translate(table): Translates the string using a translation table\n",
    "translation_table = str.maketrans('aeiou', '12345')\n"
   ]
  },
  {
   "cell_type": "markdown",
   "metadata": {},
   "source": [
    "## Boolean Methods"
   ]
  },
  {
   "cell_type": "code",
   "execution_count": 3,
   "metadata": {},
   "outputs": [
    {
     "name": "stdout",
     "output_type": "stream",
     "text": [
      "<class 'bool'>\n",
      "True\n"
     ]
    }
   ],
   "source": [
    "#Boolean Tyep\n",
    "x = True\n",
    "print(type(x))\n",
    "y=bool(\"True\")\n",
    "print(isinstance(y,bool))"
   ]
  },
  {
   "cell_type": "markdown",
   "metadata": {},
   "source": [
    "## Numeric Data Types"
   ]
  },
  {
   "cell_type": "markdown",
   "metadata": {},
   "source": [
    "### Int Data Type"
   ]
  },
  {
   "cell_type": "code",
   "execution_count": 8,
   "metadata": {},
   "outputs": [
    {
     "name": "stdout",
     "output_type": "stream",
     "text": [
      "<class 'int'>\n",
      "Updated Price's data type is:  <class 'int'>\n"
     ]
    }
   ],
   "source": [
    "price = 100\n",
    "print(type(price))\n",
    "updated_price = int(\"101\")\n",
    "print(\"Updated Price's data type is: \",type(updated_price))\n",
    "\n"
   ]
  },
  {
   "cell_type": "markdown",
   "metadata": {},
   "source": [
    "### float Data Type "
   ]
  },
  {
   "cell_type": "code",
   "execution_count": 13,
   "metadata": {},
   "outputs": [
    {
     "name": "stdout",
     "output_type": "stream",
     "text": [
      "<class 'float'>\n"
     ]
    }
   ],
   "source": [
    "gpa= 8.764366\n",
    "print (type(gpa))"
   ]
  },
  {
   "cell_type": "code",
   "execution_count": 20,
   "metadata": {},
   "outputs": [
    {
     "name": "stdout",
     "output_type": "stream",
     "text": [
      "1000\n",
      "8.76\n",
      "8.764\n"
     ]
    }
   ],
   "source": [
    "print(abs(-1000))# Elimating negative and printing absolute values\n",
    "print(round(gpa,2))# Rounding to 2 decimal places\n",
    "print(round(gpa,3))"
   ]
  },
  {
   "cell_type": "code",
   "execution_count": 25,
   "metadata": {},
   "outputs": [],
   "source": [
    "import math as m"
   ]
  },
  {
   "cell_type": "code",
   "execution_count": 26,
   "metadata": {},
   "outputs": [
    {
     "name": "stdout",
     "output_type": "stream",
     "text": [
      "1234567891\n",
      "1234567890\n"
     ]
    }
   ],
   "source": [
    "print(m.ceil(1234567890.123456))\n",
    "print(m.floor(1234567890.123456))# Rounding off to the number "
   ]
  },
  {
   "cell_type": "markdown",
   "metadata": {},
   "source": [
    "### complex Data Type "
   ]
  },
  {
   "cell_type": "code",
   "execution_count": 11,
   "metadata": {},
   "outputs": [
    {
     "name": "stdout",
     "output_type": "stream",
     "text": [
      "<class 'complex'>\n",
      "5.0\n",
      "6.0\n"
     ]
    }
   ],
   "source": [
    "cmp= 5+6j\n",
    "print (type(cmp))\n",
    "print (cmp.real)\n",
    "print (cmp.imag)  "
   ]
  },
  {
   "cell_type": "markdown",
   "metadata": {},
   "source": [
    "### prompt: dont we have long and double data types in python ?\n",
    "\n",
    "No, Python does not have separate `long` and `double` data types. Instead, it uses the `int` and `float` data types to represent integers and real numbers, respectively.\n",
    "\n",
    "- **Integers:**\n",
    "\n",
    "   Python's `int` data type can represent arbitrarily large integers. There is no practical limit on the size of an integer, as it is limited only by the available memory.\n",
    "\n",
    "- **Floats:**\n",
    "\n",
    "   Python's `float` data type represents real numbers with a decimal point. It uses the IEEE 754 standard for floating-point arithmetic, which provides a wide range of precision and accuracy.\n",
    "\n",
    "Therefore, there is no need for separate `long` and `double` data types in Python, as the `int` and `float` data types can handle all the necessary requirements."
   ]
  },
  {
   "cell_type": "code",
   "execution_count": 5,
   "metadata": {},
   "outputs": [
    {
     "name": "stdout",
     "output_type": "stream",
     "text": [
      "<class 'int'>\n",
      "<class 'float'>\n"
     ]
    }
   ],
   "source": [
    "\n",
    "num1 = 1234567890 # You can store 10 digit number in int. There is no limit for number digits. \n",
    "num2 = 1234567890.1234567890 # You can store 10 dgit decimal place number in float\n",
    "\n",
    "print(type(num1))\n",
    "print(type(num2))"
   ]
  },
  {
   "cell_type": "code",
   "execution_count": 4,
   "metadata": {},
   "outputs": [
    {
     "name": "stdout",
     "output_type": "stream",
     "text": [
      "1234567890.12\n"
     ]
    }
   ],
   "source": [
    "# prompt: print  num2 with 2 decimal numbers\n",
    "num2 = 1234567890.1234567890\n",
    "print(\"{:.2f}\".format(num2))"
   ]
  },
  {
   "cell_type": "code",
   "execution_count": null,
   "metadata": {},
   "outputs": [],
   "source": []
  }
 ],
 "metadata": {
  "kernelspec": {
   "display_name": "chicken",
   "language": "python",
   "name": "python3"
  },
  "language_info": {
   "codemirror_mode": {
    "name": "ipython",
    "version": 3
   },
   "file_extension": ".py",
   "mimetype": "text/x-python",
   "name": "python",
   "nbconvert_exporter": "python",
   "pygments_lexer": "ipython3",
   "version": "3.12.1"
  }
 },
 "nbformat": 4,
 "nbformat_minor": 2
}
