{
 "cells": [
  {
   "cell_type": "code",
   "execution_count": 2,
   "metadata": {},
   "outputs": [
    {
     "name": "stdout",
     "output_type": "stream",
     "text": [
      "<class 'str'>\n",
      "<class 'int'>\n",
      "<class 'float'>\n",
      "<class 'int'>\n",
      "<class 'float'>\n"
     ]
    }
   ],
   "source": [
    "Name=\"venkat\"\n",
    "age= 23\n",
    "height=5.7\n",
    "phone=886677889976784\n",
    "ran_num =3774748383435358.857855\n",
    "print(type(Name))\n",
    "print(type(age))\n",
    "print(type(height))\n",
    "print(type(phone))\n",
    "print(type(ran_num))"
   ]
  },
  {
   "cell_type": "markdown",
   "metadata": {},
   "source": [
    "## String data type and Methods with it:"
   ]
  },
  {
   "cell_type": "code",
   "execution_count": 3,
   "metadata": {},
   "outputs": [
    {
     "name": "stdout",
     "output_type": "stream",
     "text": [
      "<class 'type'>\n",
      "True\n",
      "True\n"
     ]
    }
   ],
   "source": [
    "print(type(str))\n",
    "print(type(Name)==str)\n",
    "print(isinstance(Name, str))\n",
    "# It's says Name is Instance of str class,"
   ]
  },
  {
   "cell_type": "code",
   "execution_count": 4,
   "metadata": {},
   "outputs": [
    {
     "name": "stdout",
     "output_type": "stream",
     "text": [
      "True\n",
      "True\n"
     ]
    }
   ],
   "source": [
    "#Construcutor Function\n",
    "Person_name=str(\"Venkat\")#using String class's Construcutor Function\n",
    "print(type(Person_name)==str)\n",
    "print(isinstance(Person_name, str))\n",
    "# It's says Person_name is Instance of str class"
   ]
  },
  {
   "cell_type": "code",
   "execution_count": 5,
   "metadata": {},
   "outputs": [
    {
     "name": "stdout",
     "output_type": "stream",
     "text": [
      "<class 'str'>\n"
     ]
    }
   ],
   "source": [
    "#Casting \n",
    "decade = str(1998)\n",
    "print(type(decade))"
   ]
  },
  {
   "cell_type": "code",
   "execution_count": 6,
   "metadata": {},
   "outputs": [
    {
     "name": "stdout",
     "output_type": "stream",
     "text": [
      "I like the rock music from 1998\n"
     ]
    }
   ],
   "source": [
    "print(f\"I like the rock music from {decade}\")"
   ]
  },
  {
   "cell_type": "code",
   "execution_count": 7,
   "metadata": {},
   "outputs": [
    {
     "name": "stdout",
     "output_type": "stream",
     "text": [
      "Hi Commander !!\n",
      "Good Day, \n",
      "     How can I help you ?\n",
      "\n"
     ]
    }
   ],
   "source": [
    "multiline= \"\"\"Hi Commander !!\n",
    "Good Day, \n",
    "     How can I help you ?\n",
    "\"\"\"\n",
    "print(multiline)"
   ]
  },
  {
   "cell_type": "code",
   "execution_count": 8,
   "metadata": {},
   "outputs": [
    {
     "name": "stdout",
     "output_type": "stream",
     "text": [
      "Hi this is venkat's Code. Escapped single quotes with backslash\n",
      "\n",
      "\n",
      "\n",
      "Here we are using tab space \t and newline  \n",
      " in venkat's code\n"
     ]
    }
   ],
   "source": [
    "#Escaping special Character with \"\\\". Escapped single quotes with \\\n",
    "print('Hi this is venkat\\'s Code. '+ \"Escapped single quotes with backslash\")\n",
    "print(\"\\n\\n\")\n",
    "print(\"Here we are using tab space \\t and newline  \\n in venkat\\'s code\")"
   ]
  },
  {
   "cell_type": "markdown",
   "metadata": {},
   "source": [
    "### String Methods \n"
   ]
  },
  {
   "cell_type": "code",
   "execution_count": 9,
   "metadata": {},
   "outputs": [
    {
     "name": "stdout",
     "output_type": "stream",
     "text": [
      "venkat\n",
      "venkat\n",
      "VENKAT\n",
      "venkat\n"
     ]
    }
   ],
   "source": [
    "#lower and upper\n",
    "print(Name)\n",
    "print(Name.lower())\n",
    "print(Name.upper())\n",
    "print(Name)"
   ]
  },
  {
   "cell_type": "code",
   "execution_count": 10,
   "metadata": {},
   "outputs": [
    {
     "name": "stdout",
     "output_type": "stream",
     "text": [
      "Hi Commander !!\n",
      "Good Day, \n",
      "     How Can I Help You ?\n",
      "\n",
      "Hi Commander !!\n",
      "Nice Day, \n",
      "     How can I help you ?\n",
      "\n"
     ]
    }
   ],
   "source": [
    "print(multiline.title())# convertsall the first letter  of words as captial\n",
    "print(multiline.replace(\"Good\", \"Nice\"))#replace method is case sensitive"
   ]
  },
  {
   "cell_type": "code",
   "execution_count": 11,
   "metadata": {},
   "outputs": [
    {
     "name": "stdout",
     "output_type": "stream",
     "text": [
      "53\n",
      "71\n",
      "         Hi Commander !!\n",
      "Good Day, \n",
      "     How can I help you ?\n",
      "         \n"
     ]
    }
   ],
   "source": [
    "print(len(multiline))\n",
    "multiline+=\"         \"\n",
    "multiline= \"         \"+multiline\n",
    "print(len(multiline))\n",
    "print(multiline)"
   ]
  },
  {
   "cell_type": "code",
   "execution_count": 12,
   "metadata": {},
   "outputs": [
    {
     "name": "stdout",
     "output_type": "stream",
     "text": [
      "         Hi Commander !!\n",
      "Good Day, \n",
      "     How can I help you ?\n",
      "         \n"
     ]
    }
   ],
   "source": [
    "print(multiline)"
   ]
  },
  {
   "cell_type": "markdown",
   "metadata": {},
   "source": [
    "lstrip and rstrip methods"
   ]
  },
  {
   "cell_type": "code",
   "execution_count": 18,
   "metadata": {},
   "outputs": [
    {
     "name": "stdout",
     "output_type": "stream",
     "text": [
      "Hi Commander !!\n",
      "Good Day, \n",
      "     How can I help you ?\n",
      "\n",
      "Only striing on the left spaces:\n",
      "Hi Commander !!\n",
      "Good Day, \n",
      "     How can I help you ?\n",
      "         \n",
      "\n",
      "Only striing on the right spaces:\n",
      "         Hi Commander !!\n",
      "Good Day, \n",
      "     How can I help you ?\n"
     ]
    }
   ],
   "source": [
    "print(multiline.strip()+\"\\n\")\n",
    "print(\"Only striing on the left spaces:\\n\"+ multiline.lstrip())\n",
    "print(\"\\nOnly striing on the right spaces:\\n\"+multiline.rstrip())"
   ]
  },
  {
   "cell_type": "markdown",
   "metadata": {},
   "source": [
    "Build a Meanu with center, ljust and rjust"
   ]
  },
  {
   "cell_type": "code",
   "execution_count": 4,
   "metadata": {},
   "outputs": [
    {
     "name": "stdout",
     "output_type": "stream",
     "text": [
      "========Meau========\n",
      "Coffee..........  $1\n",
      "Muffin..........  $2\n",
      "Waffle..........  $3\n"
     ]
    }
   ],
   "source": [
    "\n",
    "print(\"Meau\".center(20, \"=\"))\n",
    "#left-justifies the string within a specified width by padding it with specified characters on the right\n",
    "\n",
    "# string + speacified character will be printed for 16 characters. Mentioned string in left.\n",
    "print(\"Coffee\".ljust(16, \".\")+\"$1\".rjust(4))\n",
    "print(\"Muffin\".ljust(16, \".\")+\"$2\".rjust(4))\n",
    "print(\"Waffle\".ljust(16, \".\")+\"$3\".rjust(4))\n"
   ]
  },
  {
   "cell_type": "markdown",
   "metadata": {},
   "source": [
    "String Indexing and slicing"
   ]
  },
  {
   "cell_type": "code",
   "execution_count": 39,
   "metadata": {},
   "outputs": [
    {
     "name": "stdout",
     "output_type": "stream",
     "text": [
      "venkat\n",
      "v e t\n",
      "nkat \n",
      "enk\n"
     ]
    }
   ],
   "source": [
    "\n",
    "print (Name)\n",
    "print(Name[0]+\" \" #String Indexing starts from zero\n",
    "      +(Name[1])+ \" \" \n",
    "      +Name[-1])# -1 specifies the last character\n",
    "\n",
    "print(Name[2:]+\" \\n\" #Starting from 2 indexed characters and printing rest\n",
    "      +Name[1:-2]# staring from 1st index and from the last 2nd index  \n",
    "      \n",
    "      )\n"
   ]
  },
  {
   "cell_type": "code",
   "execution_count": 41,
   "metadata": {},
   "outputs": [
    {
     "name": "stdout",
     "output_type": "stream",
     "text": [
      "True\n",
      "False\n"
     ]
    }
   ],
   "source": [
    "#startwith and endswith\n",
    "print (\"Dog\".startswith(\"D\"))\n",
    "print (\"Dog\".endswith(\"a\"))"
   ]
  },
  {
   "cell_type": "markdown",
   "metadata": {},
   "source": [
    "## Boolean Methods"
   ]
  },
  {
   "cell_type": "code",
   "execution_count": 3,
   "metadata": {},
   "outputs": [
    {
     "name": "stdout",
     "output_type": "stream",
     "text": [
      "<class 'bool'>\n",
      "True\n"
     ]
    }
   ],
   "source": [
    "#Boolean Tyep\n",
    "x = True\n",
    "print(type(x))\n",
    "y=bool(\"True\")\n",
    "print(isinstance(y,bool))"
   ]
  },
  {
   "cell_type": "markdown",
   "metadata": {},
   "source": [
    "## Numeric Data Types"
   ]
  },
  {
   "cell_type": "code",
   "execution_count": 8,
   "metadata": {},
   "outputs": [
    {
     "name": "stdout",
     "output_type": "stream",
     "text": [
      "<class 'int'>\n",
      "Updated Price's data type is:  <class 'int'>\n"
     ]
    }
   ],
   "source": [
    "price = 100\n",
    "print(type(price))\n",
    "updated_price = int(\"101\")\n",
    "print(\"Updated Price's data type is: \",type(updated_price))\n",
    "\n"
   ]
  },
  {
   "cell_type": "markdown",
   "metadata": {},
   "source": []
  }
 ],
 "metadata": {
  "kernelspec": {
   "display_name": "chicken",
   "language": "python",
   "name": "python3"
  },
  "language_info": {
   "codemirror_mode": {
    "name": "ipython",
    "version": 3
   },
   "file_extension": ".py",
   "mimetype": "text/x-python",
   "name": "python",
   "nbconvert_exporter": "python",
   "pygments_lexer": "ipython3",
   "version": "3.8.18"
  }
 },
 "nbformat": 4,
 "nbformat_minor": 2
}
