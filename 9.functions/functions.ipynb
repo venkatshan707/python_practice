{
 "cells": [
  {
   "cell_type": "code",
   "execution_count": 1,
   "metadata": {},
   "outputs": [],
   "source": [
    "#Defining a function.\n",
    "def greet():\n",
    "    print(\"Hello\")"
   ]
  },
  {
   "cell_type": "code",
   "execution_count": 2,
   "metadata": {},
   "outputs": [
    {
     "name": "stdout",
     "output_type": "stream",
     "text": [
      "Hello\n"
     ]
    }
   ],
   "source": [
    "greet()# calling the defined function"
   ]
  },
  {
   "cell_type": "code",
   "execution_count": 4,
   "metadata": {},
   "outputs": [],
   "source": [
    "import random"
   ]
  },
  {
   "cell_type": "code",
   "execution_count": 11,
   "metadata": {},
   "outputs": [
    {
     "name": "stdout",
     "output_type": "stream",
     "text": [
      "Num1 = 90, Num2 = 25\n",
      "sum(num1, num2): 115\n"
     ]
    }
   ],
   "source": [
    "def sum(num1, num2):\n",
    "    print(f\"Num1 = {num1}, Num2 = {num2}\")\n",
    "    if(type(num1) is not int or type(num2) is not int):\n",
    "        print(\"You didn't integers\")\n",
    "        return\n",
    "    return num1+num2\n",
    "\n",
    "print(f\"sum(num1, num2): {sum(random.randint(0,100),random.randint(0,100))}\")"
   ]
  },
  {
   "cell_type": "code",
   "execution_count": 14,
   "metadata": {},
   "outputs": [
    {
     "name": "stdout",
     "output_type": "stream",
     "text": [
      "Num1 = hii, Num2 = 7\n",
      "You didn't integers\n",
      "sum(num1, num2): None\n"
     ]
    }
   ],
   "source": [
    "a=\"hii\"\n",
    "print(f\"sum(num1, num2): {sum(a,random.randint(0,100))}\")\n",
    "\n",
    "#sum()you can't call with arguments missmatching with definition\n",
    "#sum(1)"
   ]
  },
  {
   "cell_type": "markdown",
   "metadata": {},
   "source": [
    "### Multi-arguemnt functions(*args, **kwargs)\n",
    "*args and **kwargs are special syntax used in function definitions to pass a variable number of arguments to a function. They provide flexibility when defining functions that can accept an arbitrary number of arguments."
   ]
  },
  {
   "cell_type": "markdown",
   "metadata": {},
   "source": [
    "1. ***args (Arbitrary Positional Arguments):**\n",
    "* *args is used to pass a variable number of positional arguments to a function.\n",
    "* The *args parameter collects all the positional arguments passed to the function into a tuple.\n",
    "* You can specify *args in a function definition to indicate that it can accept any number of positional arguments.\n",
    "Arguments passed after the *args parameter must be specified by position."
   ]
  },
  {
   "cell_type": "code",
   "execution_count": 20,
   "metadata": {},
   "outputs": [
    {
     "name": "stdout",
     "output_type": "stream",
     "text": [
      "(1, 2, 3)\n",
      "<class 'tuple'>\n"
     ]
    }
   ],
   "source": [
    "def my_function(*args):\n",
    "    #prit(arges[0]) we don't any name for parameter to refer parameter value\n",
    "    \n",
    "    print(args)\n",
    "    \n",
    "    print(type(args))    \n",
    "\n",
    "my_function(1, 2, 3)"
   ]
  },
  {
   "cell_type": "markdown",
   "metadata": {},
   "source": [
    "2. **kwargs (Arbitrary Keyword Arguments):\n",
    "* **kwargs is used to pass a variable number of keyword arguments to a function.\n",
    "* The **kwargs parameter collects all the keyword arguments passed to the function into a dictionary where the keys are the parameter names and the values are the corresponding argument values.\n",
    "* You can specify **kwargs in a function definition to indicate that it can accept any number of keyword arguments.\n",
    "Arguments passed after the **kwargs parameter must be specified by keyword."
   ]
  },
  {
   "cell_type": "code",
   "execution_count": 18,
   "metadata": {},
   "outputs": [
    {
     "name": "stdout",
     "output_type": "stream",
     "text": [
      "name: John\n",
      "age: 30\n",
      "city: New York\n"
     ]
    }
   ],
   "source": [
    "def my_function(**kwargs):\n",
    "    for key, value in kwargs.items():\n",
    "        print(f\"{key}: {value}\")\n",
    "\n",
    "my_function(name=\"John\", age=30, city=\"New York\")\n",
    "#Here name is parameter name and \"John\" is parameter value\n"
   ]
  },
  {
   "cell_type": "markdown",
   "metadata": {},
   "source": [
    "In summary: \n",
    ">*args passes arguments as **tuple**. and we have no setup like parameters name (Ex: sum(**num1, num2**)) like what we used have in normal function definition for referencing arguemnt values \n",
    "\n",
    ">while ****kwargs** is used to pass values in key: value format (as **a dictionary.**). keys are the parameter names and the values are the corresponding argument values."
   ]
  }
 ],
 "metadata": {
  "kernelspec": {
   "display_name": "chicken",
   "language": "python",
   "name": "python3"
  },
  "language_info": {
   "codemirror_mode": {
    "name": "ipython",
    "version": 3
   },
   "file_extension": ".py",
   "mimetype": "text/x-python",
   "name": "python",
   "nbconvert_exporter": "python",
   "pygments_lexer": "ipython3",
   "version": "3.8.18"
  }
 },
 "nbformat": 4,
 "nbformat_minor": 2
}
