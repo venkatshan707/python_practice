{
 "cells": [
  {
   "cell_type": "markdown",
   "metadata": {},
   "source": [
    "## argparse\n",
    "argparse, which is commonly used for parsing command-line arguments in Python scripts.\n",
    "\n",
    "To accept the arguments from command line those are values  we pass in to the program that we called, we will be using a module   **argparse library**"
   ]
  },
  {
   "cell_type": "code",
   "execution_count": null,
   "metadata": {},
   "outputs": [],
   "source": [
    "\n",
    "import argparse\n",
    "\n",
    "#Creating a Parser: Create an ArgumentParser object, which  will hold all the information necessary to parse the  command-line arguments.\n",
    "parser = argparse.ArgumentParser(\n",
    "    description=\"Procides persoanal greeting!!\" # The description parameter provides a brief description of your program, which will be displayed when the user runs the program with the -h or --help option.\n",
    ")\n",
    "\n",
    "#Adding Arguments: Add arguments to the parser using add_argument() method.\n",
    "parser.add_argument(\n",
    "    \"-n\",\"--name\", metavar=\"name\",\n",
    "    required = True, help=\"The name of the person to Greet\"\n",
    ")\n",
    "#here -n and --name Both of these options refer to the same argument, which is named \"name\" in this case for which we are going to get input from the command-line.\n",
    "# like :\n",
    "#     py hello_person.py -n venkat\n",
    "#     py hello_person.py --name venkat\n",
    "#In this case you must specify value for name in cmd when running the program.\n",
    "\n",
    "\n",
    "#Parsing Arguments: Parse the command-line arguments using the parse_args() method.\n",
    "args= parser.parse_args()\n",
    "\n",
    "#Accessing Argument Values: Access the values of parsed arguments through the args object returned by parse_args()\n",
    "msg = f'Hello {args.name}!!'\n",
    "print(msg)\n"
   ]
  },
  {
   "cell_type": "markdown",
   "metadata": {},
   "source": [
    "karth@MSI MINGW64 ~/Documents/python_practice/15.command_line_args (main)\n",
    "\n",
    "$ python test.py --name venkat\n",
    "\n",
    "Hello venkat!!\n",
    "\n",
    "** This is how it works **"
   ]
  },
  {
   "cell_type": "code",
   "execution_count": null,
   "metadata": {},
   "outputs": [],
   "source": [
    "%%bash\n",
    "python hello_person.py arg1\n"
   ]
  },
  {
   "cell_type": "code",
   "execution_count": null,
   "metadata": {},
   "outputs": [],
   "source": [
    "%%cmd\n",
    "python hello_person.py -name [venkat]\n"
   ]
  },
  {
   "cell_type": "markdown",
   "metadata": {},
   "source": [
    "## Another Example:"
   ]
  },
  {
   "cell_type": "code",
   "execution_count": null,
   "metadata": {},
   "outputs": [],
   "source": [
    "import argparse\n",
    "\n",
    "# Create the ArgumentParser object\n",
    "parser = argparse.ArgumentParser(description='A simple calculator program')\n",
    "\n",
    "# Add arguments to the parser\n",
    "parser.add_argument('num1', type=float, help='The first number')\n",
    "parser.add_argument('num2', type=float, help='The second number')\n",
    "parser.add_argument('operation', choices=['add', 'subtract', 'multiply', 'divide'], help='The operation to perform')\n",
    "\n",
    "# Parse the command-line arguments\n",
    "args = parser.parse_args()\n",
    "\n",
    "# Perform the requested operation\n",
    "if args.operation == 'add':\n",
    "    result = args.num1 + args.num2\n",
    "elif args.operation == 'subtract':\n",
    "    result = args.num1 - args.num2\n",
    "elif args.operation == 'multiply':\n",
    "    result = args.num1 * args.num2\n",
    "elif args.operation == 'divide':\n",
    "    result = args.num1 / args.num2\n",
    "\n",
    "# Print the result\n",
    "print(f'The result of {args.operation} is: {result}')\n"
   ]
  },
  {
   "cell_type": "markdown",
   "metadata": {},
   "source": [
    "Input in CMD :\n",
    "\n",
    "python calculator.py 10 5 add\n",
    "\n",
    "Output in CMD : \n",
    "\n",
    "The result of add is: 15.0\n",
    "\n"
   ]
  },
  {
   "cell_type": "markdown",
   "metadata": {},
   "source": []
  }
 ],
 "metadata": {
  "kernelspec": {
   "display_name": "chicken",
   "language": "python",
   "name": "python3"
  },
  "language_info": {
   "codemirror_mode": {
    "name": "ipython",
    "version": 3
   },
   "file_extension": ".py",
   "mimetype": "text/x-python",
   "name": "python",
   "nbconvert_exporter": "python",
   "pygments_lexer": "ipython3",
   "version": "3.12.1"
  }
 },
 "nbformat": 4,
 "nbformat_minor": 2
}
