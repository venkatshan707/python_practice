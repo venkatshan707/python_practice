{
 "cells": [
  {
   "cell_type": "markdown",
   "metadata": {},
   "source": [
    "## argparse\n",
    "argparse, which is commonly used for parsing command-line arguments in Python scripts.\n",
    "\n",
    "To accept the arguments from command line those are values  we pass in to the program that we called, we will be using a module   **argparse library**"
   ]
  },
  {
   "cell_type": "code",
   "execution_count": null,
   "metadata": {},
   "outputs": [],
   "source": [
    "import argparse\n",
    "\n",
    "#Creating a Parser: Create an ArgumentParser object, which\n",
    "# will hold all the information necessary to parse the\n",
    "# command-line arguments.\n",
    "parser = argparse.ArgumentParser(\n",
    "    description=\"Procides persoanal greeting!!\"\n",
    ")\n",
    "\n",
    "#Adding Arguments: Add arguments to the parser using \n",
    "#add_argument() method.\n",
    "parser.add_argument(\n",
    "    \"-n\",\"--name\", metavar=\"name\",\n",
    "    required = True, help=\"The name of the person to Greet\"\n",
    ")\n",
    "#here -n and --name both represents arguemnt called name \n",
    "#for which we are going to get input from the command-line.like :\n",
    "#     py hello_person.py -n venkat\n",
    "#In this case you must specify value for name in cmd when running the program.\n",
    "\n",
    "\n",
    "#Parsing Arguments: Parse the command-line arguments using the parse_args() method.\n",
    "args= parser.parse_args()\n",
    "\n",
    "#Accessing Argument Values: Access the values of parsed arguments through the args object returned by parse_args()\n",
    "msg = f'Hello {args.n}!!'\n",
    "print(msg)\n",
    "\n"
   ]
  },
  {
   "cell_type": "code",
   "execution_count": 6,
   "metadata": {},
   "outputs": [
    {
     "name": "stdout",
     "output_type": "stream",
     "text": [
      "Couldn't find program: 'bash'\n"
     ]
    }
   ],
   "source": [
    "%%bash\n",
    "python hello_person.py arg1\n"
   ]
  },
  {
   "cell_type": "code",
   "execution_count": 14,
   "metadata": {},
   "outputs": [
    {
     "name": "stdout",
     "output_type": "stream",
     "text": [
      "Microsoft Windows [Version 10.0.19045.3930]\n",
      "(c) Microsoft Corporation. All rights reserved.\n",
      "\n",
      "(chicken) c:\\Users\\vxs8426\\OneDrive - International Flavors & Fragrances Inc\\Documents\\python_practice\\15.command_line_args>python hello_person.py -name [venkat]\n"
     ]
    },
    {
     "name": "stderr",
     "output_type": "stream",
     "text": [
      "usage: hello_person.py [-h] -n name\n",
      "hello_person.py: error: unrecognized arguments: [venkat]\n"
     ]
    },
    {
     "name": "stdout",
     "output_type": "stream",
     "text": [
      "\n",
      "(chicken) c:\\Users\\vxs8426\\OneDrive - International Flavors & Fragrances Inc\\Documents\\python_practice\\15.command_line_args>"
     ]
    }
   ],
   "source": [
    "%%cmd\n",
    "python hello_person.py -name [venkat]\n"
   ]
  }
 ],
 "metadata": {
  "kernelspec": {
   "display_name": "chicken",
   "language": "python",
   "name": "python3"
  },
  "language_info": {
   "codemirror_mode": {
    "name": "ipython",
    "version": 3
   },
   "file_extension": ".py",
   "mimetype": "text/x-python",
   "name": "python",
   "nbconvert_exporter": "python",
   "pygments_lexer": "ipython3",
   "version": "3.8.18"
  }
 },
 "nbformat": 4,
 "nbformat_minor": 2
}
