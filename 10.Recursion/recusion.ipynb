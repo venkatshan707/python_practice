{
 "cells": [
  {
   "cell_type": "markdown",
   "metadata": {},
   "source": [
    "## Recursion"
   ]
  },
  {
   "cell_type": "markdown",
   "metadata": {},
   "source": [
    "Recursion is a function which is continue to call itself until specific condition met"
   ]
  },
  {
   "cell_type": "code",
   "execution_count": 7,
   "metadata": {},
   "outputs": [
    {
     "name": "stdout",
     "output_type": "stream",
     "text": [
      "7\n",
      "8\n",
      "9\n",
      "10\n"
     ]
    }
   ],
   "source": [
    "def add_one(num):\n",
    "    if (num>=9):\n",
    "        return num+1\n",
    "    total = num+1\n",
    "    print(total)\n",
    "    return add_one(total)\n",
    "\n",
    "print (add_one(6))\n"
   ]
  },
  {
   "cell_type": "code",
   "execution_count": 8,
   "metadata": {},
   "outputs": [
    {
     "name": "stdout",
     "output_type": "stream",
     "text": [
      "7\n",
      "8\n",
      "9\n",
      "None\n"
     ]
    }
   ],
   "source": [
    "def add_one(num):\n",
    "    if (num>=9):\n",
    "        return num+1\n",
    "    total = num+1\n",
    "    print(total)\n",
    "    add_one(total) # Here we don't have return key word to\n",
    "    #return value to the function call\n",
    "\n",
    "print(add_one(6))\n"
   ]
  },
  {
   "cell_type": "code",
   "execution_count": 11,
   "metadata": {},
   "outputs": [
    {
     "name": "stdout",
     "output_type": "stream",
     "text": [
      "1\n"
     ]
    }
   ],
   "source": [
    "value ='y'\n",
    "count =0\n",
    "\n",
    "while value :\n",
    "    count  +=1\n",
    "    print(count)\n",
    "    if (count==5):\n",
    "        break\n",
    "    else :\n",
    "        value =0\n",
    "        continue\n",
    "#In the first iteration while 'y' is true. in second while (False), so loop ends"
   ]
  },
  {
   "cell_type": "markdown",
   "metadata": {},
   "source": [
    "## Some real world examples of Recursion "
   ]
  },
  {
   "cell_type": "markdown",
   "metadata": {},
   "source": [
    "1. **File System Traversal:**\n",
    "Recursion is commonly used to traverse file systems and directories recursively. When exploring a directory, if a subdirectory is encountered, the function can call itself recursively to explore that subdirectory and its contents."
   ]
  },
  {
   "cell_type": "code",
   "execution_count": null,
   "metadata": {},
   "outputs": [],
   "source": [
    "import os\n",
    "\n",
    "def traverse_directory(path):\n",
    "    for item in os.listdir(path):\n",
    "        item_path = os.path.join(path, item)\n",
    "        if os.path.isdir(item_path):\n",
    "            traverse_directory(item_path)  # Recursively explore subdirectories\n",
    "        else:\n",
    "            print(item_path)  # Process files\n",
    "\n",
    "# Example usage\n",
    "traverse_directory('/path/to/directory')\n"
   ]
  },
  {
   "cell_type": "markdown",
   "metadata": {},
   "source": [
    "2. Mathematical Problems: Recursion is used to solve many mathematical problems efficiently. Examples include computing factorials, Fibonacci numbers, and solving problems in combinatorics and graph theory"
   ]
  },
  {
   "cell_type": "code",
   "execution_count": 13,
   "metadata": {},
   "outputs": [
    {
     "name": "stdout",
     "output_type": "stream",
     "text": [
      "120\n"
     ]
    }
   ],
   "source": [
    "def factorial(n):\n",
    "    if n == 0 or n == 1:\n",
    "        return 1\n",
    "    else:\n",
    "        return n * factorial(n - 1)\n",
    "\n",
    "# Example usage\n",
    "print(factorial(5))  # Output: 120\n"
   ]
  }
 ],
 "metadata": {
  "kernelspec": {
   "display_name": "chicken",
   "language": "python",
   "name": "python3"
  },
  "language_info": {
   "codemirror_mode": {
    "name": "ipython",
    "version": 3
   },
   "file_extension": ".py",
   "mimetype": "text/x-python",
   "name": "python",
   "nbconvert_exporter": "python",
   "pygments_lexer": "ipython3",
   "version": "3.8.18"
  }
 },
 "nbformat": 4,
 "nbformat_minor": 2
}
