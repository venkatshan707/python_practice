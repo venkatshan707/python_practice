{
 "cells": [
  {
   "cell_type": "markdown",
   "metadata": {
    "vscode": {
     "languageId": "plaintext"
    }
   },
   "source": [
    "### **1. Find the maximum and minimum element in array(After solving the search , you can solve all probs in this basics by yourself)**"
   ]
  },
  {
   "cell_type": "code",
   "execution_count": 1,
   "metadata": {},
   "outputs": [
    {
     "data": {
      "text/plain": [
       "(5, 677)"
      ]
     },
     "execution_count": 1,
     "metadata": {},
     "output_type": "execute_result"
    }
   ],
   "source": [
    "class Solution:\n",
    "    def get_min_max(self, arr):\n",
    "        min=arr[0]\n",
    "        max=arr[0]\n",
    "        for i in arr:\n",
    "            if i>max:\n",
    "                max=i\n",
    "            if i<min:\n",
    "                min=i\n",
    "        return (min, max)\n",
    "S=Solution()\n",
    "S.get_min_max([23,45,55,5,66,677,54])"
   ]
  },
  {
   "cell_type": "markdown",
   "metadata": {},
   "source": [
    "### 2. **Given an array, arr of positive integers. Find the third largest element in it. Return -1 if the third largest element is not found.**"
   ]
  },
  {
   "cell_type": "markdown",
   "metadata": {},
   "source": [
    "#### Third Largest Element Finder\n",
    "This logic is designed to find the **third largest element** in an array.\n",
    "##### Requirements\n",
    "1. If the array contains at least three distinct elements, return the **third largest distinct element**.\n",
    "2. If the array has **fewer than three elements**, return `-1`.\n",
    "3. If the array contains duplicate values, the third largest element can still be a duplicate if no other distinct elements exist.\n",
    "\n",
    "##### Examples\n",
    "\n",
    "##### Example 1: Standard Case\n",
    "**Input:**  \n",
    "`arr[] = [2, 4, 1, 3, 5]`  \n",
    "**Output:**  \n",
    "`3`  \n",
    "**Explanation:**  \n",
    "The third largest element in the array `[2, 4, 1, 3, 5]` is `3`.\n",
    "\n",
    "---\n",
    "\n",
    "##### Example 2: Fewer Than Three Elements\n",
    "**Input:**  \n",
    "`arr[] = [10, 2]`  \n",
    "**Output:**  \n",
    "`-1`  \n",
    "**Explanation:**  \n",
    "There are fewer than three elements in the array, so the third largest element cannot be determined.\n",
    "\n",
    "---\n",
    "\n",
    "##### Example 3: All Elements Are the Same\n",
    "**Input:**  \n",
    "`arr[] = [5, 5, 5]`  \n",
    "**Output:**  \n",
    "`5`  \n",
    "**Explanation:**  \n",
    "In the array `[5, 5, 5]`, the third largest element can be considered `5`, as there are no other distinct elements.\n"
   ]
  },
  {
   "cell_type": "code",
   "execution_count": 4,
   "metadata": {},
   "outputs": [
    {
     "name": "stdout",
     "output_type": "stream",
     "text": [
      "3\n",
      "-1\n",
      "5\n",
      "6\n",
      "2\n"
     ]
    }
   ],
   "source": [
    "class Solution:\n",
    "      def thirdLargest(self,arr):\n",
    "        # code here\n",
    "        n = len(arr)\n",
    "        third = arr[0]\n",
    "        if n < 3:\n",
    "            return -1\n",
    "        else:\n",
    "            arr.sort()\n",
    "            third = arr[n-3]\n",
    "            return third\n",
    "            #arr.sort(reverse=True)\n",
    "            #return arr[2]\n",
    "        \n",
    "S= Solution()\n",
    "\n",
    "\n",
    "# Test Cases\n",
    "print(S.thirdLargest([2, 4, 1, 3, 5]))        # Output: 3\n",
    "print(S.thirdLargest([10, 2]))                # Output: -1\n",
    "print(S.thirdLargest([5, 5, 5]))              # Output: 5\n",
    "print(S.thirdLargest([5, 5, 5, 6, 6, 7, 8]))  # Output: 6\n",
    "print(S.thirdLargest([1, 2, 2, 3, 3])) "
   ]
  },
  {
   "cell_type": "markdown",
   "metadata": {},
   "source": [
    "### 3. You are given an array arr of size n - 1 that contains distinct integers in the range from 1 to n (inclusive). This array represents a permutation of the integers from 1 to n with one element missing. Your task is to identify and return the missing element.\n",
    "\n",
    "https://www.geeksforgeeks.org/problems/missing-number-in-array1416/1"
   ]
  },
  {
   "cell_type": "markdown",
   "metadata": {},
   "source": [
    "Input: arr[] = [8, 2, 4, 5, 3, 7, 1] <br>\n",
    "Output: 6 <br>\n",
    "Explanation: All the numbers from 1 to 8 are present except 6.<br>"
   ]
  },
  {
   "cell_type": "code",
   "execution_count": 2,
   "metadata": {},
   "outputs": [
    {
     "data": {
      "text/plain": [
       "7"
      ]
     },
     "execution_count": 2,
     "metadata": {},
     "output_type": "execute_result"
    }
   ],
   "source": [
    "class Solution:\n",
    "    #Sorting method\n",
    "    def missingNumber(self, arr):\n",
    "        arr.sort()\n",
    "        for i in range(len(arr)):\n",
    "            if arr[i] != i + 1:\n",
    "                return i + 1\n",
    "        return len(arr) + 1\n",
    "    \n",
    "    #Hashing method\n",
    "\n",
    "    def missingNumber_hash(self, arr):\n",
    "        n = len(arr) + 1\n",
    "        num_set = set(arr)\n",
    "        for i in range(1, n + 1):\n",
    "            if i not in num_set:\n",
    "                return i\n",
    "            \n",
    "    #Summing method\n",
    "    def missingNumber_sum(self, arr):\n",
    "        n = len(arr) + 1\n",
    "        sum_n = n * (n + 1) // 2\n",
    "        sum_arr = sum(arr)\n",
    "        return sum_n - sum_arr\n",
    "\n",
    " \n",
    "\n",
    "sol= Solution()\n",
    "sol.missingNumber([1,2,3,4,5,6,8,9,10,11,12,13,14,15])"
   ]
  },
  {
   "cell_type": "markdown",
   "metadata": {},
   "source": [
    "### 4. Given an array arr[] of n elements that contains elements from 0 to n-1, with any of these numbers appearing any number of times. The task is to find the repeating numbers."
   ]
  },
  {
   "cell_type": "markdown",
   "metadata": {},
   "source": [
    "Input: n = 7, arr[] = [1, 2, 3, 6, 3, 6, 1] <br>\n",
    "Output: 1, 3, 6<br>\n",
    "Explanation: The numbers 1 , 3 and 6 appears more than once in the array.<br>\n",
    "\n",
    "\n",
    "Input : n = 5, arr[] = [1, 2, 3, 4 ,3]<br>\n",
    "Output: 3<br>\n",
    "Explanation: The number 3 appears more than once in the array.<br>"
   ]
  },
  {
   "cell_type": "code",
   "execution_count": 3,
   "metadata": {},
   "outputs": [
    {
     "name": "stdout",
     "output_type": "stream",
     "text": [
      "[2, 3]\n"
     ]
    }
   ],
   "source": [
    "\n",
    "#With Sets\n",
    "def find_duplicates(arr):\n",
    "    seen = set()\n",
    "    duplicates = set()\n",
    "    \n",
    "    for num in arr:\n",
    "        if num in seen:\n",
    "            duplicates.add(num)\n",
    "        else:\n",
    "            seen.add(num)\n",
    "    \n",
    "    return list(duplicates)\n",
    "\n",
    "# Example usage\n",
    "array = [4, 3, 2, 7, 8, 2, 3, 1]\n",
    "print(find_duplicates(array))  # Output: [3, 2]\n",
    "\n",
    "#With Hash maps\n",
    "def find_duplicates_hash(arr):\n",
    "    # Dictionary to count occurrences of each element\n",
    "    element_count = {}\n",
    "    duplicates = []\n",
    "    \n",
    "    for num in arr:\n",
    "        if num in element_count:\n",
    "            element_count[num] += 1\n",
    "            #you can go with freqMap.get () Built in function\n",
    "            #freqMap[num] = freqMap.get(num, 0) + 1\n",
    "            \"\"\"\n",
    "            freqMap.get(num, 0):\n",
    "\n",
    "                freqMap.get(num, 0) checks if num exists in the dictionary:\n",
    "                If num exists, it returns the current value (frequency of num).\n",
    "                If num does not exist, it returns 0 as the default value.\n",
    "            + 1:\n",
    "\n",
    "                Adds 1 to the current frequency (or to 0 if the key doesn’t exist).\n",
    "                freqMap[num] = ...:\n",
    "\n",
    "                Updates the dictionary by setting the new frequency for the key num\n",
    "            \"\"\"\n",
    "\n",
    "        else:\n",
    "            element_count[num] = 1\n",
    "    \n",
    "    # Collect elements with more than one occurrence\n",
    "    for key, count in element_count.items():\n",
    "        if count > 1:\n",
    "            duplicates.append(key)\n",
    "    \n",
    "    return duplicates\n",
    "\n",
    "# Example usage\n",
    "array = [4, 3, 2, 7, 8, 2, 3, 1]\n",
    "print(find_duplicates_hash(array))  # Output: [3, 2]\n"
   ]
  },
  {
   "cell_type": "code",
   "execution_count": null,
   "metadata": {},
   "outputs": [],
   "source": []
  }
 ],
 "metadata": {
  "kernelspec": {
   "display_name": "chicken",
   "language": "python",
   "name": "python3"
  },
  "language_info": {
   "codemirror_mode": {
    "name": "ipython",
    "version": 3
   },
   "file_extension": ".py",
   "mimetype": "text/x-python",
   "name": "python",
   "nbconvert_exporter": "python",
   "pygments_lexer": "ipython3",
   "version": "3.12.1"
  }
 },
 "nbformat": 4,
 "nbformat_minor": 2
}
