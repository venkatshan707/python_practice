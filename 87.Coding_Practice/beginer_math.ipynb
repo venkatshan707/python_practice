{
 "cells": [
  {
   "cell_type": "markdown",
   "metadata": {},
   "source": [
    "## Beginer Math problems"
   ]
  },
  {
   "cell_type": "markdown",
   "metadata": {},
   "source": [
    "1. List Comprehension:\n",
    "List comprehension offers a shorter syntax when you want to create a new list based on the values of an existing list."
   ]
  },
  {
   "cell_type": "code",
   "execution_count": 9,
   "metadata": {},
   "outputs": [
    {
     "name": "stdout",
     "output_type": "stream",
     "text": [
      "['apple', 'banana', 'mango']\n",
      "['Peacock', 'hen']\n"
     ]
    }
   ],
   "source": [
    "# Without list comprehension\n",
    "fruits = [\"apple\", \"banana\", \"cherry\", \"kiwi\", \"mango\"]\n",
    "newlist = []\n",
    "\n",
    "for x in fruits:\n",
    "  if \"a\" in x:\n",
    "    newlist.append(x)\n",
    "\n",
    "print(newlist)\n",
    "\n",
    "# With list comprehension\n",
    "birds = [\"crow\", \"Peacock\", \"hen\"]\n",
    "new_birds = [i for i in birds if 'e' in i] # only filtering elements (i) matching the condition and creating a new list out of that. \n",
    "print (new_birds)"
   ]
  },
  {
   "cell_type": "markdown",
   "metadata": {},
   "source": [
    "2. Find odd or even"
   ]
  },
  {
   "cell_type": "code",
   "execution_count": 13,
   "metadata": {},
   "outputs": [
    {
     "name": "stdout",
     "output_type": "stream",
     "text": [
      "True\n"
     ]
    }
   ],
   "source": [
    "def isEven (n):\n",
    "        if n%2==0:\n",
    "            return True\n",
    "        else :\n",
    "            return False\n",
    "print(isEven(10))"
   ]
  },
  {
   "cell_type": "markdown",
   "metadata": {},
   "source": [
    "3. You are given two integer numbers, the base a and the index b. You have to find the last digit of a^b.\n",
    "Example :\n",
    "- Input: a = \"3\", b = \"10\"\n",
    "- Output: 9\n",
    "- Explanation: 310 = 59049. Last digit is 9."
   ]
  },
  {
   "cell_type": "code",
   "execution_count": 16,
   "metadata": {},
   "outputs": [
    {
     "data": {
      "text/plain": [
       "4"
      ]
     },
     "execution_count": 16,
     "metadata": {},
     "output_type": "execute_result"
    }
   ],
   "source": [
    "def getLastDigit( a, b):\n",
    "        a,b = int(a), int(b)\n",
    "       \n",
    "        return (pow(a,b,10)) # pow(x, y, z)  z: Optional. A number, the modulus. if you do 1000 % 10 it will return. It wont return quotient. \n",
    "getLastDigit(4,3)"
   ]
  },
  {
   "cell_type": "markdown",
   "metadata": {},
   "source": [
    "4. Given a positive integer n, count the number of digits in n that divide n evenly (i.e., without leaving a remainder). Return the total number of such digits.\n",
    "\n",
    "A digit d of n divides n evenly if the remainder when n is divided by d is 0 (n % d == 0).\n",
    "Digits of n should be checked individually. If a digit is 0, it should be ignored because division by 0 is undefined."
   ]
  },
  {
   "cell_type": "markdown",
   "metadata": {},
   "source": [
    "Example : <br>\n",
    "Input: n = 12 <br>\n",
    "Output: 2 <br>\n",
    "Explanation: 1, 2 when both divide 12 leaves remainder 0."
   ]
  },
  {
   "cell_type": "code",
   "execution_count": 4,
   "metadata": {},
   "outputs": [
    {
     "name": "stdout",
     "output_type": "stream",
     "text": [
      "2\n"
     ]
    }
   ],
   "source": [
    "def evenlyDivides(n):\n",
    "        # print (\"Hi\")\n",
    "        # code here\n",
    "        digis=[]\n",
    "        orginal_n =n\n",
    "        #First write a code finds digits in the n and save it list digis.\n",
    "        \n",
    "        #if n as 1, then also I should consider  \n",
    "        while (n /10) >=0.1:\n",
    "            cur_dig= n%10\n",
    "            # print (cur_dig)\n",
    "            digis.append(cur_dig)\n",
    "            n=n//10\n",
    "            # print (n)\n",
    "            \n",
    "        \n",
    "        count = 0\n",
    "        # print (digis)\n",
    "        # Then try to divide the n using the digits in list digis\n",
    "        for i  in digis:\n",
    "            if i==0:\n",
    "                continue\n",
    "            elif orginal_n%i==0:\n",
    "                count=count+1\n",
    "        return count\n",
    "\n",
    "print (evenlyDivides(12))\n",
    "\n",
    "# Most Effective code : \n",
    "\"\"\"\n",
    "def evenlyDivides(self, n):\n",
    "        count = 0\n",
    "        for digit in str(n):\n",
    "            d = int(digit)\n",
    "            if d != 0 and n % d == 0:\n",
    "                count += 1\n",
    "        return count \n",
    "\"\"\""
   ]
  },
  {
   "cell_type": "markdown",
   "metadata": {},
   "source": [
    "Mistakes done:\n",
    "1. Dont know floor division operator(//) and what modules (%) operator do <br>\n",
    "Refer the link to know more about operators. <br>\n",
    "https://www.w3schools.com/python/python_operators.asp"
   ]
  },
  {
   "cell_type": "code",
   "execution_count": null,
   "metadata": {},
   "outputs": [],
   "source": []
  }
 ],
 "metadata": {
  "kernelspec": {
   "display_name": "chicken",
   "language": "python",
   "name": "python3"
  },
  "language_info": {
   "codemirror_mode": {
    "name": "ipython",
    "version": 3
   },
   "file_extension": ".py",
   "mimetype": "text/x-python",
   "name": "python",
   "nbconvert_exporter": "python",
   "pygments_lexer": "ipython3",
   "version": "3.12.1"
  }
 },
 "nbformat": 4,
 "nbformat_minor": 2
}
