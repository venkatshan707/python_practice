{
 "cells": [
  {
   "cell_type": "markdown",
   "metadata": {},
   "source": [
    "## Beginer Math problems"
   ]
  },
  {
   "cell_type": "markdown",
   "metadata": {},
   "source": [
    "1. List Comprehension:\n",
    "List comprehension offers a shorter syntax when you want to create a new list based on the values of an existing list."
   ]
  },
  {
   "cell_type": "code",
   "execution_count": 9,
   "metadata": {},
   "outputs": [
    {
     "name": "stdout",
     "output_type": "stream",
     "text": [
      "['apple', 'banana', 'mango']\n",
      "['Peacock', 'hen']\n"
     ]
    }
   ],
   "source": [
    "# Without list comprehension\n",
    "fruits = [\"apple\", \"banana\", \"cherry\", \"kiwi\", \"mango\"]\n",
    "newlist = []\n",
    "\n",
    "for x in fruits:\n",
    "  if \"a\" in x:\n",
    "    newlist.append(x)\n",
    "\n",
    "print(newlist)\n",
    "\n",
    "# With list comprehension\n",
    "birds = [\"crow\", \"Peacock\", \"hen\"]\n",
    "new_birds = [i for i in birds if 'e' in i] # only filtering elements (i) matching the condition and creating a new list out of that. \n",
    "print (new_birds)"
   ]
  },
  {
   "cell_type": "markdown",
   "metadata": {},
   "source": [
    "2. Find odd or even"
   ]
  },
  {
   "cell_type": "code",
   "execution_count": 13,
   "metadata": {},
   "outputs": [
    {
     "name": "stdout",
     "output_type": "stream",
     "text": [
      "True\n"
     ]
    }
   ],
   "source": [
    "def isEven (n):\n",
    "        if n%2==0:\n",
    "            return True\n",
    "        else :\n",
    "            return False\n",
    "print(isEven(10))"
   ]
  },
  {
   "cell_type": "markdown",
   "metadata": {},
   "source": [
    "<br> 3. You are given two integer numbers, the base a and the index b. You have to find the last digit of a^b.\n",
    "Example :\n",
    "- Input: a = \"3\", b = \"10\"\n",
    "- Output: 9\n",
    "- Explanation: 310 = 59049. Last digit is 9."
   ]
  },
  {
   "cell_type": "code",
   "execution_count": 16,
   "metadata": {},
   "outputs": [
    {
     "data": {
      "text/plain": [
       "4"
      ]
     },
     "execution_count": 16,
     "metadata": {},
     "output_type": "execute_result"
    }
   ],
   "source": [
    "def getLastDigit( a, b):\n",
    "        a,b = int(a), int(b)\n",
    "       \n",
    "        return (pow(a,b,10)) # pow(x, y, z)  z: Optional. A number, the modulus. if you do 1000 % 10 it will return 0 not quotient as 100. \n",
    "getLastDigit(4,3)"
   ]
  },
  {
   "cell_type": "markdown",
   "metadata": {},
   "source": [
    "<b> 4. Given a positive integer n, count the number of digits in n that divide n evenly (i.e., without leaving a remainder). Return the total number of such digits. </b>\n",
    "\n",
    "A digit d of n divides n evenly if the remainder when n is divided by d is 0 (n % d == 0).\n",
    "Digits of n should be checked individually. If a digit is 0, it should be ignored because division by 0 is undefined."
   ]
  },
  {
   "cell_type": "markdown",
   "metadata": {},
   "source": [
    "Example : <br>\n",
    "Input: n = 12 <br>\n",
    "Output: 2 <br>\n",
    "Explanation: 1, 2 when both divide 12 leaves remainder 0."
   ]
  },
  {
   "cell_type": "code",
   "execution_count": 4,
   "metadata": {},
   "outputs": [
    {
     "name": "stdout",
     "output_type": "stream",
     "text": [
      "2\n"
     ]
    }
   ],
   "source": [
    "def evenlyDivides(n):\n",
    "        # print (\"Hi\")\n",
    "        # code here\n",
    "        digis=[]\n",
    "        orginal_n =n\n",
    "        #First write a code finds digits in the n and save it list digis.\n",
    "        \n",
    "        #if n as 1, then also I should consider  \n",
    "        while (n /10) >=0.1:\n",
    "            cur_dig= n%10\n",
    "            # print (cur_dig)\n",
    "            digis.append(cur_dig)\n",
    "            n=n//10\n",
    "            # print (n)\n",
    "            \n",
    "        \n",
    "        count = 0\n",
    "        # print (digis)\n",
    "        # Then try to divide the n using the digits in list digis\n",
    "        for i  in digis:\n",
    "            if i==0:\n",
    "                continue\n",
    "            elif orginal_n%i==0:\n",
    "                count=count+1\n",
    "        return count\n",
    "\n",
    "print (evenlyDivides(12))\n",
    "\n",
    "# Most Effective code : \n",
    "\"\"\"\n",
    "def evenlyDivides(self, n):\n",
    "        count = 0\n",
    "        for digit in str(n):\n",
    "            d = int(digit)\n",
    "            if d != 0 and n % d == 0:\n",
    "                count += 1\n",
    "        return count \n",
    "\"\"\""
   ]
  },
  {
   "cell_type": "markdown",
   "metadata": {},
   "source": [
    "Mistakes done:\n",
    "1. Dont know floor division operator(//) and what modules (%) operator do <br>\n",
    "Refer the link to know more about operators. <br>\n",
    "https://www.w3schools.com/python/python_operators.asp"
   ]
  },
  {
   "cell_type": "markdown",
   "metadata": {},
   "source": [
    "**5. You are given an integer n. Your task is to reverse the digits, ensuring that the reversed number has no leading zeroes.**"
   ]
  },
  {
   "cell_type": "code",
   "execution_count": null,
   "metadata": {},
   "outputs": [
    {
     "ename": "SyntaxError",
     "evalue": "invalid syntax (1470371379.py, line 1)",
     "output_type": "error",
     "traceback": [
      "\u001b[1;36m  Cell \u001b[1;32mIn[1], line 1\u001b[1;36m\u001b[0m\n\u001b[1;33m    Optimal Solution:\u001b[0m\n\u001b[1;37m            ^\u001b[0m\n\u001b[1;31mSyntaxError\u001b[0m\u001b[1;31m:\u001b[0m invalid syntax\n"
     ]
    }
   ],
   "source": [
    "class Solution:\n",
    "    def reverseDigits(self, n):\n",
    "        rev_str = []\n",
    "        str_n = str(n)\n",
    "        str_n_r = str_n[::-1]\n",
    "\n",
    "        first_element = True\n",
    "\n",
    "        # Filter out leading zeros while reversing\n",
    "        for i in str_n_r:\n",
    "            if int(i) == 0 and first_element:\n",
    "                continue\n",
    "            else:\n",
    "                rev_str.append(int(i))\n",
    "                first_element = False\n",
    "\n",
    "        result = 0\n",
    "        more_than_ten = False\n",
    "\n",
    "        # Combine digits into a single integer\n",
    "        for i in rev_str:\n",
    "            if not more_than_ten:\n",
    "                result = int(i)\n",
    "            else:\n",
    "                result = (result * 10) + int(i)\n",
    "            more_than_ten = True\n",
    "\n",
    "        return result\n",
    "\n",
    "# Optimal Solution:\n",
    "\"\"\"\n",
    "class Solution:\n",
    "    def reverseDigits(self, n):\n",
    "        str_n = str(n)\n",
    "        reverse_str = str_n[::-1]\n",
    "        reverse_num = int(reverse_str)\n",
    "        return reverse_num\n",
    "\"\"\""
   ]
  },
  {
   "cell_type": "markdown",
   "metadata": {},
   "source": [
    "We dont have predefined fucntion in python to Reverse the stering : \n",
    "\n",
    "String slicing allows you to extract a portion (substring) of a string by specifying a range of indices. It is performed using the syntax:\n",
    "\n",
    ">string[start:end:step]\n",
    "\n",
    "Components of Slicing:\n",
    "1. start: <br>\n",
    "The index at which the slice starts (inclusive).\n",
    "Defaults to 0 if not provided.\n",
    "2. end:<br>\n",
    "The index at which the slice ends (exclusive).\n",
    "Defaults to the length of the string if not provided.\n",
    "3. step:<br>\n",
    "The step size or the interval between indices.\n",
    "Defaults to 1 if not provided.<br>\n",
    "**Negative Indices :** <br>\n",
    "Negative indices count from the end of the string.\n",
    "-1 represents the last character, -2 the second last, and so on."
   ]
  },
  {
   "cell_type": "code",
   "execution_count": 2,
   "metadata": {},
   "outputs": [
    {
     "name": "stdout",
     "output_type": "stream",
     "text": [
      "Pto\n",
      "nohtyP\n",
      "nhy\n",
      "olleh\n"
     ]
    }
   ],
   "source": [
    "text = \"Python\"\n",
    "\n",
    "# Extract every second character\n",
    "print(text[0:6:2])  # Output: \"Pto\"\n",
    "\n",
    "# Reverse the string\n",
    "print(text[::-1])   # Output: \"nohtyP\"\n",
    "\n",
    "# Extract every second character in reverse\n",
    "print(text[::-2])   # Output: \"nhy\"\n",
    "\n",
    "#Other ways of reversing string :\n",
    "\n",
    "#Using Join\n",
    "string = \"hello\"\n",
    "reversed_string = ''.join(reversed(string))  # \"olleh\"\n",
    "\n",
    "# Using Loop\n",
    "original_string = \"hello\"\n",
    "reversed_string = \"\"\n",
    "for char in original_string:\n",
    "    reversed_string = char + reversed_string\n",
    "print(reversed_string)  # Output: \"olleh\""
   ]
  },
  {
   "cell_type": "code",
   "execution_count": 4,
   "metadata": {},
   "outputs": [
    {
     "ename": "TypeError",
     "evalue": "'str' object does not support item assignment",
     "output_type": "error",
     "traceback": [
      "\u001b[1;31m---------------------------------------------------------------------------\u001b[0m",
      "\u001b[1;31mTypeError\u001b[0m                                 Traceback (most recent call last)",
      "Cell \u001b[1;32mIn[4], line 4\u001b[0m\n\u001b[0;32m      2\u001b[0m string \u001b[38;5;241m=\u001b[39m \u001b[38;5;124m\"\u001b[39m\u001b[38;5;124mhello\u001b[39m\u001b[38;5;124m\"\u001b[39m\n\u001b[0;32m      3\u001b[0m new_string \u001b[38;5;241m=\u001b[39m string[\u001b[38;5;241m1\u001b[39m:\u001b[38;5;241m4\u001b[39m]  \u001b[38;5;66;03m# \"ell\"\u001b[39;00m\n\u001b[1;32m----> 4\u001b[0m \u001b[43mstring\u001b[49m\u001b[43m[\u001b[49m\u001b[38;5;241;43m1\u001b[39;49m\u001b[43m]\u001b[49m \u001b[38;5;241m=\u001b[39m \u001b[38;5;124m\"\u001b[39m\u001b[38;5;124ma\u001b[39m\u001b[38;5;124m\"\u001b[39m  \u001b[38;5;66;03m# Error: Strings are immutable!\u001b[39;00m\n\u001b[0;32m      6\u001b[0m lst \u001b[38;5;241m=\u001b[39m [\u001b[38;5;241m1\u001b[39m, \u001b[38;5;241m2\u001b[39m, \u001b[38;5;241m3\u001b[39m, \u001b[38;5;241m4\u001b[39m, \u001b[38;5;241m5\u001b[39m]\n\u001b[0;32m      7\u001b[0m lst[\u001b[38;5;241m1\u001b[39m] \u001b[38;5;241m=\u001b[39m \u001b[38;5;241m9\u001b[39m  \u001b[38;5;66;03m# [1, 9, 3, 4, 5] - List elements can be modified.\u001b[39;00m\n",
      "\u001b[1;31mTypeError\u001b[0m: 'str' object does not support item assignment"
     ]
    }
   ],
   "source": [
    "#we can slice Lists also same way as string slicing, but we cant assigning values to particular indexes of string as we can in list\n",
    "string = \"hello\"\n",
    "new_string = string[1:4]  # \"ell\"\n",
    "string[1] = \"a\"  # Error: Strings are immutable!\n",
    "\n",
    "lst = [1, 2, 3, 4, 5]\n",
    "lst[1] = 9  # [1, 9, 3, 4, 5] - List elements can be modified.\n"
   ]
  },
  {
   "cell_type": "markdown",
   "metadata": {},
   "source": [
    "**6. Given a number n, find the value of n raised to the power of its own reverse.**\n",
    "\n",
    "Input: n = 10<br>\n",
    "Output: 10<br>\n",
    "Explanation: The reverse of 10 is 1 (leading zero is discarded), and 101 = 10."
   ]
  },
  {
   "cell_type": "code",
   "execution_count": 8,
   "metadata": {},
   "outputs": [
    {
     "name": "stdout",
     "output_type": "stream",
     "text": [
      "27000000\n",
      "400\n"
     ]
    }
   ],
   "source": [
    "# My code is the optimal solution\n",
    "class Solution:\n",
    "    def reverse_exponentiation(self, n):\n",
    "        str_n = str(n)\n",
    "        rev_str_n= str_n[::-1]\n",
    "        rev_n=int (rev_str_n)\n",
    "        \n",
    "        rev_exp= n**rev_n\n",
    "        return rev_exp\n",
    "sol= Solution()\n",
    "print (sol.reverse_exponentiation(300))#300**3\n",
    "print (sol.reverse_exponentiation(20)) # 20**2"
   ]
  },
  {
   "cell_type": "markdown",
   "metadata": {},
   "source": [
    "7. **Given two positive integers a and b, find GCD(Greatest common devisor) of a and b.**<br>\n",
    "Note: Don't use the inbuilt gcd function **"
   ]
  },
  {
   "cell_type": "code",
   "execution_count": null,
   "metadata": {},
   "outputs": [],
   "source": [
    "class Solution:\n",
    "    def gcd(self, a : int, b : int) -> int:\n",
    "        while b: # Runs until b became 0.\n",
    "            a, b = b, a % b\n",
    "        return a\n",
    "S=Solution\n",
    "S.gcd(34,60)\n",
    "\n",
    "# My solution :\n",
    "def gcd(self, a : int, b : int) -> int:\n",
    "        GCD=1\n",
    "        min_num = min (a,b)\n",
    "        for i in range ((min_num+1)):\n",
    "            # range (n) starts from 1 and ends with  n-1\n",
    "            if i ==0:\n",
    "                continue \n",
    "            if a%i==0 and b%i==0 and i>GCD:\n",
    "                GCD= i\n",
    "        # code here\n",
    "        return GCD\n",
    "# issue: More time taken than defined. "
   ]
  },
  {
   "cell_type": "markdown",
   "metadata": {},
   "source": [
    "The **Euclidean algorithm** for GCD works as follows:\n",
    "\n",
    "1. **Start with two numbers, `a` and `b`**:  \n",
    "   Let's say \\( a = 36 \\) and \\( b = 60 \\).\n",
    "\n",
    "2. **Replace `a` with `b`, and `b` with `a % b`**:  \n",
    "   This step reduces the problem to smaller numbers. The GCD of the original numbers is the same as the GCD of the new pair.\n",
    "   - Iteration 1: \\( a = 60, b = 36 \\) (because \\( 60 \\mod 36 = 24 \\))\n",
    "   - Iteration 2: \\( a = 36, b = 24 \\)\n",
    "   - Iteration 3: \\( a = 24, b = 12 \\)\n",
    "   - Iteration 4: \\( a = 12, b = 0 \\)\n",
    "\n",
    "3. **Stop when `b` becomes 0**:  \n",
    "   The current value of `a` is the GCD. Here, \\( a = 12 \\).\n",
    "\n",
    "### Why it works:\n",
    "The algorithm exploits the mathematical property:<br>\n",
    "GCD(a,b)=GCD(b,a mod b)<br>\n",
    "This ensures we reduce the numbers iteratively without changing the result."
   ]
  },
  {
   "cell_type": "markdown",
   "metadata": {},
   "source": []
  }
 ],
 "metadata": {
  "kernelspec": {
   "display_name": "chicken",
   "language": "python",
   "name": "python3"
  },
  "language_info": {
   "codemirror_mode": {
    "name": "ipython",
    "version": 3
   },
   "file_extension": ".py",
   "mimetype": "text/x-python",
   "name": "python",
   "nbconvert_exporter": "python",
   "pygments_lexer": "ipython3",
   "version": "3.12.1"
  }
 },
 "nbformat": 4,
 "nbformat_minor": 2
}
