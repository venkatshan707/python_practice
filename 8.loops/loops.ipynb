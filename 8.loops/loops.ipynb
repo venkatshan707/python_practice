{
 "cells": [
  {
   "cell_type": "markdown",
   "metadata": {},
   "source": [
    "## While Loop:"
   ]
  },
  {
   "cell_type": "code",
   "execution_count": 3,
   "metadata": {},
   "outputs": [
    {
     "name": "stdout",
     "output_type": "stream",
     "text": [
      "spending Rs.1. Remaining Balance: 15\n",
      "spending Rs.1. Remaining Balance: 14\n",
      "spending Rs.1. Remaining Balance: 13\n"
     ]
    }
   ],
   "source": [
    "money= 16\n",
    "while money>10:\n",
    "    money-=1\n",
    "    if money==12:\n",
    "        break # break entire loop stopped\n",
    "    print(f\"spending Rs.1. Remaining Balance: {money}\")\n",
    "    "
   ]
  },
  {
   "cell_type": "code",
   "execution_count": 6,
   "metadata": {},
   "outputs": [
    {
     "name": "stdout",
     "output_type": "stream",
     "text": [
      "spending Rs.1. Remaining Balance: 15\n",
      "spending Rs.1. Remaining Balance: 14\n",
      "spending Rs.1. Remaining Balance: 13\n",
      "spending Rs.1. Remaining Balance: 11\n",
      "spending Rs.1. Remaining Balance: 10\n",
      "we have reached balance:10\n"
     ]
    }
   ],
   "source": [
    "money= 16\n",
    "while money>10:\n",
    "    money-=1\n",
    "    if money==12:\n",
    "        continue  # after continue actions with in loop will be skipped\n",
    "    print(f\"spending Rs.1. Remaining Balance: {money}\")\n",
    "else: # Else condition in while loop executed when while loop ended\n",
    "    print(f\"we have reached balance:{money}\")\n",
    "    "
   ]
  },
  {
   "cell_type": "markdown",
   "metadata": {},
   "source": [
    "### For Loop:"
   ]
  },
  {
   "cell_type": "code",
   "execution_count": 11,
   "metadata": {},
   "outputs": [
    {
     "name": "stdout",
     "output_type": "stream",
     "text": [
      "chennai\n",
      "Delhi\n",
      "Bengalore\n",
      "\n",
      "\n",
      "c\n",
      "h\n",
      "e\n",
      "n\n",
      "n\n",
      "a\n",
      "i\n"
     ]
    }
   ],
   "source": [
    "cities = [\"chennai\", \"Delhi\", \"Bengalore\"]\n",
    "for city in cities:\n",
    "    print(city)\n",
    "\n",
    "print(\"\\n\")\n",
    "for i in \"chennai\":\n",
    "    print(i)\n"
   ]
  },
  {
   "cell_type": "code",
   "execution_count": 16,
   "metadata": {},
   "outputs": [
    {
     "name": "stdout",
     "output_type": "stream",
     "text": [
      "chennai\n"
     ]
    }
   ],
   "source": [
    "cities = [\"chennai\", \"Delhi\", \"Bengalore\"]\n",
    "for city in cities:\n",
    "    if city==\"Bengalore\":\n",
    "        break # break entire loop\n",
    "    elif city==\"Delhi\":\n",
    "        continue # in Current iteration, Skip actions after this statement will be statement\n",
    "    print(city)\n"
   ]
  },
  {
   "cell_type": "code",
   "execution_count": 22,
   "metadata": {},
   "outputs": [
    {
     "name": "stdout",
     "output_type": "stream",
     "text": [
      "10\n",
      "12\n",
      "14\n",
      "16\n",
      "18\n",
      "That's over\n"
     ]
    }
   ],
   "source": [
    "for i  in range (10, 20, 2): # start, (end-1) and interval \n",
    "       print(i)\n",
    "else :\n",
    "       print(\"That's over\")# when for loop ended. else will triggered"
   ]
  },
  {
   "cell_type": "code",
   "execution_count": 26,
   "metadata": {},
   "outputs": [
    {
     "name": "stdout",
     "output_type": "stream",
     "text": [
      "Venkat freshup!!\n",
      "Venkat eat!!\n",
      "Venkat work!!\n",
      "Venkat sleep!!\n",
      "Sachin freshup!!\n",
      "Sachin eat!!\n",
      "Sachin work!!\n",
      "Sachin sleep!!\n",
      "Sundar freshup!!\n",
      "Sundar eat!!\n",
      "Sundar work!!\n",
      "Sundar sleep!!\n"
     ]
    }
   ],
   "source": [
    "action =[\"freshup\",\"eat\", \"work\", \"sleep\"]\n",
    "members = [\"Venkat\", \"Sachin\", \"Sundar\"]\n",
    "\n",
    "for i  in members:\n",
    "    for j in action:\n",
    "        print(f\"{i} {j}!!\")"
   ]
  },
  {
   "cell_type": "code",
   "execution_count": null,
   "metadata": {},
   "outputs": [],
   "source": []
  }
 ],
 "metadata": {
  "kernelspec": {
   "display_name": "chicken",
   "language": "python",
   "name": "python3"
  },
  "language_info": {
   "codemirror_mode": {
    "name": "ipython",
    "version": 3
   },
   "file_extension": ".py",
   "mimetype": "text/x-python",
   "name": "python",
   "nbconvert_exporter": "python",
   "pygments_lexer": "ipython3",
   "version": "3.8.18"
  }
 },
 "nbformat": 4,
 "nbformat_minor": 2
}
