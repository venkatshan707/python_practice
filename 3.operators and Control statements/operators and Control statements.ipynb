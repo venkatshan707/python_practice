{
 "cells": [
  {
   "cell_type": "code",
   "execution_count": 1,
   "metadata": {},
   "outputs": [
    {
     "name": "stdout",
     "output_type": "stream",
     "text": [
      "65\n",
      "65.65\n"
     ]
    }
   ],
   "source": [
    "PM = \"Naredra Modi\"\n",
    "Age=64\n",
    "Age+=1#Incrementing 1\n",
    "print(Age)\n",
    "Age*=1.01\n",
    "print(Age)"
   ]
  },
  {
   "cell_type": "code",
   "execution_count": 2,
   "metadata": {},
   "outputs": [
    {
     "name": "stdout",
     "output_type": "stream",
     "text": [
      "66\n"
     ]
    }
   ],
   "source": [
    "print(round(Age))"
   ]
  },
  {
   "cell_type": "code",
   "execution_count": 4,
   "metadata": {},
   "outputs": [
    {
     "name": "stdout",
     "output_type": "stream",
     "text": [
      "Marendrasingh Dhoni\n",
      "42==42\n",
      " True\n",
      "42!=42\n",
      " False\n",
      "10>=10\n",
      " True\n"
     ]
    }
   ],
   "source": [
    "GOAT=\"Marendrasingh\"+\" \"+\"Dhoni\"\n",
    "print(GOAT)\n",
    "print((\"42==42\\n\"),42==42)\n",
    "print((\"42!=42\\n\"),42!=42)\n",
    "print((\"10>=10\\n\"), 10>=10)\n"
   ]
  },
  {
   "cell_type": "code",
   "execution_count": 1,
   "metadata": {},
   "outputs": [
    {
     "name": "stdout",
     "output_type": "stream",
     "text": [
      "True\n",
      "False\n",
      "False\n",
      "True\n",
      "False\n"
     ]
    }
   ],
   "source": [
    "list=[10, 30, 40]\n",
    "print(10 in list)\n",
    "print(15 in list)\n",
    "print((10 in list) and 15 in list)\n",
    "print(not(10 in list and 15 in list))\n",
    "print(not(10 in list or 15 in list))"
   ]
  },
  {
   "cell_type": "markdown",
   "metadata": {},
   "source": [
    "## IF Statement"
   ]
  },
  {
   "cell_type": "code",
   "execution_count": 9,
   "metadata": {},
   "outputs": [
    {
     "name": "stdout",
     "output_type": "stream",
     "text": [
      "You can't vote yet.\n"
     ]
    }
   ],
   "source": [
    "age = int(input(\"Enter your age: \"))\n",
    "\n",
    "if age > 18:\n",
    "    print(\"You can vote.\")\n",
    "elif age < 18:\n",
    "    print(\"You can't vote yet.\")\n",
    "else:\n",
    "    print(\"You are just eligible to vote.\")\n"
   ]
  },
  {
   "cell_type": "markdown",
   "metadata": {},
   "source": [
    "### Checking if Variable  is not empty"
   ]
  },
  {
   "cell_type": "code",
   "execution_count": 1,
   "metadata": {},
   "outputs": [
    {
     "name": "stdout",
     "output_type": "stream",
     "text": [
      "The string is not empty.\n"
     ]
    }
   ],
   "source": [
    "my_string = \"Hello, World!\"\n",
    "\n",
    "if my_string:  # This checks if the string is not empty\n",
    "    print(\"The string is not empty.\")\n",
    "else:\n",
    "    print(\"The string is empty.\")\n"
   ]
  },
  {
   "cell_type": "markdown",
   "metadata": {},
   "source": [
    "### Slicing and looping"
   ]
  },
  {
   "cell_type": "code",
   "execution_count": 13,
   "metadata": {},
   "outputs": [
    {
     "name": "stdout",
     "output_type": "stream",
     "text": [
      "Venkat\n",
      "t\n",
      "a\n",
      "k\n",
      "n\n",
      "e\n",
      "V\n"
     ]
    }
   ],
   "source": [
    "Myname= \"Venkat\"\n",
    "print(Myname)\n",
    "while(Myname!=\"\"):\n",
    "    print(Myname[-1])\n",
    "    Myname = Myname[:-1]\n",
    "    \n"
   ]
  },
  {
   "cell_type": "code",
   "execution_count": null,
   "metadata": {},
   "outputs": [],
   "source": []
  }
 ],
 "metadata": {
  "kernelspec": {
   "display_name": "Python 3",
   "language": "python",
   "name": "python3"
  },
  "language_info": {
   "codemirror_mode": {
    "name": "ipython",
    "version": 3
   },
   "file_extension": ".py",
   "mimetype": "text/x-python",
   "name": "python",
   "nbconvert_exporter": "python",
   "pygments_lexer": "ipython3",
   "version": "3.12.1"
  }
 },
 "nbformat": 4,
 "nbformat_minor": 2
}
