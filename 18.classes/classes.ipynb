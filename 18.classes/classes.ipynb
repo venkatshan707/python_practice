{
 "cells": [
  {
   "cell_type": "markdown",
   "metadata": {},
   "source": [
    "## Class:\n",
    "A class is a collection of objects. A class contains the blueprints or the prototype from which the objects are being created. It is a logical entity that contains some attributes and methods. bold text"
   ]
  },
  {
   "cell_type": "markdown",
   "metadata": {},
   "source": [
    "To understand the need for creating a class let’s consider an example, let’s say you wanted to track the number of dogs that may have different attributes like breed, and age. If a list is used, the first element could be the dog’s breed while the second element could represent its age. Let’s suppose there are 100 different dogs, then how would you know which element is supposed to be which? What if you wanted to add other properties to these dogs? This lacks organization and it’s the exact need for classes.\n",
    "\n"
   ]
  },
  {
   "cell_type": "markdown",
   "metadata": {},
   "source": [
    "## Objects:"
   ]
  },
  {
   "cell_type": "markdown",
   "metadata": {},
   "source": [
    "The object is an instance(an example) of a class. Object has a state and behavior associated with it."
   ]
  },
  {
   "cell_type": "markdown",
   "metadata": {},
   "source": [
    "An object consists of:\n",
    "* **Identity**: It gives a unique name to an object and enables one object to interact with other objects.\n",
    "\n",
    "Ex: The identity can be considered as the name of the dog.\n",
    "\n",
    "* **State**: It is represented by the attributes of an object. It also reflects the properties of an object.\n",
    "\n",
    "Ex: State or Attributes can be considered as the breed, age, or color of the dog.\n",
    "\n",
    "* **Behavior**: It is represented by the methods of an object. It also reflects the response of an object to other objects.\n",
    "\n",
    "Ex: The behavior can be considered as to whether the dog is eating or sleeping."
   ]
  },
  {
   "cell_type": "markdown",
   "metadata": {},
   "source": [
    "### Creating a class :"
   ]
  },
  {
   "cell_type": "markdown",
   "metadata": {},
   "source": [
    "1.   Classes are created by keyword class and Class Name's first letter should be Uppercase.\n",
    "2.   Attributes are the variables that belong to a class.\n",
    "3. Attributes are always public and can be accessed using the dot (.) operator. Eg.: Myclass.Myattribute"
   ]
  },
  {
   "cell_type": "code",
   "execution_count": 1,
   "metadata": {},
   "outputs": [],
   "source": [
    "class Dog :\n",
    "  pass\n"
   ]
  },
  {
   "cell_type": "markdown",
   "metadata": {},
   "source": [
    "**Creating Object**"
   ]
  },
  {
   "cell_type": "code",
   "execution_count": null,
   "metadata": {},
   "outputs": [],
   "source": [
    "obj = Dog()"
   ]
  },
  {
   "cell_type": "markdown",
   "metadata": {},
   "source": [
    "**python self**"
   ]
  },
  {
   "cell_type": "code",
   "execution_count": null,
   "metadata": {},
   "outputs": [
    {
     "name": "stdout",
     "output_type": "stream",
     "text": [
      "Rodger is an mammal\n",
      "Tommy is an mammal\n",
      "\n",
      "Rodger is an Rodger\n",
      "Tommy is an Tommy\n",
      "\n",
      "\n",
      "My name is Rodger\n",
      "My name is Tommy\n"
     ]
    }
   ],
   "source": [
    "class Dog:\n",
    "  #class attribute\n",
    "  attr1 = \"mammal\"\n",
    "\n",
    "  # Instance attribute\n",
    "  def __init__(self, name):\n",
    "    \"\"\"__init__ method is similar to constructors in C++ and Java. It is run as soon as an object \n",
    "    of a class is instantiated. The method is useful to do any initialization you want to do \n",
    "    with your object.\"\"\"\n",
    "    self.name = name\n",
    "\n",
    "  def speak(self):\n",
    "    print(\"My name is {}\".format(self.name))\n",
    "\"\"\" by dfault a object passed over self parameter. self parameter is default for all the class methods\"\"\"\n",
    "\n",
    "\n",
    "Rodger = Dog(\"Rodger\")\n",
    "Tommy  = Dog(\"Tommy\")\n",
    "\n",
    "\n",
    "# Accessing class attribute\n",
    "print(\"Rodger is an {}\".format(Rodger.__class__.attr1))\n",
    "\"\"\" All the class attributes are public and need to be accessed with dot(.) \"\"\"\n",
    "print(\"Tommy is an {}\".format(Tommy.__class__.attr1)+\"\\n\")\n",
    "\n",
    "\n",
    "#Accessing Instance attributes\n",
    "print (\"Rodger is an {}\".format(Rodger.name))\n",
    "print(\"Tommy is an {}\".format(Tommy.name)+\"\\n\\n\")\n",
    "\n",
    "\n",
    "#Accessing class method using diff objects\n",
    "Rodger.speak()\n",
    "Tommy.speak()\n",
    "\n"
   ]
  },
  {
   "cell_type": "markdown",
   "metadata": {},
   "source": [
    "## Code from Code Basics:"
   ]
  },
  {
   "cell_type": "code",
   "execution_count": 2,
   "metadata": {},
   "outputs": [
    {
     "name": "stdout",
     "output_type": "stream",
     "text": [
      "I'm a Tesla Model 3.\n",
      "Moves along..\n",
      "I'm a Cadillac Escalade.\n",
      "Moves along..\n"
     ]
    }
   ],
   "source": [
    "class Vehicle:\n",
    "    def __init__(self, make, model):\n",
    "        self.make = make\n",
    "        self.model = model\n",
    "\n",
    "    def moves(self):\n",
    "        print('Moves along..')\n",
    "\n",
    "    def get_make_model(self):\n",
    "        print(f\"I'm a {self.make} {self.model}.\")\n",
    "\n",
    "\n",
    "#Creating a object \n",
    "my_car = Vehicle('Tesla', 'Model 3')\n",
    "# print(my_car.make)\n",
    "# print(my_car.model)\n",
    "my_car.get_make_model()\n",
    "my_car.moves()\n",
    "\n",
    "#Creating another object to the vechicle class\n",
    "your_car = Vehicle('Cadillac', 'Escalade')\n",
    "your_car.get_make_model()\n",
    "your_car.moves()"
   ]
  },
  {
   "cell_type": "markdown",
   "metadata": {},
   "source": [
    "### Inheritance"
   ]
  },
  {
   "cell_type": "markdown",
   "metadata": {},
   "source": [
    "#### Inheriting a parent class but overriting (customizing )the method on child class"
   ]
  },
  {
   "cell_type": "code",
   "execution_count": 4,
   "metadata": {},
   "outputs": [
    {
     "name": "stdout",
     "output_type": "stream",
     "text": [
      "I'm a Tesla Model 3.\n",
      "Moves along..\n",
      "I'm a Cadillac Escalade.\n",
      "Moves along..\n",
      "I'm a Cessna Skyhawk.\n",
      "Flies along..\n",
      "I'm a Mack Pinnacle.\n",
      "Rumbles along..\n",
      "I'm a Yamaha GC100.\n",
      "Moves along..\n"
     ]
    }
   ],
   "source": [
    "class Vehicle:\n",
    "    def __init__(self, make, model):\n",
    "        self.make = make\n",
    "        self.model = model\n",
    "\n",
    "    def moves(self):\n",
    "        print('Moves along..')\n",
    "\n",
    "    def get_make_model(self):\n",
    "        print(f\"I'm a {self.make} {self.model}.\")\n",
    "\n",
    "\n",
    "#Creating a object \n",
    "my_car = Vehicle('Tesla', 'Model 3')\n",
    "# print(my_car.make)\n",
    "# print(my_car.model)\n",
    "my_car.get_make_model()\n",
    "my_car.moves()\n",
    "\n",
    "#Creating another object to the vechicle class\n",
    "your_car = Vehicle('Cadillac', 'Escalade')\n",
    "your_car.get_make_model()\n",
    "your_car.moves()\n",
    "\n",
    "\n",
    "class Airplane(Vehicle): # Airplane inheriting vechicle class\n",
    "    def moves(self):\n",
    "        print('Flies along..')\n",
    "    #Creating a custom fucntion for the Airplane class as it won't move as \"Moves along\". It flies\n",
    "\n",
    "\n",
    "class Truck(Vehicle):\n",
    "    def moves(self):\n",
    "        print('Rumbles along..')\n",
    "\n",
    "\n",
    "class GolfCart(Vehicle):\n",
    "    pass\n",
    "# we are not creating any custom function for Golfcart. So it's accessing the parent class method (moves) as it's.\n",
    "\n",
    "cessna = Airplane('Cessna', 'Skyhawk')\n",
    "mack = Truck('Mack', 'Pinnacle')\n",
    "golfwagon = GolfCart('Yamaha', 'GC100')\n",
    "\n",
    "cessna.get_make_model()\n",
    "cessna.moves()\n",
    "mack.get_make_model()\n",
    "mack.moves()\n",
    "golfwagon.get_make_model()\n",
    "golfwagon.moves()"
   ]
  },
  {
   "cell_type": "markdown",
   "metadata": {},
   "source": [
    "#### Adding Additional Attributes on the child class"
   ]
  },
  {
   "cell_type": "code",
   "execution_count": 1,
   "metadata": {},
   "outputs": [
    {
     "name": "stdout",
     "output_type": "stream",
     "text": [
      "I'm a Tesla Model 3.\n",
      "Moves along..\n",
      "I'm a Cadillac Escalade.\n",
      "Moves along..\n",
      "I'm a Cessna Skyhawk.\n",
      "Flies along..\n",
      "I'm a Mack Pinnacle.\n",
      "Rumbles along..\n",
      "I'm a Yamaha GC100.\n",
      "Moves along..\n",
      "\n",
      "\n",
      "\n",
      "I'm a Tesla Model 3.\n",
      "Moves along..\n",
      "I'm a Cadillac Escalade.\n",
      "Moves along..\n",
      "I'm a Cessna Skyhawk.\n",
      "Flies along..\n",
      "I'm a Mack Pinnacle.\n",
      "Rumbles along..\n",
      "I'm a Yamaha GC100.\n",
      "Moves along..\n"
     ]
    }
   ],
   "source": [
    "class Vehicle:\n",
    "    def __init__(self, make, model):\n",
    "        self.make = make\n",
    "        self.model = model\n",
    "\n",
    "    def moves(self):\n",
    "        print('Moves along..')\n",
    "\n",
    "    def get_make_model(self):\n",
    "        print(f\"I'm a {self.make} {self.model}.\")\n",
    "\n",
    "\n",
    "my_car = Vehicle('Tesla', 'Model 3')\n",
    "\n",
    "# print(my_car.make)\n",
    "# print(my_car.model)\n",
    "my_car.get_make_model()\n",
    "my_car.moves()\n",
    "\n",
    "your_car = Vehicle('Cadillac', 'Escalade')\n",
    "your_car.get_make_model()\n",
    "your_car.moves()\n",
    "\n",
    "\n",
    "class Airplane(Vehicle):\n",
    "    # Here we are defining custom constructor for Airplace class which is diff from parent(vechicle)\n",
    "    def __init__(self, make, model, faa_id):\n",
    "        super().__init__(make, model)# Bringing these attributes from parent class\n",
    "        self.faa_id = faa_id# creatig a new attribute for Airplace which tells flight ID\n",
    "\n",
    "    def moves(self):\n",
    "        print('Flies along..')\n",
    "\n",
    "\n",
    "class Truck(Vehicle):\n",
    "    def moves(self):\n",
    "        print('Rumbles along..')\n",
    "\n",
    "\n",
    "class GolfCart(Vehicle):\n",
    "    pass\n",
    "\n",
    "\n",
    "cessna = Airplane('Cessna', 'Skyhawk', 'N-12345')\n",
    "mack = Truck('Mack', 'Pinnacle')\n",
    "golfwagon = GolfCart('Yamaha', 'GC100')\n",
    "\n",
    "cessna.get_make_model()\n",
    "cessna.moves()\n",
    "mack.get_make_model()\n",
    "mack.moves()\n",
    "golfwagon.get_make_model()\n",
    "golfwagon.moves()\n",
    "\n",
    "print('\\n\\n')\n",
    "\n",
    "for v in (my_car, your_car, cessna, mack, golfwagon): # Iterating through each vechicle objects using for loop \n",
    "    v.get_make_model()\n",
    "    v.moves()# It's kind of polymorphism. The same method behaves differently based on how they built. "
   ]
  }
 ],
 "metadata": {
  "kernelspec": {
   "display_name": "chicken",
   "language": "python",
   "name": "python3"
  },
  "language_info": {
   "codemirror_mode": {
    "name": "ipython",
    "version": 3
   },
   "file_extension": ".py",
   "mimetype": "text/x-python",
   "name": "python",
   "nbconvert_exporter": "python",
   "pygments_lexer": "ipython3",
   "version": "3.11.5"
  }
 },
 "nbformat": 4,
 "nbformat_minor": 2
}
