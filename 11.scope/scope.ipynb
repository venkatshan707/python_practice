{
 "cells": [
  {
   "cell_type": "markdown",
   "metadata": {},
   "source": [
    "## Scope"
   ]
  },
  {
   "cell_type": "code",
   "execution_count": 1,
   "metadata": {},
   "outputs": [
    {
     "name": "stdout",
     "output_type": "stream",
     "text": [
      "venkat\n",
      "chennai\n"
     ]
    }
   ],
   "source": [
    "Name = \"venkat\" # Global scope variable can be accessed in any fucntion \n",
    "\n",
    "def pritnname():\n",
    "    print(Name)# Accessesing global variable value\n",
    "    Location =\"chennai\"\n",
    "    print(Location)\n",
    "    return\n",
    "\n",
    "#print(Location)# \n",
    "#You will get error is Location declared in Local scope. \n",
    "#can't access it w/o calling calling function\n",
    "\n",
    "#Calling function to access location variable\n",
    "pritnname()"
   ]
  },
  {
   "cell_type": "markdown",
   "metadata": {},
   "source": [
    "Skipping the Global scope variable if local scope variable with same name exist"
   ]
  },
  {
   "cell_type": "code",
   "execution_count": 3,
   "metadata": {},
   "outputs": [
    {
     "name": "stdout",
     "output_type": "stream",
     "text": [
      "John\n",
      "chennai\n"
     ]
    }
   ],
   "source": [
    "Name = \"venkat\"\n",
    "\n",
    "def pritnname(Name):\n",
    "    print(Name)# Printing variable with local scope only. priority for local scope\n",
    "    Location =\"chennai\"\n",
    "    print(Location)\n",
    "    return\n",
    "\n",
    "#Calling function to access location variable\n",
    "pritnname(\"John\")"
   ]
  },
  {
   "cell_type": "markdown",
   "metadata": {},
   "source": [
    "Passing parameter value which will act as local scope variable inside function"
   ]
  },
  {
   "cell_type": "code",
   "execution_count": 5,
   "metadata": {},
   "outputs": [
    {
     "name": "stdout",
     "output_type": "stream",
     "text": [
      "John\n",
      "chennai\n",
      "Peter\n",
      "chennai\n"
     ]
    }
   ],
   "source": [
    "Name = \"venkat\"\n",
    "\n",
    "def pritnname(Name):\n",
    "    print(Name)# Printing variable with local scope only. priority for local scope\n",
    "    Location =\"chennai\"\n",
    "    print(Location)\n",
    "    return\n",
    "\n",
    "#Calling function to access location variable\n",
    "pritnname(\"John\")\n",
    "def calling ():\n",
    "    pritnname(\"Peter\")# Paassing another parameter to the function. Which will work as local scope again.\n",
    "\n",
    "calling()\n"
   ]
  },
  {
   "cell_type": "markdown",
   "metadata": {},
   "source": [
    "**Nested Function:**\n",
    "* A nested function is a function defined within another function.\n",
    "* The inner function is scoped within the outer function and has access to the variables of the outer function's scope.\n",
    "* Nested functions are used for organizing code, reducing namespace pollution, and encapsulating functionality within a specific scope.\n",
    "* They are not necessarily wrappers; they might perform specific tasks within the outer function without necessarily wrapping another function."
   ]
  },
  {
   "cell_type": "code",
   "execution_count": 18,
   "metadata": {},
   "outputs": [
    {
     "name": "stdout",
     "output_type": "stream",
     "text": [
      "Peter\n",
      "chennai\n"
     ]
    }
   ],
   "source": [
    "def calling ():\n",
    "    Name= \"Venkat\"\n",
    "    Location =\"chennai\"\n",
    "    def printname(Name):\n",
    "        print(Name)# Printing variable with local scope only. priority for local scope\n",
    "        print(Location)# Accessing global variable\n",
    "        return\n",
    "    printname(\"Peter\") # calling a function( which is with local scope)\n",
    "    \n",
    "calling()\n",
    "\n",
    "#Here Calling function is called as Enclosing fucntion or Outer function.\n",
    "#printname() function called as Nested function or inner function\n"
   ]
  },
  {
   "cell_type": "code",
   "execution_count": 25,
   "metadata": {},
   "outputs": [
    {
     "ename": "UnboundLocalError",
     "evalue": "local variable 'Age' referenced before assignment",
     "output_type": "error",
     "traceback": [
      "\u001b[1;31m---------------------------------------------------------------------------\u001b[0m",
      "\u001b[1;31mUnboundLocalError\u001b[0m                         Traceback (most recent call last)",
      "Cell \u001b[1;32mIn[25], line 12\u001b[0m\n\u001b[0;32m      9\u001b[0m         \u001b[38;5;28;01mreturn\u001b[39;00m\n\u001b[0;32m     10\u001b[0m     printname(\u001b[38;5;124m\"\u001b[39m\u001b[38;5;124mPeter\u001b[39m\u001b[38;5;124m\"\u001b[39m) \n\u001b[1;32m---> 12\u001b[0m \u001b[43mcalling\u001b[49m\u001b[43m(\u001b[49m\u001b[43m)\u001b[49m\n\u001b[0;32m     14\u001b[0m \u001b[38;5;124;03m\"\"\"We will get error because, we didn't defined value for local variable (Age). \u001b[39;00m\n\u001b[0;32m     15\u001b[0m \u001b[38;5;124;03mIn the previous code snippets, we defined value to the local scope.\u001b[39;00m\n\u001b[0;32m     16\u001b[0m \n\u001b[0;32m     17\u001b[0m \u001b[38;5;124;03mCan't access local variable 'Age' where it is not associated with a value\"\"\"\u001b[39;00m\n\u001b[0;32m     18\u001b[0m \u001b[38;5;66;03m#UnboundLocalError: local variable 'Age' referenced before assignment\u001b[39;00m\n",
      "Cell \u001b[1;32mIn[25], line 10\u001b[0m, in \u001b[0;36mcalling\u001b[1;34m()\u001b[0m\n\u001b[0;32m      8\u001b[0m     \u001b[38;5;28mprint\u001b[39m(Location)\n\u001b[0;32m      9\u001b[0m     \u001b[38;5;28;01mreturn\u001b[39;00m\n\u001b[1;32m---> 10\u001b[0m \u001b[43mprintname\u001b[49m\u001b[43m(\u001b[49m\u001b[38;5;124;43m\"\u001b[39;49m\u001b[38;5;124;43mPeter\u001b[39;49m\u001b[38;5;124;43m\"\u001b[39;49m\u001b[43m)\u001b[49m\n",
      "Cell \u001b[1;32mIn[25], line 6\u001b[0m, in \u001b[0;36mcalling.<locals>.printname\u001b[1;34m(Name)\u001b[0m\n\u001b[0;32m      5\u001b[0m \u001b[38;5;28;01mdef\u001b[39;00m \u001b[38;5;21mprintname\u001b[39m(Name):\n\u001b[1;32m----> 6\u001b[0m     Age \u001b[38;5;241m=\u001b[39m\u001b[43mAge\u001b[49m\u001b[38;5;241m+\u001b[39m\u001b[38;5;241m1\u001b[39m\n\u001b[0;32m      7\u001b[0m     \u001b[38;5;28mprint\u001b[39m(Name)\n\u001b[0;32m      8\u001b[0m     \u001b[38;5;28mprint\u001b[39m(Location)\n",
      "\u001b[1;31mUnboundLocalError\u001b[0m: local variable 'Age' referenced before assignment"
     ]
    }
   ],
   "source": [
    "Name= \"Venkat\"\n",
    "Age =25\n",
    "def calling ():\n",
    "    Location =\"chennai\"\n",
    "    def printname(Name):\n",
    "        Age =Age+1\n",
    "        print(Name)\n",
    "        print(Location)\n",
    "        return\n",
    "    printname(\"Peter\") \n",
    "    \n",
    "calling()\n",
    "\n",
    "\"\"\"We will get error because, we didn't defined value for local variable (Age). \n",
    "In the previous code snippets, we defined value to the local scope.\n",
    "\n",
    "Can't access local variable 'Age' where it is not associated with a value\"\"\"\n",
    "#UnboundLocalError: local variable 'Age' referenced before assignment"
   ]
  },
  {
   "cell_type": "code",
   "execution_count": 30,
   "metadata": {},
   "outputs": [
    {
     "name": "stdout",
     "output_type": "stream",
     "text": [
      "Peter\n",
      "printing age from inside the fucntion:26\n",
      "printing Age from outside funtion: 26\n"
     ]
    }
   ],
   "source": [
    "Age =25\n",
    "Name= \"Venkat\"\n",
    "def calling ():\n",
    "    def printname(Name):\n",
    "        global Age # we are defining local variable which is referring global variable in memory. \n",
    "        Age +=1# Modify global variable value\n",
    "        print(Name)\n",
    "        print(f\"printing age from inside the fucntion:{Age}\")\n",
    "        return\n",
    "    printname(\"Peter\") \n",
    "    \n",
    "calling()\n",
    "print(f\"printing Age from outside funtion: {Age}\")"
   ]
  },
  {
   "cell_type": "code",
   "execution_count": 36,
   "metadata": {},
   "outputs": [
    {
     "name": "stdout",
     "output_type": "stream",
     "text": [
      "Peter\n",
      "printing age from inside the fucntion:81\n"
     ]
    },
    {
     "data": {
      "text/plain": [
       "\"In Python, nonlocal is used to indicate that a variable is not local to the innermost function scope, \\nbut it's not a global variable either; instead, it refers to a variable in the enclosing scope (not necessarily the global scope). \""
      ]
     },
     "execution_count": 36,
     "metadata": {},
     "output_type": "execute_result"
    }
   ],
   "source": [
    "# Bringing value from Enclosing fucntion using nonlocal key word\n",
    "Name= \"Venkat\"\n",
    "def calling ():\n",
    "    Age =80\n",
    "    def printname(Name):\n",
    "        nonlocal Age # we are defining local variable which is referring global variable in memory. \n",
    "        Age =Age +1# Modify global variable value\n",
    "        print(Name)\n",
    "        print(f\"printing age from inside the fucntion:{Age}\")\n",
    "        return\n",
    "    printname(\"Peter\") \n",
    "    \n",
    "calling()\n",
    "\n",
    "# Note : using nonlocal key world we can't refer global variable\n",
    "\"\"\"In Python, nonlocal is used to indicate that a variable is not local to the innermost function scope, \n",
    "but it's not a global variable either; instead, it refers to a variable in the enclosing scope (not necessarily the global scope). \"\"\""
   ]
  },
  {
   "cell_type": "code",
   "execution_count": null,
   "metadata": {},
   "outputs": [],
   "source": []
  }
 ],
 "metadata": {
  "kernelspec": {
   "display_name": "chicken",
   "language": "python",
   "name": "python3"
  },
  "language_info": {
   "codemirror_mode": {
    "name": "ipython",
    "version": 3
   },
   "file_extension": ".py",
   "mimetype": "text/x-python",
   "name": "python",
   "nbconvert_exporter": "python",
   "pygments_lexer": "ipython3",
   "version": "3.8.18"
  }
 },
 "nbformat": 4,
 "nbformat_minor": 2
}
