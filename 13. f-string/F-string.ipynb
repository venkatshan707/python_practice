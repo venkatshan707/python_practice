{
 "cells": [
  {
   "cell_type": "code",
   "execution_count": 19,
   "metadata": {},
   "outputs": [
    {
     "name": "stdout",
     "output_type": "stream",
     "text": [
      "Venkat has 3 coins\n",
      "\n",
      "Venkat has 3 coins\n",
      "\n",
      "Venkat has 3 coins\n",
      "\n",
      "Venkat has 3 coins\n",
      "\n",
      " Venkat has 3 coins\n",
      "\n",
      " venkat has 3 coins\n"
     ]
    }
   ],
   "source": [
    "person =\"Venkat\"\n",
    "coins = 3\n",
    "print(person+ \" has \"+str(coins)+ \" coins\")# Normal ways\n",
    "\n",
    "#oldmethod\n",
    "print(\"\\n%s has %s coins\" %(person, coins))# string interpolation with positional formatting.\n",
    "#using % has placeholder for variables\n",
    "\n",
    "print(\"\\n{} has {} coins\".format(person, coins))\n",
    "\n",
    "print(\"\\n{0} has {1} coins\".format(person, coins))\n",
    "\n",
    "print(\"\\n {person} has {coins} coins\".format(\n",
    "    person=person, \n",
    "    coins =coins))\n",
    "\n",
    "person_dict= {'person':\"venkat\", 'coins':coins}\n",
    "message =\"\\n {person} has {coins} coins\".format(**person_dict)#Using arbitrary keyword arguments\n",
    "print(message)"
   ]
  }
 ],
 "metadata": {
  "kernelspec": {
   "display_name": "chicken",
   "language": "python",
   "name": "python3"
  },
  "language_info": {
   "codemirror_mode": {
    "name": "ipython",
    "version": 3
   },
   "file_extension": ".py",
   "mimetype": "text/x-python",
   "name": "python",
   "nbconvert_exporter": "python",
   "pygments_lexer": "ipython3",
   "version": "3.8.18"
  }
 },
 "nbformat": 4,
 "nbformat_minor": 2
}
