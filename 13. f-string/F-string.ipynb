{
 "cells": [
  {
   "cell_type": "code",
   "execution_count": 31,
   "metadata": {},
   "outputs": [
    {
     "name": "stdout",
     "output_type": "stream",
     "text": [
      "Venkat has 3 coins\n",
      "\n",
      "Venkat has 3 coins\n",
      "\n",
      "Venkat has 3 coins\n",
      "\n",
      "Venkat has 3 coins\n",
      "\n",
      "Venkat has 3 coins\n",
      "\n",
      "venkat has 3 coins\n"
     ]
    }
   ],
   "source": [
    "person =\"Venkat\"\n",
    "coins = 3\n",
    "print(person+ \" has \"+str(coins)+ \" coins\")# Normal ways\n",
    "\n",
    "#oldmethod\n",
    "print(\"\\n%s has %s coins\" %(person, coins))# string interpolation with positional formatting.\n",
    "#using % has placeholder for variables\n",
    "\n",
    "print(\"\\n{} has {} coins\".format(person, coins))\n",
    "\n",
    "print(\"\\n{0} has {1} coins\".format(person, coins))\n",
    "\n",
    "print(\"\\n{person} has {coins} coins\".format(\n",
    "    person=person, \n",
    "    coins =coins))\n",
    "\n",
    "person_dict= {'person':\"venkat\", 'coins':coins}\n",
    "message =\"\\n{person} has {coins} coins\".format(**person_dict)#Using arbitrary keyword arguments\n",
    "print(message)\n",
    "\n"
   ]
  },
  {
   "cell_type": "code",
   "execution_count": 32,
   "metadata": {},
   "outputs": [
    {
     "name": "stdout",
     "output_type": "stream",
     "text": [
      "\n",
      "with f-string :Venkat has 3 coins\n",
      "\n",
      "with f-string :VENKAT has 6 coins\n",
      "\n",
      "with f-string :venkat has 6 coins\n"
     ]
    }
   ],
   "source": [
    "print(f\"\\nwith f-string :{person} has {coins} coins\")\n",
    "print(f\"\\nwith f-string :{person.upper()} has {2*3} coins\")\n",
    "# we can direct call variables, we can call functions \n",
    "#and we even we write path operations inside the {}\n",
    "\n",
    "print(f\"\\nwith f-string :{person_dict['person']} has {2*3} coins\")\n"
   ]
  },
  {
   "cell_type": "markdown",
   "metadata": {},
   "source": [
    "Formating options with f-string"
   ]
  },
  {
   "cell_type": "code",
   "execution_count": 34,
   "metadata": {},
   "outputs": [
    {
     "name": "stdout",
     "output_type": "stream",
     "text": [
      "2.25 times of 10 is 22.500\n"
     ]
    }
   ],
   "source": [
    "# we can pass formating options too if we use f-string\n",
    "num =10\n",
    "print(f\"2.25 times of {num} is {2.25*num:.3f}\")\n"
   ]
  },
  {
   "cell_type": "code",
   "execution_count": 36,
   "metadata": {},
   "outputs": [
    {
     "name": "stdout",
     "output_type": "stream",
     "text": [
      "2.25 times of 1 is 2.250\n",
      "2.25 times of 2 is 4.500\n",
      "2.25 times of 3 is 6.750\n",
      "2.25 times of 4 is 9.000\n",
      "2.25 times of 5 is 11.250\n"
     ]
    }
   ],
   "source": [
    "num =10\n",
    "for num in range(1, 6):\n",
    "    print(f\"2.25 times of {num} is {2.25*num:.3f}\")"
   ]
  },
  {
   "cell_type": "code",
   "execution_count": 37,
   "metadata": {},
   "outputs": [
    {
     "name": "stdout",
     "output_type": "stream",
     "text": [
      "1 is divided by 4.45 0.555556%\n",
      "2 is divided by 4.45 1.111111%\n",
      "3 is divided by 4.45 1.666667%\n",
      "4 is divided by 4.45 2.222222%\n",
      "5 is divided by 4.45 2.777778%\n"
     ]
    }
   ],
   "source": [
    "num =10\n",
    "for num in range(1, 6):\n",
    "    print(f\"{num} is divided by 4.45 {num/4/45:%}\")"
   ]
  }
 ],
 "metadata": {
  "kernelspec": {
   "display_name": "chicken",
   "language": "python",
   "name": "python3"
  },
  "language_info": {
   "codemirror_mode": {
    "name": "ipython",
    "version": 3
   },
   "file_extension": ".py",
   "mimetype": "text/x-python",
   "name": "python",
   "nbconvert_exporter": "python",
   "pygments_lexer": "ipython3",
   "version": "3.8.18"
  }
 },
 "nbformat": 4,
 "nbformat_minor": 2
}
