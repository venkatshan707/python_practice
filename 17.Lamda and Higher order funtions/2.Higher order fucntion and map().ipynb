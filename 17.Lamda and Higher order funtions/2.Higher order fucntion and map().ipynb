{
 "cells": [
  {
   "cell_type": "markdown",
   "metadata": {},
   "source": [
    "### Higher Order Functions\n",
    "Functions are objects we can pass them as arguments to other functions. **Functions that can accept other functions as arguments are also called higher-order functions**. In the example below, a function greet is created which takes a function as an argument."
   ]
  },
  {
   "cell_type": "code",
   "execution_count": 1,
   "metadata": {},
   "outputs": [
    {
     "name": "stdout",
     "output_type": "stream",
     "text": [
      "HI, I AM CREATED BY A FUNCTION PASSED AS AN ARGUMENT. and I am from shout function\n",
      "hi, i am created by a function passed as an argument. and I am from whisper function\n"
     ]
    }
   ],
   "source": [
    "# Python program to illustrate functions\n",
    "# can be passed as arguments to other functions\n",
    "def shout(text):\n",
    "\treturn f\"{text.upper()} and I am from shout function\"\n",
    "\n",
    "def whisper(text):\n",
    "\treturn f\"{text.lower()} and I am from whisper function\"\n",
    "\n",
    "def greet(func):\n",
    "\t# storing the function in a variable\n",
    "\tgreeting = func(\"Hi, I am created by a function passed as an argument.\")\n",
    "\tprint(greeting)\n",
    "\n",
    "\n",
    "greet(shout)\n",
    "greet(whisper)\n"
   ]
  },
  {
   "cell_type": "markdown",
   "metadata": {},
   "source": [
    "func in this context serves as a placeholder for any function that can take a string and perform some operation on it. It allows for more flexible and dynamic code where you can pass different functions to be executed in a consistent manne"
   ]
  }
 ],
 "metadata": {
  "kernelspec": {
   "display_name": "chicken",
   "language": "python",
   "name": "python3"
  },
  "language_info": {
   "codemirror_mode": {
    "name": "ipython",
    "version": 3
   },
   "file_extension": ".py",
   "mimetype": "text/x-python",
   "name": "python",
   "nbconvert_exporter": "python",
   "pygments_lexer": "ipython3",
   "version": "3.8.18"
  }
 },
 "nbformat": 4,
 "nbformat_minor": 2
}
