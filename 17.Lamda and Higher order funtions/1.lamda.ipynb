{
 "cells": [
  {
   "cell_type": "markdown",
   "metadata": {},
   "source": [
    "## Lambda Functions:\n",
    "* Lambda functions are single expressions that returns a value\n",
    "* Lambda expressions in Python are a way to create anonymous functions, which are functions without a name. They are typically used when you need a small, one-off function for a short period and **don't want to define a formal function using the def keyword**.\n",
    "* They are generally provided as input to other functions."
   ]
  },
  {
   "cell_type": "markdown",
   "metadata": {},
   "source": [
    "Syntax:\n",
    ">lambda arguments: expression"
   ]
  },
  {
   "cell_type": "markdown",
   "metadata": {},
   "source": [
    "* lambda: Keyword used to define a lambda function.\n",
    "* arguments: Comma-separated list of input parameters (similar to the arguments of a regular function).\n",
    "* expression: Single expression whose result is the return value of the function."
   ]
  },
  {
   "cell_type": "code",
   "execution_count": 4,
   "metadata": {},
   "outputs": [
    {
     "name": "stdout",
     "output_type": "stream",
     "text": [
      "9\n"
     ]
    }
   ],
   "source": [
    "# Formal Function:\n",
    "def sqr(a):\n",
    "    return a*a\n",
    "\n",
    "print(sqr(3))"
   ]
  },
  {
   "cell_type": "code",
   "execution_count": 3,
   "metadata": {},
   "outputs": [
    {
     "name": "stdout",
     "output_type": "stream",
     "text": [
      "9\n"
     ]
    }
   ],
   "source": [
    "# with lambda\n",
    "x = lambda a : a*a\n",
    "print(x(3))"
   ]
  },
  {
   "cell_type": "code",
   "execution_count": 5,
   "metadata": {},
   "outputs": [
    {
     "name": "stdout",
     "output_type": "stream",
     "text": [
      "9\n"
     ]
    }
   ],
   "source": [
    "# Linear Eqn: 5x+3y\n",
    "\n",
    "z = lambda x, y : (x+y)**2\n",
    "print(z(1,2))"
   ]
  }
 ],
 "metadata": {
  "kernelspec": {
   "display_name": "chicken",
   "language": "python",
   "name": "python3"
  },
  "language_info": {
   "codemirror_mode": {
    "name": "ipython",
    "version": 3
   },
   "file_extension": ".py",
   "mimetype": "text/x-python",
   "name": "python",
   "nbconvert_exporter": "python",
   "pygments_lexer": "ipython3",
   "version": "3.8.18"
  }
 },
 "nbformat": 4,
 "nbformat_minor": 2
}
