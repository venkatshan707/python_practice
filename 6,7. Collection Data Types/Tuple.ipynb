{
 "cells": [
  {
   "cell_type": "markdown",
   "metadata": {},
   "source": [
    "## Tuples"
   ]
  },
  {
   "cell_type": "markdown",
   "metadata": {},
   "source": [
    "It's most likely list. But Data inside tuple will not change and the order of data will not chnage"
   ]
  },
  {
   "cell_type": "code",
   "execution_count": 9,
   "metadata": {},
   "outputs": [
    {
     "name": "stdout",
     "output_type": "stream",
     "text": [
      "(1, 'dave', '4+8j', 78)\n",
      "(1, 'dave', '4+8j', 78)\n",
      "<class 'tuple'>\n"
     ]
    }
   ],
   "source": [
    "# Tuple with constructor\n",
    "my_tuple = tuple((1, \"dave\", \"4+8j\", 78))\n",
    "exm_tuple = (1, \"dave\", \"4+8j\", 78)\n",
    "print(exm_tuple)\n",
    "print(my_tuple)\n",
    "print(type(exm_tuple))"
   ]
  },
  {
   "cell_type": "code",
   "execution_count": 10,
   "metadata": {},
   "outputs": [
    {
     "name": "stdout",
     "output_type": "stream",
     "text": [
      "<class 'list'>\n"
     ]
    }
   ],
   "source": [
    "#Converting as list using list constructor\n",
    "my_list= list(my_tuple)\n",
    "print(type(my_list))"
   ]
  },
  {
   "cell_type": "code",
   "execution_count": 14,
   "metadata": {},
   "outputs": [
    {
     "name": "stdout",
     "output_type": "stream",
     "text": [
      "1\n",
      "['dave', '4+8j']\n",
      "78\n"
     ]
    }
   ],
   "source": [
    "# Packing a tuple. Assigning a tuple to an variable\n",
    "my_tuple = tuple((1, \"dave\", \"4+8j\", 78))\n",
    "\n",
    "#Unpacking the tuple. Here * denotes remaing items other than first and last\n",
    "(one, *two, hey)= my_tuple\n",
    "print(one)\n",
    "print(two)\n",
    "print(hey)"
   ]
  },
  {
   "cell_type": "markdown",
   "metadata": {},
   "source": [
    "### Methods on tuple "
   ]
  },
  {
   "cell_type": "markdown",
   "metadata": {},
   "source": [
    "1. **count(value)**: Returns the number of occurrences of the specified value in the tuple.\n",
    "2. **index(value, [start, [stop]])**: Returns the index of the first occurrence of the specified value. You can also provide optional start and stop parameters to specify the search range.\n",
    "3. **len(tuple)**: Returns the number of items in the tuple.\n",
    "4. **tuple(iterable)**: Converts an iterable (e.g., a list) into a tuple.\n",
    "\n",
    "Other than these we don't have other methods with tuple"
   ]
  },
  {
   "cell_type": "markdown",
   "metadata": {},
   "source": []
  },
  {
   "cell_type": "code",
   "execution_count": 27,
   "metadata": {},
   "outputs": [
    {
     "name": "stdout",
     "output_type": "stream",
     "text": [
      "2\n",
      "Index of 78:  3\n",
      "Length of my_tuple : 5\n"
     ]
    }
   ],
   "source": [
    "my_tuple = tuple((1, \"dave\", \"4+8j\", 78, 78))\n",
    "print(my_tuple.count(78))# Finding the occurances of an item\n",
    "print(\"Index of 78: \", my_tuple.index(78))\n",
    "print(\"Length of my_tuple :\",len(my_tuple))\n"
   ]
  },
  {
   "cell_type": "markdown",
   "metadata": {},
   "source": [
    "## Usage of Tuples\n",
    "what is the use of tuple and where we use in real world problems"
   ]
  },
  {
   "cell_type": "markdown",
   "metadata": {},
   "source": [
    "Tuples are used in Python for various purposes due to their immutability and lightweight nature. Here are some common use cases for tuples in real-world problems:"
   ]
  },
  {
   "cell_type": "markdown",
   "metadata": {},
   "source": [
    "1. **Data integrity**: Tuples are often used to represent data that should not be modified, such as database records or configuration settings. Since tuples are immutable, once created, their contents cannot be changed, providing a level of data integrity."
   ]
  },
  {
   "cell_type": "markdown",
   "metadata": {},
   "source": [
    "2. **Return multiple values from functions**: Functions in Python can return multiple values by packing them into a tuple. This is useful when a function needs to return more than one piece of data."
   ]
  },
  {
   "cell_type": "code",
   "execution_count": 28,
   "metadata": {},
   "outputs": [
    {
     "name": "stdout",
     "output_type": "stream",
     "text": [
      "('John', 20, 'A')\n"
     ]
    }
   ],
   "source": [
    "def get_student_info():\n",
    "    name = \"John\"\n",
    "    age = 20\n",
    "    grade = \"A\"\n",
    "    return name, age, grade\n",
    "\n",
    "student_info = get_student_info()\n",
    "print(student_info)  # Output: ('John', 20, 'A')\n"
   ]
  },
  {
   "cell_type": "markdown",
   "metadata": {},
   "source": [
    "3. **Unpacking:** Tuples can be unpacked, allowing their elements to be assigned to multiple variables in a single statement. This is commonly used to improve code readability and reduce the number of lines."
   ]
  },
  {
   "cell_type": "code",
   "execution_count": 29,
   "metadata": {},
   "outputs": [
    {
     "name": "stdout",
     "output_type": "stream",
     "text": [
      "x: 3\n",
      "y: 4\n"
     ]
    }
   ],
   "source": [
    "coordinates = (3, 4)\n",
    "x, y = coordinates\n",
    "print(\"x:\", x)  # Output: x: 3\n",
    "print(\"y:\", y)  # Output: y: 4\n"
   ]
  },
  {
   "cell_type": "markdown",
   "metadata": {},
   "source": [
    "4. **Iteration:** Tuples can be iterated over, making them suitable for situations where you need to access each element in a collection but do not need to modify the collection itself."
   ]
  },
  {
   "cell_type": "code",
   "execution_count": 30,
   "metadata": {},
   "outputs": [
    {
     "name": "stdout",
     "output_type": "stream",
     "text": [
      "3\n",
      "4\n"
     ]
    }
   ],
   "source": [
    "point = (3, 4)\n",
    "for coordinate in point:\n",
    "    print(coordinate)\n"
   ]
  },
  {
   "cell_type": "markdown",
   "metadata": {},
   "source": [
    "5. **Dictionary keys:** Since tuples are immutable, they can be used as keys in dictionaries, unlike lists, which are mutable and therefore cannot be used as dictionary keys."
   ]
  },
  {
   "cell_type": "code",
   "execution_count": 31,
   "metadata": {},
   "outputs": [],
   "source": [
    "student_grades = {('John', 'Doe'): 85, ('Alice', 'Smith'): 90}\n"
   ]
  },
  {
   "cell_type": "markdown",
   "metadata": {},
   "source": [
    "Tuples are particularly handy when you need to group together multiple pieces of data that belong together and when you want to ensure that this data remains unchanged."
   ]
  },
  {
   "cell_type": "code",
   "execution_count": null,
   "metadata": {},
   "outputs": [],
   "source": []
  }
 ],
 "metadata": {
  "kernelspec": {
   "display_name": "chicken",
   "language": "python",
   "name": "python3"
  },
  "language_info": {
   "codemirror_mode": {
    "name": "ipython",
    "version": 3
   },
   "file_extension": ".py",
   "mimetype": "text/x-python",
   "name": "python",
   "nbconvert_exporter": "python",
   "pygments_lexer": "ipython3",
   "version": "3.8.18"
  }
 },
 "nbformat": 4,
 "nbformat_minor": 2
}
