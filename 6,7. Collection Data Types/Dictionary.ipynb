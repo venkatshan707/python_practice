{
 "cells": [
  {
   "cell_type": "markdown",
   "metadata": {},
   "source": [
    "# Dictionaries"
   ]
  },
  {
   "cell_type": "markdown",
   "metadata": {},
   "source": [
    "They are saved in {key:value} form.\n",
    "\n",
    "It is used to deal with unordered set of key-value pairs.\n",
    "\n",
    "They key-value pairs is called as item.\n",
    "\n",
    "The values in the dictionary are mutable.\n",
    "\n",
    "The keys in the dictionary are immutable. also keys are acting as index to access items"
   ]
  },
  {
   "cell_type": "markdown",
   "metadata": {},
   "source": [
    "## Code Syntax for dictionaries"
   ]
  },
  {
   "cell_type": "code",
   "execution_count": 2,
   "metadata": {},
   "outputs": [
    {
     "name": "stdout",
     "output_type": "stream",
     "text": [
      "{100: 'COMP', 23: 'EXTC', 671: 'CHEM', 'Dharshan': 67}\n",
      "<class 'dict'>\n",
      "COMP\n",
      "CHEM\n",
      "67\n"
     ]
    }
   ],
   "source": [
    "d = {100:\"COMP\", 23:\"EXTC\", 671:\"CHEM\", \"Dharshan\": 67}\n",
    "print(d)\n",
    "print(type(d))\n",
    "print(d[100])\n",
    "print(d[671])\n",
    "print(d[\"Dharshan\"])"
   ]
  },
  {
   "cell_type": "code",
   "execution_count": 47,
   "metadata": {},
   "outputs": [
    {
     "name": "stdout",
     "output_type": "stream",
     "text": [
      "<class 'dict'>\n"
     ]
    }
   ],
   "source": [
    "#calling dictionary constructor\n",
    "sports = dict(cricket = \"Sachin\", Football = \"Ronaldo\")\n",
    "print(type(sports))"
   ]
  },
  {
   "cell_type": "markdown",
   "metadata": {},
   "source": [
    "### Accessing keys and Dictionaries"
   ]
  },
  {
   "cell_type": "code",
   "execution_count": 48,
   "metadata": {},
   "outputs": [
    {
     "name": "stdout",
     "output_type": "stream",
     "text": [
      "dict_keys(['cricket', 'Football'])\n",
      "dict_values(['Sachin', 'Ronaldo'])\n",
      "dict_items([('cricket', 'Sachin'), ('Football', 'Ronaldo')])\n"
     ]
    }
   ],
   "source": [
    "print(sports.keys())\n",
    "print(sports.values())\n",
    "print(sports.items())"
   ]
  },
  {
   "cell_type": "code",
   "execution_count": 49,
   "metadata": {},
   "outputs": [
    {
     "name": "stdout",
     "output_type": "stream",
     "text": [
      "True\n",
      "False\n",
      "True\n",
      "True\n"
     ]
    }
   ],
   "source": [
    "#verifying a keys and value existance in dictionary\n",
    "print(\"cricket\" in sports)\n",
    "print('Sachin' in sports) #membership operator only checks presense of key by default\n",
    "print('Sachin' in sports.values()) # we have specify dict.values() to check in values \n",
    "print(\"cricket\" in sports.keys()) #\n"
   ]
  },
  {
   "cell_type": "code",
   "execution_count": 50,
   "metadata": {},
   "outputs": [
    {
     "data": {
      "text/plain": [
       "{'cricket': 'kholi', 'Football': 'Messi'}"
      ]
     },
     "execution_count": 50,
     "metadata": {},
     "output_type": "execute_result"
    }
   ],
   "source": [
    "#changing values\n",
    "sports[\"cricket\"]= \"kholi\"\n",
    "sports.update({\"Football\": \"Messi\"})\n",
    "sports"
   ]
  },
  {
   "cell_type": "code",
   "execution_count": 51,
   "metadata": {},
   "outputs": [],
   "source": [
    "sports[\"Badminton\"]= \"Sindhu\"\n",
    "sports[\"Tennis\"]= \"Saniya\""
   ]
  },
  {
   "cell_type": "markdown",
   "metadata": {},
   "source": [
    "Deletion and poping from dictionary"
   ]
  },
  {
   "cell_type": "code",
   "execution_count": 52,
   "metadata": {},
   "outputs": [
    {
     "name": "stdout",
     "output_type": "stream",
     "text": [
      "Messi\n"
     ]
    },
    {
     "data": {
      "text/plain": [
       "{'cricket': 'kholi', 'Badminton': 'Sindhu', 'Tennis': 'Saniya'}"
      ]
     },
     "execution_count": 52,
     "metadata": {},
     "output_type": "execute_result"
    }
   ],
   "source": [
    "#popping the element\n",
    "print(sports.pop(\"Football\"))# when do pop it returns value of item and deletes item\n",
    "sports"
   ]
  },
  {
   "cell_type": "code",
   "execution_count": 53,
   "metadata": {},
   "outputs": [
    {
     "name": "stdout",
     "output_type": "stream",
     "text": [
      "('Tennis', 'Saniya')\n",
      "{'cricket': 'kholi', 'Badminton': 'Sindhu'}\n"
     ]
    }
   ],
   "source": [
    "print(sports.popitem())\n",
    "#Which del last item and returns the value of item in tuple\n",
    "print(sports)"
   ]
  },
  {
   "cell_type": "code",
   "execution_count": 54,
   "metadata": {},
   "outputs": [
    {
     "data": {
      "text/plain": [
       "{'cricket': 'kholi'}"
      ]
     },
     "execution_count": 54,
     "metadata": {},
     "output_type": "execute_result"
    }
   ],
   "source": [
    "del sports[\"Badminton\"]\n",
    "sports\n"
   ]
  },
  {
   "cell_type": "code",
   "execution_count": 55,
   "metadata": {},
   "outputs": [
    {
     "data": {
      "text/plain": [
       "{}"
      ]
     },
     "execution_count": 55,
     "metadata": {},
     "output_type": "execute_result"
    }
   ],
   "source": [
    "sports.clear()\n",
    "sports#clearing all the items in the dictonary"
   ]
  },
  {
   "cell_type": "markdown",
   "metadata": {},
   "source": [
    "### copying Dictionary"
   ]
  },
  {
   "cell_type": "code",
   "execution_count": 61,
   "metadata": {},
   "outputs": [
    {
     "name": "stdout",
     "output_type": "stream",
     "text": [
      "{'cricket': 'kholi', 'Badminton': 'Sindhu', 'Tennis': 'Saniya'}\n"
     ]
    }
   ],
   "source": [
    "sports= {'cricket': 'kholi', 'Badminton': 'Sindhu', 'Tennis': 'Saniya'}\n",
    "print(sports)"
   ]
  },
  {
   "cell_type": "markdown",
   "metadata": {},
   "source": [
    "Bad way of copying dictionary:"
   ]
  },
  {
   "cell_type": "code",
   "execution_count": 65,
   "metadata": {},
   "outputs": [
    {
     "name": "stdout",
     "output_type": "stream",
     "text": [
      "Bad copy of Dictionary:\n",
      "{}\n"
     ]
    }
   ],
   "source": [
    "print(\"Bad copy of Dictionary:\")\n",
    "games = sports# It's copying the dict, it's just referencing same \n",
    "#sports dict memory. when make changes on games, sports also\n",
    "# will get changes\n",
    "games.clear()\n",
    "print(sports)"
   ]
  },
  {
   "cell_type": "markdown",
   "metadata": {},
   "source": [
    "Good way of copying dictionary: "
   ]
  },
  {
   "cell_type": "code",
   "execution_count": 72,
   "metadata": {},
   "outputs": [
    {
     "name": "stdout",
     "output_type": "stream",
     "text": [
      "Good way of copying Dictionary:\n",
      "Right way of copying dict: {'cricket': 'kholi', 'Badminton': 'Sindhu', 'Tennis': 'Saniya'}\n",
      "\n",
      "Another of copying with constructor:\n",
      "{}\n",
      "{'cricket': 'kholi', 'Badminton': 'Sindhu', 'Tennis': 'Saniya'}\n"
     ]
    }
   ],
   "source": [
    "print(\"Good way of copying Dictionary:\")\n",
    "sports= {'cricket': 'kholi', 'Badminton': 'Sindhu', 'Tennis': 'Saniya'}\n",
    "\n",
    "games = sports.copy()# It's copying the dict, it's just referencing same \n",
    "#sports dict memory. when make changes on games, sports also\n",
    "# will get changes\n",
    "games.clear()\n",
    "print(f\"Right way of copying dict: {sports}\")\n",
    "\n",
    "print(\"\\nAnother of copying with constructor:\")\n",
    "athelets= dict(sports=games)\n",
    "athelets.clear()\n",
    "print(athelets )\n",
    "print(sports)\n"
   ]
  },
  {
   "cell_type": "markdown",
   "metadata": {},
   "source": [
    "### Nested Dictionaries"
   ]
  },
  {
   "cell_type": "code",
   "execution_count": 76,
   "metadata": {},
   "outputs": [],
   "source": [
    "\n",
    "indian_stars = {\n",
    "    \"sports\": {\n",
    "        \"Virat Kohli\": 33,\n",
    "        \"Mary Kom\": 39,\n",
    "        \"PV Sindhu\": 26\n",
    "    },\n",
    "    \"politics\": {\n",
    "        \"Narendra Modi\": 73,\n",
    "        \"Rahul Gandhi\": 51,\n",
    "        \"Priyanka Gandhi\": 50\n",
    "    },\n",
    "    \"entertainment\": {\n",
    "        \"Amitabh Bachchan\": 80,\n",
    "        \"Deepika Padukone\": 36,\n",
    "        \"Ranveer Singh\": 37\n",
    "    }\n",
    "}\n"
   ]
  },
  {
   "cell_type": "code",
   "execution_count": 79,
   "metadata": {},
   "outputs": [
    {
     "name": "stdout",
     "output_type": "stream",
     "text": [
      "Age of kholi in 2022 is : 33\n"
     ]
    }
   ],
   "source": [
    "print(\"Age of kholi in 2022 is :\",indian_stars[\"sports\"][\"Virat Kohli\"])"
   ]
  },
  {
   "cell_type": "markdown",
   "metadata": {},
   "source": [
    "Iterating with for loop :"
   ]
  },
  {
   "cell_type": "code",
   "execution_count": 80,
   "metadata": {},
   "outputs": [
    {
     "name": "stdout",
     "output_type": "stream",
     "text": [
      "We have 10 apples\n",
      "We have 15 bananas\n",
      "We have 20 oranges\n",
      "We have 12 grapes\n"
     ]
    }
   ],
   "source": [
    "# Create a dictionary of fruits and their quantities\n",
    "fruits = {\n",
    "    \"apple\": 10,\n",
    "    \"banana\": 15,\n",
    "    \"orange\": 20,\n",
    "    \"grape\": 12\n",
    "}\n",
    "\n",
    "# Iterate over the items in the dictionary using a for loop\n",
    "for fruit, quantity in fruits.items():\n",
    "    print(f\"We have {quantity} {fruit}s\")"
   ]
  },
  {
   "cell_type": "markdown",
   "metadata": {},
   "source": [
    "Using Zip function creating dict:"
   ]
  },
  {
   "cell_type": "code",
   "execution_count": 81,
   "metadata": {},
   "outputs": [
    {
     "name": "stdout",
     "output_type": "stream",
     "text": [
      "{'apple': 10, 'banana': 15, 'orange': 20, 'grape': 12}\n"
     ]
    }
   ],
   "source": [
    "#using zip fucntion creating dict\n",
    "# Define lists of keys and values\n",
    "keys = [\"apple\", \"banana\", \"orange\", \"grape\"]\n",
    "values = [10, 15, 20, 12]\n",
    "\n",
    "# Create a dictionary using zip\n",
    "fruits = dict(zip(keys, values))\n",
    "\n",
    "# Print the created dictionary\n",
    "print(fruits)\n"
   ]
  },
  {
   "cell_type": "markdown",
   "metadata": {},
   "source": [
    "Sorting based on keys and values:"
   ]
  },
  {
   "cell_type": "code",
   "execution_count": 83,
   "metadata": {},
   "outputs": [
    {
     "name": "stdout",
     "output_type": "stream",
     "text": [
      "Sorted by keys: {'apple': 10, 'banana': 15, 'grape': 12, 'orange': 20}\n",
      "Sorted by values: {'apple': 10, 'grape': 12, 'banana': 15, 'orange': 20}\n"
     ]
    }
   ],
   "source": [
    "\n",
    "# Sort the dictionary by keys\n",
    "sorted_by_keys = dict(sorted(fruits.items()))\n",
    "\n",
    "# Sort the dictionary by values\n",
    "sorted_by_values = dict(sorted(fruits.items(), key=lambda item: item[1]))\n",
    "\n",
    "# Print the sorted dictionaries\n",
    "print(\"Sorted by keys:\", sorted_by_keys)\n",
    "print(\"Sorted by values:\", sorted_by_values)\n"
   ]
  },
  {
   "cell_type": "markdown",
   "metadata": {},
   "source": [
    "Swapping Keys and Values"
   ]
  },
  {
   "cell_type": "code",
   "execution_count": null,
   "metadata": {},
   "outputs": [],
   "source": [
    "# Define the original dictionary\n",
    "fruits = {\n",
    "    \"apple\": \"red\",\n",
    "    \"banana\": \"yellow\",\n",
    "    \"orange\": \"orange\",\n",
    "    \"grape\": \"purple\"\n",
    "}\n",
    "\n",
    "# Swap keys and values using dictionary comprehension\n",
    "swapped_fruits = {v: k for k, v in fruits.items()}\n",
    "\n",
    "# Print the swapped dictionary\n",
    "print(swapped_fruits)"
   ]
  },
  {
   "cell_type": "markdown",
   "metadata": {},
   "source": [
    "Merging two dict:"
   ]
  },
  {
   "cell_type": "code",
   "execution_count": 84,
   "metadata": {},
   "outputs": [],
   "source": [
    "# Define two dictionaries\n",
    "dict1 = {\"a\": 1, \"b\": 2}\n",
    "dict2 = {\"b\": 3, \"c\": 4}\n",
    "\n",
    "# Method 1: Using the update() method\n",
    "merged_dict1 = dict1.copy()  # Make a copy of dict1 to avoid modifying it directly\n",
    "merged_dict1.update(dict2)   # Update dict1 with the key-value pairs from dict2\n",
    "\n",
    "# Method 2: Using the unpacking operator (**) for dictionary merging\n",
    "merged_dict2 = {**dict1, **dict2}"
   ]
  },
  {
   "cell_type": "markdown",
   "metadata": {},
   "source": [
    "## Example usgae of Dictionaries"
   ]
  },
  {
   "cell_type": "markdown",
   "metadata": {},
   "source": [
    "Dictionaries are extensively used in real-world problems across various domains due to their versatility in representing key-value pairs. Here are some common examples:"
   ]
  },
  {
   "cell_type": "markdown",
   "metadata": {},
   "source": [
    "\n",
    "1. Data Retrieval:\n",
    "Dictionaries are often used in databases and APIs to retrieve data based on keys. For example, in a database of customer information, you might use a dictionary where the customer ID is the key and the customer details (name, address, etc.) are the values."
   ]
  },
  {
   "cell_type": "code",
   "execution_count": null,
   "metadata": {},
   "outputs": [
    {
     "name": "stdout",
     "output_type": "stream",
     "text": [
      "Customer Info: {'name': 'John Doe', 'age': 30, 'city': 'New York'}\n"
     ]
    }
   ],
   "source": [
    "# Example: Customer information database\n",
    "customer_database = {\n",
    "    1001: {\"name\": \"John Doe\", \"age\": 30, \"city\": \"New York\"},\n",
    "    #key:value pair. A value of dictionary can hold another dictionary.\n",
    "    1002: {\"name\": \"Jane Smith\", \"age\": 25, \"city\": \"Los Angeles\"}\n",
    "}\n",
    "\n",
    "# Retrieving customer information by ID\n",
    "customer_id = 1001\n",
    "customer_info = customer_database.get(customer_id)\n",
    "print(\"Customer Info:\", customer_info)"
   ]
  },
  {
   "cell_type": "markdown",
   "metadata": {},
   "source": [
    "2. **Configuration Settings:**\n",
    "Many software applications use dictionaries to store configuration settings. Each setting (e.g., display resolution, language preference) can be stored as a key-value pair in a dictionary."
   ]
  },
  {
   "cell_type": "code",
   "execution_count": null,
   "metadata": {},
   "outputs": [
    {
     "name": "stdout",
     "output_type": "stream",
     "text": [
      "Display Resolution: 1920x1080\n",
      "Language: English\n"
     ]
    }
   ],
   "source": [
    "# Example: Application configuration settings\n",
    "app_config = {\n",
    "    \"display_resolution\": \"1920x1080\",\n",
    "    \"language\": \"English\",\n",
    "    \"theme\": \"Dark\"\n",
    "}\n",
    "\n",
    "# Accessing configuration settings\n",
    "print(\"Display Resolution:\", app_config[\"display_resolution\"])\n",
    "print(\"Language:\", app_config[\"language\"])\n"
   ]
  },
  {
   "cell_type": "markdown",
   "metadata": {},
   "source": [
    "3. **Web Development**:\n",
    "Dictionaries are commonly used in web development to represent JSON (JavaScript Object Notation) data. JSON data, which is widely used for transmitting data between a server and a web application, is essentially a collection of key-value pairs."
   ]
  },
  {
   "cell_type": "code",
   "execution_count": null,
   "metadata": {},
   "outputs": [
    {
     "name": "stdout",
     "output_type": "stream",
     "text": [
      "Name: John Doe\n",
      "Age: 30\n"
     ]
    }
   ],
   "source": [
    "# Example: JSON data representation\n",
    "json_data = {\n",
    "    \"name\": \"John Doe\",\n",
    "    \"age\": 30,\n",
    "    \"city\": \"New York\"\n",
    "}\n",
    "\n",
    "# Accessing JSON data\n",
    "print(\"Name:\", json_data[\"name\"])\n",
    "print(\"Age:\", json_data[\"age\"])\n"
   ]
  },
  {
   "cell_type": "markdown",
   "metadata": {},
   "source": [
    "4. **Natural Language Processing (NLP):**\n",
    "Dictionaries are used extensively in NLP tasks, such as text processing, sentiment analysis, and language translation. For example, a dictionary might be used to store mappings between words and their corresponding part-of-speech tags or sentiment scores."
   ]
  },
  {
   "cell_type": "code",
   "execution_count": null,
   "metadata": {},
   "outputs": [
    {
     "name": "stdout",
     "output_type": "stream",
     "text": [
      "Part of Speech for apple: Noun\n"
     ]
    }
   ],
   "source": [
    "# Example: Mapping words to part-of-speech tags\n",
    "pos_tags = {\n",
    "    \"apple\": \"Noun\",\n",
    "    \"eat\": \"Verb\",\n",
    "    \"delicious\": \"Adjective\"\n",
    "}\n",
    "\n",
    "# Accessing part-of-speech tags\n",
    "word = \"apple\"\n",
    "print(\"Part of Speech for\", word + \":\", pos_tags[word])\n"
   ]
  },
  {
   "cell_type": "markdown",
   "metadata": {},
   "source": [
    "5. **Machine Learning:**\n",
    "Dictionaries are used in machine learning for various purposes, including feature representation, model configuration, and result interpretation. For instance, in a text classification task, a dictionary might be used to map words to numerical feature vectors."
   ]
  },
  {
   "cell_type": "code",
   "execution_count": null,
   "metadata": {},
   "outputs": [
    {
     "name": "stdout",
     "output_type": "stream",
     "text": [
      "Feature value for word2: 0.5\n"
     ]
    }
   ],
   "source": [
    "# Example: Feature representation in text classification\n",
    "text_features = {\n",
    "    \"word1\": 0.2,\n",
    "    \"word2\": 0.5,\n",
    "    \"word3\": 0.8\n",
    "}\n",
    "\n",
    "# Accessing text features\n",
    "word = \"word2\"\n",
    "print(\"Feature value for\", word + \":\", text_features[word])\n"
   ]
  }
 ],
 "metadata": {
  "kernelspec": {
   "display_name": "chicken",
   "language": "python",
   "name": "python3"
  },
  "language_info": {
   "codemirror_mode": {
    "name": "ipython",
    "version": 3
   },
   "file_extension": ".py",
   "mimetype": "text/x-python",
   "name": "python",
   "nbconvert_exporter": "python",
   "pygments_lexer": "ipython3",
   "version": "3.8.18"
  }
 },
 "nbformat": 4,
 "nbformat_minor": 2
}
