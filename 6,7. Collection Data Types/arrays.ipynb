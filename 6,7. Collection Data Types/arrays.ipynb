{
 "cells": [
  {
   "cell_type": "markdown",
   "metadata": {},
   "source": [
    "## Arrays"
   ]
  },
  {
   "cell_type": "markdown",
   "metadata": {},
   "source": [
    "### Do we have Array data struture in python ?\n",
    "\n",
    "Python's built-in list type is often used in ways similar to arrays in other programming languages, Python does indeed have a specific array data structure as well, which is provided by the 'array' module\n",
    "\n",
    "https://docs.python.org/3/library/array.html"
   ]
  },
  {
   "cell_type": "code",
   "execution_count": 2,
   "metadata": {},
   "outputs": [
    {
     "name": "stdout",
     "output_type": "stream",
     "text": [
      "<class 'array.array'>\n",
      "1\n",
      "array('i', [1, 2, 3, 4, 5, 6])\n"
     ]
    }
   ],
   "source": [
    "import array # Importing array module \n",
    "\n",
    "# Create an array of signed integers with initial values\n",
    "my_array = array.array('i', [1, 2, 3, 4, 5]) # Sending arguments to array class constructor\n",
    "\n",
    "print (type (my_array )) # we have clss called <class 'array.array'>\n",
    "\n",
    "# Accessing elements\n",
    "print(my_array[0])  # Output: 1\n",
    "\n",
    "# Appending an element\n",
    "my_array.append(6)\n",
    "print(my_array)  # Output: array('i', [1, 2, 3, 4, 5, 6])"
   ]
  },
  {
   "cell_type": "markdown",
   "metadata": {},
   "source": [
    "### Array Type Codes: \n",
    "array.array('i', [1, 2, 3, 4, 5])\n",
    "Here what is 'i'? .\n",
    "ans : Here i is an type code.\n",
    "\n",
    "The array module requires you to specify a type code to indicate the type of elements the array will hold. Here are some common type codes:\n",
    "\n",
    "> 'b': signed char (int)\n",
    "\n",
    "> 'B': unsigned char (int)\n",
    "\n",
    "> 'u': Unicode character (str)\n",
    "\n",
    "> 'h': signed short (int)\n",
    "\n",
    "> 'H': unsigned short (int)\n",
    "\n",
    "> 'i': signed int\n",
    "\n",
    "> 'I': unsigned int\n",
    "\n",
    "> 'l': signed long (int)\n",
    "\n",
    "> 'L': unsigned long (int)\n",
    "\n",
    "> 'f': float\n",
    "\n",
    "> 'd': double"
   ]
  },
  {
   "cell_type": "markdown",
   "metadata": {},
   "source": [
    "Differences Between Lists and Arrays\n",
    "\n",
    "> Type Constraints:\n",
    "* Lists: Can contain elements of different types.\n",
    "* Arrays: Contain elements of the same type.\n",
    "\n",
    ">Memory Efficiency:\n",
    "* Lists: Less memory efficient.\n",
    "* Arrays: More memory efficient for large collections of homogeneous data.\n",
    "\n",
    "> Flexibility:\n",
    "\n",
    "* Lists: More flexible in terms of operations and the types of elements they can contain.\n",
    "* Arrays: More restrictive but provide better performance for large collections of uniform data.\n",
    "\n",
    "> When to Use Lists vs. Arrays\n",
    "* Lists: Use when you need a flexible and dynamic container for elements of different types or when you need to frequently change the size of the container.\n",
    "* Arrays: Use when you need a more memory-efficient container for a large number of elements of the same type and you don't need the additional flexibility of lists."
   ]
  },
  {
   "cell_type": "markdown",
   "metadata": {},
   "source": [
    "### Conclusion :"
   ]
  },
  {
   "cell_type": "markdown",
   "metadata": {},
   "source": [
    "While Python lists are often used in a way similar to arrays in other programming languages, Python does have a dedicated array data structure in the array module for cases where a more memory-efficient and type-specific array is needed. Additionally, libraries like NumPy and Pandas provide powerful array-like structures for specialized use cases in scientific computing and data analysis."
   ]
  }
 ],
 "metadata": {
  "kernelspec": {
   "display_name": "chicken",
   "language": "python",
   "name": "python3"
  },
  "language_info": {
   "codemirror_mode": {
    "name": "ipython",
    "version": 3
   },
   "file_extension": ".py",
   "mimetype": "text/x-python",
   "name": "python",
   "nbconvert_exporter": "python",
   "pygments_lexer": "ipython3",
   "version": "3.12.1"
  }
 },
 "nbformat": 4,
 "nbformat_minor": 2
}
