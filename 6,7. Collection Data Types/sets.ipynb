{
 "cells": [
  {
   "cell_type": "markdown",
   "metadata": {},
   "source": [
    "# Sets\n",
    "> A Set is a collection which is unordered and unindexed.\n",
    "It wont store the duplicate items\n",
    "\n",
    "> It is saved using { } braces."
   ]
  },
  {
   "cell_type": "code",
   "execution_count": 41,
   "metadata": {},
   "outputs": [
    {
     "name": "stdout",
     "output_type": "stream",
     "text": [
      "{False, 1, 3, 100, 45}\n",
      "<class 'set'>\n",
      "5\n",
      "is 100 in nums1 set ?: True\n"
     ]
    }
   ],
   "source": [
    "# Creating Set\n",
    "nums = {1,2,4, 5}\n",
    "\n",
    "#using set constructor fucntion to create set. \n",
    "nums1 =set ((1,3,45,100,100,100, True,  False,0 )) # Duplicates are not allowed\n",
    "# 1 is duplicate of True and False is duplicate of 0. \n",
    "# Prints first occurance of duplicate \n",
    "print (nums1)\n",
    "print(type(nums1))\n",
    "print(len(nums1))\n",
    "print (\"is 100 in nums1 set ?:\",100 in nums1)# Checking membership"
   ]
  },
  {
   "cell_type": "markdown",
   "metadata": {},
   "source": [
    "You can't access elements in a set with index \n",
    ">print (nums1[2])  #  It will give error "
   ]
  },
  {
   "cell_type": "markdown",
   "metadata": {},
   "source": [
    "### Modifying set"
   ]
  },
  {
   "cell_type": "markdown",
   "metadata": {},
   "source": [
    "When adding elements those are simply added in set. when you print, there is no rule like recently added element printed at last"
   ]
  },
  {
   "cell_type": "code",
   "execution_count": 43,
   "metadata": {},
   "outputs": [
    {
     "name": "stdout",
     "output_type": "stream",
     "text": [
      "{False, 1, 3, 100, 45}\n",
      "{False, 1, 3, 100, 45, 'Hii'}\n",
      "{False, 1, 3, 100, 45, 'Hello', 'How are you', 'Hii'}\n",
      "{False, 1, 3, 100, 'I am fine', 45, 'Hello', 'How are you', 'Hii'}\n"
     ]
    }
   ],
   "source": [
    "print(nums1)\n",
    "nums1.add(\"Hii\")\n",
    "print(nums1)\n",
    "nums1.update({\"Hello\", \"How are you\"})# Adding multiple elements at a time \n",
    "print(nums1)\n",
    "nums1.update(list([\"I am fine\", \"How are you\"]))# Adding multiple elements at a time \n",
    "print(nums1)\n"
   ]
  },
  {
   "cell_type": "markdown",
   "metadata": {},
   "source": [
    "## Set Theory"
   ]
  },
  {
   "cell_type": "markdown",
   "metadata": {},
   "source": [
    "1. Union (|):\n",
    ">The union of two sets consists of all elements that are in either set."
   ]
  },
  {
   "cell_type": "code",
   "execution_count": 44,
   "metadata": {},
   "outputs": [
    {
     "name": "stdout",
     "output_type": "stream",
     "text": [
      "Union: {1, 2, 3, 4, 5}\n"
     ]
    }
   ],
   "source": [
    "set1 = {1, 2, 3}\n",
    "set2 = {3, 4, 5}\n",
    "union_set = set1 | set2\n",
    "\n",
    "print(\"Union:\", union_set)\n",
    "# Output: {1, 2, 3, 4, 5}\n"
   ]
  },
  {
   "cell_type": "markdown",
   "metadata": {},
   "source": [
    "2. Intersection (&):\n",
    ">The intersection of two sets consists of all elements that are common to both sets."
   ]
  },
  {
   "cell_type": "code",
   "execution_count": 47,
   "metadata": {},
   "outputs": [
    {
     "name": "stdout",
     "output_type": "stream",
     "text": [
      "Intersection: {3}\n"
     ]
    }
   ],
   "source": [
    "set1 = {1, 2, 3}\n",
    "set2 = {3, 4, 5}\n",
    "intersection_set = set1 & set2\n",
    "print(\"Intersection:\", intersection_set)\n",
    "# Output: {3}\n"
   ]
  },
  {
   "cell_type": "markdown",
   "metadata": {},
   "source": [
    "3. Superset (issuperset())\n",
    ">A set A is said to be a superset of another set B if all elements of B are "
   ]
  },
  {
   "cell_type": "code",
   "execution_count": 48,
   "metadata": {},
   "outputs": [
    {
     "name": "stdout",
     "output_type": "stream",
     "text": [
      "Is set1 a superset of set2? True\n"
     ]
    }
   ],
   "source": [
    "set1 = {1, 2, 3, 4, 5}\n",
    "set2 = {3, 4}\n",
    "\n",
    "is_superset = set1.issuperset(set2)\n",
    "\n",
    "print(\"Is set1 a superset of set2?\", is_superset)\n",
    "# Output: True"
   ]
  },
  {
   "cell_type": "markdown",
   "metadata": {},
   "source": [
    "4. Subset (issubset()):\n",
    ">A set A is said to be a subset of another set B if all elements of A are in B."
   ]
  },
  {
   "cell_type": "code",
   "execution_count": 49,
   "metadata": {},
   "outputs": [
    {
     "name": "stdout",
     "output_type": "stream",
     "text": [
      "Is set2 a subset of set1? True\n"
     ]
    }
   ],
   "source": [
    "set1 = {1, 2, 3, 4, 5}\n",
    "set2 = {3, 4}\n",
    "\n",
    "is_subset = set2.issubset(set1)\n",
    "\n",
    "print(\"Is set2 a subset of set1?\", is_subset)\n",
    "# Output: True\n"
   ]
  },
  {
   "cell_type": "markdown",
   "metadata": {},
   "source": [
    "5. Proper Subset:\n",
    ">A set A is said to be a proper subset of another set B if all elements of A are in B, but B contains additional elements."
   ]
  },
  {
   "cell_type": "code",
   "execution_count": 57,
   "metadata": {},
   "outputs": [
    {
     "name": "stdout",
     "output_type": "stream",
     "text": [
      "Is set2 a proper subset of set1? True\n"
     ]
    }
   ],
   "source": [
    "set1 = {1, 2, 3, 4, 5}\n",
    "set2 = {3, 4}\n",
    "\n",
    "is_proper_subset= set2<set1\n",
    "#Another way is_proper_subset = set2.issubset(set1) and set1 != set2\n",
    "print(\"Is set2 a proper subset of set1?\", is_proper_subset)\n",
    "# Output: True\n"
   ]
  },
  {
   "cell_type": "markdown",
   "metadata": {},
   "source": [
    "6. Difference (-):\n",
    ">The difference of two sets consists of all elements that are in the first set but not in the second set."
   ]
  },
  {
   "cell_type": "code",
   "execution_count": 51,
   "metadata": {},
   "outputs": [
    {
     "name": "stdout",
     "output_type": "stream",
     "text": [
      "Difference: {1, 2, 5}\n"
     ]
    }
   ],
   "source": [
    "set1 = {1, 2, 3, 4, 5}\n",
    "set2 = {3, 4}\n",
    "\n",
    "difference_set = set1 - set2\n",
    "\n",
    "print(\"Difference:\", difference_set)\n",
    "# Output: {1, 2, 5}\n"
   ]
  },
  {
   "cell_type": "markdown",
   "metadata": {},
   "source": [
    "7. Symmetric Difference (^):\n",
    ">The symmetric difference of two sets consists of all elements that are in either set, but not in both."
   ]
  },
  {
   "cell_type": "code",
   "execution_count": 58,
   "metadata": {},
   "outputs": [
    {
     "name": "stdout",
     "output_type": "stream",
     "text": [
      "Symmetric Difference: {1, 2, 5, 6, 7}\n"
     ]
    }
   ],
   "source": [
    "set1 = {1, 2, 3, 4, 5}\n",
    "set2 = {3, 4, 6, 7}\n",
    "\n",
    "symmetric_difference_set = set1 ^ set2\n",
    "#symmetric_difference_set = set1.symmetric_difference(y)\n",
    "\n",
    "print(\"Symmetric Difference:\", symmetric_difference_set)\n",
    "# Output: {1, 2, 5, 6, 7}\n"
   ]
  },
  {
   "cell_type": "code",
   "execution_count": null,
   "metadata": {},
   "outputs": [],
   "source": []
  }
 ],
 "metadata": {
  "kernelspec": {
   "display_name": "chicken",
   "language": "python",
   "name": "python3"
  },
  "language_info": {
   "codemirror_mode": {
    "name": "ipython",
    "version": 3
   },
   "file_extension": ".py",
   "mimetype": "text/x-python",
   "name": "python",
   "nbconvert_exporter": "python",
   "pygments_lexer": "ipython3",
   "version": "3.8.18"
  }
 },
 "nbformat": 4,
 "nbformat_minor": 2
}
