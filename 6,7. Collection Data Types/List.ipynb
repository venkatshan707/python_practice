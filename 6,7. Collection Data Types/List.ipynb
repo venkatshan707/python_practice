{
 "cells": [
  {
   "cell_type": "code",
   "execution_count": 17,
   "metadata": {},
   "outputs": [
    {
     "name": "stdout",
     "output_type": "stream",
     "text": [
      "<class 'list'>\n"
     ]
    }
   ],
   "source": [
    "users = [\"Dave\", 'John', 'Sara']\n",
    "users_old = list ([\"jay,\", \"herick\", \"peter\"] )# calling a list class's constructor to create list)\n",
    "print (type(users_old))# printing the type of list. It returns a \"<class 'list'>\"\n",
    "data = ['dave', 24, True] # can store any type of data and Mutable \n",
    "empty_list= []\n"
   ]
  },
  {
   "cell_type": "code",
   "execution_count": 2,
   "metadata": {},
   "outputs": [
    {
     "name": "stdout",
     "output_type": "stream",
     "text": [
      "True\n"
     ]
    }
   ],
   "source": [
    "print(\"Dave\" in users)\n",
    "print(\"Dave\" in empty_list)"
   ]
  },
  {
   "cell_type": "markdown",
   "metadata": {},
   "source": [
    "##### Indexing and Slicing "
   ]
  },
  {
   "cell_type": "code",
   "execution_count": 19,
   "metadata": {},
   "outputs": [
    {
     "name": "stdout",
     "output_type": "stream",
     "text": [
      "Dave\n",
      "John\n",
      "Sara\n"
     ]
    }
   ],
   "source": [
    "print(users[0])# Index starts with Zero\n",
    "print(users[1])\n",
    "print(users[-1])#Displays last element\n"
   ]
  },
  {
   "cell_type": "code",
   "execution_count": 15,
   "metadata": {},
   "outputs": [
    {
     "name": "stdout",
     "output_type": "stream",
     "text": [
      "['Dave', 'John', 'Sara']\n",
      "2\n",
      "['John']\n",
      "['John', 'Sara']\n",
      "\n",
      "\n",
      "['Dave', 'John']\n",
      "[]\n"
     ]
    }
   ],
   "source": [
    "\n",
    "print(users[:])# It's giving full list\n",
    "print(users.index(\"Sara\"))\n",
    "print(users[1:2]) # Second indexed value won't displayed here. EI = Mentioned End index -1\n",
    "print(users[1:])# Starting from 1st index. Printing all \n",
    "\n",
    "print(\"\\n\")\n",
    "\n",
    "print(users[0:2])\n",
    "#Both are same only because -3 pointing 0th index in this case. -1 which is last index skipped \n",
    "print(users[3:-1])"
   ]
  },
  {
   "cell_type": "code",
   "execution_count": 20,
   "metadata": {},
   "outputs": [
    {
     "name": "stdout",
     "output_type": "stream",
     "text": [
      "3\n"
     ]
    }
   ],
   "source": [
    "print(len(users))# we have 3 elements so length is 3"
   ]
  },
  {
   "cell_type": "markdown",
   "metadata": {},
   "source": [
    "#### Lsit Functions"
   ]
  },
  {
   "cell_type": "code",
   "execution_count": 22,
   "metadata": {},
   "outputs": [],
   "source": [
    "#These are all syntex from official Python docs\n",
    "# list.append(x)\n",
    "# list.extend(iterable)\n",
    "# list.insert(i, x)\n",
    "# list.remove(x)\n",
    "# list.pop([i])\n",
    "# list.clear()\n",
    "# list.index(x[, start[, end]])\n",
    "# list.count(x)\n",
    "# list.sort(*, key=None, reverse=False)\n",
    "# list.reverse()\n",
    "# list.copy()"
   ]
  },
  {
   "cell_type": "code",
   "execution_count": 11,
   "metadata": {},
   "outputs": [
    {
     "name": "stdout",
     "output_type": "stream",
     "text": [
      "[10, 20, 30, 40]\n",
      "appending element at last : [10, 20, 30, 40, 50]\n",
      "extending element at last : [10, 20, 30, 40, 50, '60', '70']\n",
      "Inserting element at index 2: [10, 20, 25, 30, 40, 50, '60', '70']\n",
      "Removing element 25: [10, 20, 30, 40, 50, '60', '70']\n",
      "Popped item (last): 70\n",
      "List after popping last item: [10, 20, 30, 40, 50, '60']\n",
      "List after clearing: []\n",
      "Index of first occurrence of 20: 1\n",
      "Count of 20: 2\n",
      "Sorted list: [10, 20, 20, 30, 40]\n",
      "Descedning order Sorted list: [40, 30, 20, 10]\n",
      "Reversed list: [10, 20, 30, 40]\n",
      "Shallow copy of list: [10, 20, 30, 40]\n"
     ]
    }
   ],
   "source": [
    "l = [10,20,30, 40]\n",
    "print(l)\n",
    "l.append(50)# Appends one item at last of list\n",
    "print(\"appending element at last : \"+str(l))\n",
    "\n",
    "l.extend([\"60\",\"70\"])# extend with more intems. we can add iterables which have multiple elements\n",
    "print(\"extending element at last : \"+str(l))\n",
    "\n",
    "# Append an item at the specified position\n",
    "l.insert(2, 25)\n",
    "print(\"Inserting element at index 2: \" + str(l))\n",
    "\n",
    "# Remove the first occurrence of a value\n",
    "l.remove(25)\n",
    "print(\"Removing element 25: \" + str(l))\n",
    "\n",
    "# Remove and return the item at the given index (default last)\n",
    "popped_item = l.pop() \n",
    "# If we specify 1 it will pop the element which is first index reteurns the same\n",
    "print(\"Popped item (last): \" + str(popped_item))\n",
    "print(\"List after popping last item: \" + str(l))\n",
    "\n",
    "# Clear the list\n",
    "l.clear()\n",
    "print(\"List after clearing: \" + str(l))\n",
    "\n",
    "# Get the index of the first occurrence of a value\n",
    "l = [10, 20, 30, 40, 20]\n",
    "index = l.index(20)\n",
    "print(\"Index of first occurrence of 20: \" + str(index))\n",
    "\n",
    "# Count the number of occurrences of a value\n",
    "count = l.count(20)\n",
    "print(\"Count of 20: \" + str(count))\n",
    "\n",
    "# Sort the list in place\n",
    "l.sort()\n",
    "print(\"Sorted list: \" + str(l)) # we can't sort the list with different data types\n",
    "l=[10,30,40,20]\n",
    "l.sort(reverse= True)\n",
    "#we can also use sorted(l, reverse=True). which is global method. \n",
    "#It can be used to sort without modifying original list's order\n",
    "print(\"Descedning order Sorted list: \" + str(sorted(l, reverse=True)))#for reversed sort\n",
    "\n",
    "# Reverse the elements of the list in place\n",
    "l.reverse() # just reverses not sorting\n",
    "print(\"Reversed list: \" + str(l))\n",
    "\n",
    "# Create a shallow copy of the list\n",
    "l_copy = l.copy()\n",
    "print(\"Shallow copy of list: \" + str(l_copy))\n"
   ]
  },
  {
   "cell_type": "code",
   "execution_count": 7,
   "metadata": {},
   "outputs": [
    {
     "name": "stdout",
     "output_type": "stream",
     "text": [
      "['aeroplane', 'apple', 'Big', 'cat', 'Dave']\n",
      "['Big', 'Dave', 'aeroplane', 'apple', 'cat']\n"
     ]
    }
   ],
   "source": [
    "l= [\"Dave\", \"apple\", \"Big\", \"aeroplane\", \"cat\"]\n",
    "l.sort(key= str.lower)\n",
    "print(l)\n",
    "# See the diff, In the sorting of string list, if we wanted to have lower case \n",
    "#items also mixed with items starting with upper case, we must mention key\n",
    "l= [\"Dave\", \"apple\", \"Big\", \"aeroplane\", \"cat\"]\n",
    "l.sort()\n",
    "print(l)"
   ]
  },
  {
   "cell_type": "code",
   "execution_count": 9,
   "metadata": {},
   "outputs": [
    {
     "name": "stdout",
     "output_type": "stream",
     "text": [
      "[40, 30, 20, 10]\n"
     ]
    }
   ],
   "source": [
    "l = [30, 40, 20, 10]\n",
    "l.sort(reverse= True)\n",
    "print(l)"
   ]
  },
  {
   "cell_type": "code",
   "execution_count": null,
   "metadata": {},
   "outputs": [],
   "source": []
  }
 ],
 "metadata": {
  "kernelspec": {
   "display_name": "chicken",
   "language": "python",
   "name": "python3"
  },
  "language_info": {
   "codemirror_mode": {
    "name": "ipython",
    "version": 3
   },
   "file_extension": ".py",
   "mimetype": "text/x-python",
   "name": "python",
   "nbconvert_exporter": "python",
   "pygments_lexer": "ipython3",
   "version": "3.8.18"
  }
 },
 "nbformat": 4,
 "nbformat_minor": 2
}
