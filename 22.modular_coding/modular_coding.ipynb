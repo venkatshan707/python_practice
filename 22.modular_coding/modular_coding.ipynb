{
 "cells": [
  {
   "cell_type": "markdown",
   "metadata": {},
   "source": [
    "## What is and why ?"
   ]
  },
  {
   "cell_type": "markdown",
   "metadata": {},
   "source": [
    "Python's modular programming capabilities allow developers to organize their code efficiently, enabling code reuse, namespace management, and maintainable codebases. This article delves into two fundamental concepts in Python that facilitate modular programming: modules and packages. Understanding these concepts is crucial for Python developers aiming to build scalable and organized applications."
   ]
  },
  {
   "cell_type": "markdown",
   "metadata": {},
   "source": [
    "## Explain what is library,  package, module in python:"
   ]
  },
  {
   "cell_type": "markdown",
   "metadata": {},
   "source": [
    "In Python, the terms \"library,\" \"package,\" and \"module\" are often used interchangeably, but **they have distinct meanings** and serve different purposes in organizing and managing code."
   ]
  },
  {
   "cell_type": "markdown",
   "metadata": {},
   "source": [
    "### 1. Module"
   ]
  },
  {
   "cell_type": "markdown",
   "metadata": {},
   "source": [
    "Definition:\n",
    "\n",
    "A module is a single file containing Python code. It can define functions, classes, and variables and can also include runnable code"
   ]
  },
  {
   "cell_type": "markdown",
   "metadata": {},
   "source": [
    "Purpose:\n",
    "\n",
    "To break down large programs into small, manageable, and reusable pieces"
   ]
  },
  {
   "cell_type": "code",
   "execution_count": null,
   "metadata": {},
   "outputs": [],
   "source": [
    "# math_utils.py\n",
    "def add(a, b):\n",
    "    return a + b\n",
    "\n",
    "def subtract(a, b):\n",
    "    return a - b\n"
   ]
  },
  {
   "cell_type": "markdown",
   "metadata": {},
   "source": [
    "Usage:\n",
    "\n",
    "You can import this module in another Python file using the import statement"
   ]
  },
  {
   "cell_type": "code",
   "execution_count": null,
   "metadata": {},
   "outputs": [],
   "source": [
    "import math_utils\n",
    "\n",
    "result = math_utils.add(5, 3)\n",
    "print(result)  # Output: 8\n"
   ]
  },
  {
   "cell_type": "markdown",
   "metadata": {},
   "source": [
    "### 2. Package"
   ]
  },
  {
   "cell_type": "markdown",
   "metadata": {},
   "source": [
    "Definition:\n",
    "\n",
    "A package is a collection of modules organized in directories that provide a hierarchical structure. A package must contain a special file named __init__.py, which can be empty or execute initialization code for the package."
   ]
  },
  {
   "cell_type": "markdown",
   "metadata": {},
   "source": [
    "Purpose:\n",
    "\n",
    "To organize related modules into a directory structure, making it easier to manage large codebases."
   ]
  },
  {
   "cell_type": "markdown",
   "metadata": {},
   "source": [
    "Example:\n",
    "\n",
    "Directory structure for a package"
   ]
  },
  {
   "cell_type": "markdown",
   "metadata": {},
   "source": [
    "my_package/\n",
    "\n",
    "   __init__.py\n",
    "\n",
    "   math_utils.py\n",
    "    \n",
    "   string_utils.py\n"
   ]
  },
  {
   "cell_type": "markdown",
   "metadata": {},
   "source": [
    "Usage:\n",
    "\n",
    "You can import modules from the package:"
   ]
  },
  {
   "cell_type": "code",
   "execution_count": null,
   "metadata": {},
   "outputs": [],
   "source": [
    "from my_package import math_utils\n",
    "\n",
    "result = math_utils.add(5, 3)\n",
    "print(result)  # Output: 8"
   ]
  },
  {
   "cell_type": "markdown",
   "metadata": {},
   "source": [
    "### Library\n",
    "\n",
    "Definition:"
   ]
  },
  {
   "cell_type": "markdown",
   "metadata": {},
   "source": [
    "A library is a collection of packages and modules bundled together to provide a set of related functionality. Libraries are more general terms and can include packages, modules, and even standalone scripts or executables."
   ]
  },
  {
   "cell_type": "markdown",
   "metadata": {},
   "source": [
    "Purpose:\n",
    "\n",
    "To offer reusable functionality to be used across different projects. Libraries can cover a wide range of functionalities, such as numerical computations, web development, data manipulation, etc."
   ]
  },
  {
   "cell_type": "markdown",
   "metadata": {},
   "source": [
    "Example:\n",
    "\n",
    "The requests library provides modules for HTTP requests:"
   ]
  },
  {
   "cell_type": "code",
   "execution_count": null,
   "metadata": {},
   "outputs": [],
   "source": [
    "import requests\n",
    "\n",
    "response = requests.get('https://api.example.com/data')\n",
    "print(response.status_code)\n"
   ]
  },
  {
   "cell_type": "markdown",
   "metadata": {},
   "source": [
    "Popular Python Libraries:\n",
    "\n",
    ">NumPy: For numerical computations.\n",
    "\n",
    ">Pandas: For data manipulation and analysis.\n",
    "\n",
    ">Matplotlib: For plotting and visualization.\n",
    "\n",
    ">Requests: For making HTTP requests."
   ]
  },
  {
   "cell_type": "markdown",
   "metadata": {},
   "source": [
    "Summary\n",
    "\n",
    "Module: A single file containing Python code. It’s the smallest unit of code organization in Python.\n",
    "\n",
    "Package: A directory containing multiple modules and a special __init__.py file. Packages can also contain sub-packages.\n",
    "\n",
    "Library: A collection of packages and modules that provide related functionality. Libraries can encompass a wide range of tools and utilities for various tasks.\n",
    "\n",
    "Understanding these concepts helps in organizing your code effectively and utilizing existing Python resources efficiently."
   ]
  },
  {
   "cell_type": "markdown",
   "metadata": {},
   "source": [
    " ### \\___init\\___.py'  what is the use and importance of it in package. what will happen if we dont use it ?"
   ]
  },
  {
   "cell_type": "markdown",
   "metadata": {},
   "source": [
    "Package Initialization:\n",
    "The __init__.py file is used to mark a directory as a Python package. When you import a package, this file is executed, allowing you to initialize the package. You can use it to set up package-level variables, import submodules, or perform any setup necessary for the package"
   ]
  },
  {
   "cell_type": "markdown",
   "metadata": {},
   "source": [
    "What Happens If __init__.py Is Not Present?\n",
    "\n",
    "**Python 2.x and Before Python 3.3:**\n",
    "\n",
    "If __init__.py is not present, the directory will not be recognized as a package, and you will not be able to import its modules using the package import syntax.\n",
    "\n",
    "\n",
    "**Python 3.3 and Later:**\n",
    "\n",
    "The directory can still be recognized as a namespace package even if __init__.py is not present. You can still import modules from the directory, but you lose the ability to execute initialization code and control imports using __all__."
   ]
  },
  {
   "cell_type": "markdown",
   "metadata": {},
   "source": [
    "Other usages of \\___init\\___.py: discussed at the end of this notebook"
   ]
  },
  {
   "cell_type": "markdown",
   "metadata": {},
   "source": [
    "### Question:\n",
    "I want to import one function from module which is part of one package and that package is part of one library. how can i import that. explian with some realtime function"
   ]
  },
  {
   "cell_type": "markdown",
   "metadata": {},
   "source": []
  },
  {
   "cell_type": "markdown",
   "metadata": {},
   "source": [
    "Directory Structure:"
   ]
  },
  {
   "cell_type": "markdown",
   "metadata": {},
   "source": [
    "Assume you have the following directory structure for a library named my_library:"
   ]
  },
  {
   "cell_type": "markdown",
   "metadata": {},
   "source": [
    "my_library/\n",
    "    __init__.py\n",
    "    my_package/\n",
    "        __init__.py\n",
    "        math_utils.py"
   ]
  },
  {
   "cell_type": "markdown",
   "metadata": {},
   "source": [
    "#### math_utils.py File\n",
    "Let's define a function in math_utils.py:"
   ]
  },
  {
   "cell_type": "code",
   "execution_count": null,
   "metadata": {},
   "outputs": [],
   "source": [
    "# my_library/my_package/math_utils.py\n",
    "\n",
    "def add(a, b):\n",
    "    return a + b\n",
    "\n",
    "def subtract(a, b):\n",
    "    return a - b\n"
   ]
  },
  {
   "cell_type": "markdown",
   "metadata": {},
   "source": [
    "Importing the Function\n",
    "\n",
    "Now, suppose you want to import the add function from math_utils.py in your main script."
   ]
  },
  {
   "cell_type": "markdown",
   "metadata": {},
   "source": [
    "#### Main Script\n",
    "Your main script could be in the root directory or another directory. For this example, let's assume it's in the root directory:"
   ]
  },
  {
   "cell_type": "code",
   "execution_count": null,
   "metadata": {},
   "outputs": [],
   "source": [
    "# main.py\n",
    "\n",
    "# Import the add function from my_library.my_package.math_utils\n",
    "from my_library.my_package.math_utils import add\n",
    "\n",
    "# Use the imported function\n",
    "result = add(5, 3)\n",
    "print(result)  # Output: 8\n"
   ]
  },
  {
   "cell_type": "markdown",
   "metadata": {},
   "source": [
    "#### Example Full Structor of the Project:"
   ]
  },
  {
   "cell_type": "markdown",
   "metadata": {},
   "source": [
    "project/\n",
    "    main.py\n",
    "    my_library/\n",
    "        __init__.py\n",
    "        my_package/\n",
    "            __init__.py\n",
    "            math_utils.py\n"
   ]
  },
  {
   "cell_type": "markdown",
   "metadata": {},
   "source": [
    "## Use of \\___init\\___.py in detail:"
   ]
  },
  {
   "cell_type": "markdown",
   "metadata": {},
   "source": [
    "Let's dive deeper into some examples to illustrate how __init__.py is used in Python packages for various purposes."
   ]
  },
  {
   "cell_type": "markdown",
   "metadata": {},
   "source": [
    "### 1. Simple Package Initialization"
   ]
  },
  {
   "cell_type": "markdown",
   "metadata": {},
   "source": [
    "Suppose you have a package called mypackage with the following structure:"
   ]
  },
  {
   "cell_type": "markdown",
   "metadata": {},
   "source": [
    "mypackage/\n",
    "    __init__.py\n",
    "    module1.py\n",
    "    module2.py\n"
   ]
  },
  {
   "cell_type": "markdown",
   "metadata": {},
   "source": [
    "module1.py"
   ]
  },
  {
   "cell_type": "code",
   "execution_count": null,
   "metadata": {},
   "outputs": [],
   "source": [
    "def func1():\n",
    "    return \"Function 1 from module1\"\n"
   ]
  },
  {
   "cell_type": "markdown",
   "metadata": {},
   "source": [
    "module2.py"
   ]
  },
  {
   "cell_type": "code",
   "execution_count": null,
   "metadata": {},
   "outputs": [],
   "source": [
    "def func2():\n",
    "    return \"Function 2 from module2\"\n"
   ]
  },
  {
   "cell_type": "markdown",
   "metadata": {},
   "source": [
    "\\___init\\___.py"
   ]
  },
  {
   "cell_type": "code",
   "execution_count": null,
   "metadata": {},
   "outputs": [],
   "source": [
    "from .module1 import func1\n",
    "from .module2 import func2\n",
    "\n",
    "__all__ = ['func1', 'func2']\n"
   ]
  },
  {
   "cell_type": "markdown",
   "metadata": {},
   "source": [
    "Usage:"
   ]
  },
  {
   "cell_type": "code",
   "execution_count": null,
   "metadata": {},
   "outputs": [],
   "source": [
    "from mypackage import func1, func2\n",
    "\n",
    "print(func1())  # Output: Function 1 from module1\n",
    "print(func2())  # Output: Function 2 from module2\n"
   ]
  },
  {
   "cell_type": "markdown",
   "metadata": {},
   "source": [
    "Here, \\___init\\___.py makes func1 and func2 available directly from the mypackage, making it easier for users to access these functions without needing to know about the underlying module structure."
   ]
  },
  {
   "cell_type": "markdown",
   "metadata": {},
   "source": [
    "### 2. Lazy Import of Submodules"
   ]
  },
  {
   "cell_type": "markdown",
   "metadata": {},
   "source": [
    "In some cases, you might want to load certain submodules only when they are needed, which can help reduce the startup time of your package."
   ]
  },
  {
   "cell_type": "markdown",
   "metadata": {},
   "source": [
    "\\___init\\___.py"
   ]
  },
  {
   "cell_type": "code",
   "execution_count": null,
   "metadata": {},
   "outputs": [],
   "source": [
    "import importlib\n",
    "\n",
    "def lazy_import(name):\n",
    "    return importlib.import_module('.' + name, package=__name__)\n",
    "\n",
    "module1 = lazy_import('module1')\n",
    "module2 = lazy_import('module2')\n"
   ]
  },
  {
   "cell_type": "markdown",
   "metadata": {},
   "source": [
    "Usage:"
   ]
  },
  {
   "cell_type": "code",
   "execution_count": null,
   "metadata": {},
   "outputs": [],
   "source": [
    "import mypackage\n",
    "\n",
    "result1 = mypackage.module1.func1()\n",
    "result2 = mypackage.module2.func2()\n",
    "\n",
    "print(result1)  # Output: Function 1 from module1\n",
    "print(result2)  # Output: Function 2 from module2\n"
   ]
  },
  {
   "cell_type": "markdown",
   "metadata": {},
   "source": [
    "In this example, the submodules module1 and module2 are imported lazily, meaning they are only loaded when they are actually accessed. This can be useful in large packages where importing everything upfront might be inefficient."
   ]
  },
  {
   "cell_type": "markdown",
   "metadata": {},
   "source": [
    "### 3. Exposing Only Specific Functions or Classes"
   ]
  },
  {
   "cell_type": "markdown",
   "metadata": {},
   "source": [
    "Suppose you want to expose only a subset of the functions or classes from your submodules."
   ]
  },
  {
   "cell_type": "markdown",
   "metadata": {},
   "source": [
    "module1.py"
   ]
  },
  {
   "cell_type": "code",
   "execution_count": null,
   "metadata": {},
   "outputs": [],
   "source": [
    "def func1():\n",
    "    return \"Function 1 from module1\"\n",
    "\n",
    "def _private_func():\n",
    "    return \"This function should not be exposed\"\n"
   ]
  },
  {
   "cell_type": "markdown",
   "metadata": {},
   "source": [
    "module2.py"
   ]
  },
  {
   "cell_type": "code",
   "execution_count": null,
   "metadata": {},
   "outputs": [],
   "source": [
    "def func2():\n",
    "    return \"Function 2 from module2\"\n",
    "def func2():\n",
    "    return \"Function 2 from module2\"\n"
   ]
  },
  {
   "cell_type": "markdown",
   "metadata": {},
   "source": [
    "\\___init\\___.py"
   ]
  },
  {
   "cell_type": "code",
   "execution_count": null,
   "metadata": {},
   "outputs": [],
   "source": [
    "from .module1 import func1\n",
    "from .module2 import func2\n",
    "\n",
    "__all__ = ['func1', 'func2']\n"
   ]
  },
  {
   "cell_type": "markdown",
   "metadata": {},
   "source": [
    "Usage:"
   ]
  },
  {
   "cell_type": "code",
   "execution_count": null,
   "metadata": {},
   "outputs": [],
   "source": [
    "from mypackage import *\n",
    "\n",
    "print(func1())  # Output: Function 1 from module1\n",
    "print(func2())  # Output: Function 2 from module2\n"
   ]
  },
  {
   "cell_type": "markdown",
   "metadata": {},
   "source": [
    "Here, the __all__ list in __init__.py ensures that only func1 and func2 are exposed when using a wildcard import (from mypackage import *). The _private_func remains hidden."
   ]
  },
  {
   "cell_type": "markdown",
   "metadata": {},
   "source": [
    "## 4. Combining Submodule Functions into a Single Namespace"
   ]
  },
  {
   "cell_type": "markdown",
   "metadata": {},
   "source": [
    "You can also use \\___init\\___.py to combine functions from different submodules into a single, flat namespace."
   ]
  },
  {
   "cell_type": "markdown",
   "metadata": {},
   "source": [
    "\\___init\\___.py"
   ]
  },
  {
   "cell_type": "code",
   "execution_count": null,
   "metadata": {},
   "outputs": [],
   "source": [
    "from .module1 import func1\n",
    "from .module2 import func2\n",
    "\n",
    "def combined_func():\n",
    "    return f\"{func1()} and {func2()} combined\"\n"
   ]
  },
  {
   "cell_type": "markdown",
   "metadata": {},
   "source": [
    "Usage:"
   ]
  },
  {
   "cell_type": "code",
   "execution_count": null,
   "metadata": {},
   "outputs": [],
   "source": [
    "from mypackage import combined_func\n",
    "\n",
    "print(combined_func())  # Output: Function 1 from module1 and Function 2 from module2 combined\n"
   ]
  },
  {
   "cell_type": "markdown",
   "metadata": {},
   "source": [
    "In this case, the __init__.py file not only imports the functions from the submodules but also creates a new function that combines their outputs, providing a higher-level abstraction for users"
   ]
  },
  {
   "cell_type": "markdown",
   "metadata": {},
   "source": [
    "### 5. Creating a Versioned Package"
   ]
  },
  {
   "cell_type": "markdown",
   "metadata": {},
   "source": [
    "If your package has a version, you can include that information in __init__.py:"
   ]
  },
  {
   "cell_type": "markdown",
   "metadata": {},
   "source": [
    "\\___init\\___.py"
   ]
  },
  {
   "cell_type": "code",
   "execution_count": null,
   "metadata": {},
   "outputs": [],
   "source": [
    "__version__ = \"1.0.0\"\n",
    "\n",
    "from .module1 import func1\n",
    "from .module2 import func2\n",
    "\n",
    "__all__ = ['func1', 'func2', '__version__']\n"
   ]
  },
  {
   "cell_type": "markdown",
   "metadata": {},
   "source": [
    "Usage:"
   ]
  },
  {
   "cell_type": "code",
   "execution_count": null,
   "metadata": {},
   "outputs": [],
   "source": [
    "import mypackage\n",
    "\n",
    "print(mypackage.__version__)  # Output: 1.0.0\n"
   ]
  },
  {
   "cell_type": "markdown",
   "metadata": {},
   "source": [
    "By defining __version__ in __init__.py, users can easily check the version of the package they are using."
   ]
  },
  {
   "cell_type": "markdown",
   "metadata": {},
   "source": [
    "### 6. Dynamic Imports and Initialization Logic"
   ]
  },
  {
   "cell_type": "markdown",
   "metadata": {},
   "source": [
    "You might want to perform some dynamic initialization or logging when your package is imported."
   ]
  },
  {
   "cell_type": "markdown",
   "metadata": {},
   "source": [
    "\\___init\\___.py"
   ]
  },
  {
   "cell_type": "code",
   "execution_count": null,
   "metadata": {},
   "outputs": [],
   "source": [
    "import logging\n",
    "import os\n",
    "\n",
    "logging.basicConfig(level=logging.INFO)\n",
    "logger = logging.getLogger(__name__)\n",
    "\n",
    "logger.info(\"Initializing mypackage\")\n",
    "\n",
    "if os.getenv('MYPACKAGE_DEBUG'):\n",
    "    logger.setLevel(logging.DEBUG)\n",
    "    logger.debug(\"Debug mode is on\")\n",
    "\n",
    "from .module1 import func1\n",
    "from .module2 import func2\n"
   ]
  },
  {
   "cell_type": "markdown",
   "metadata": {},
   "source": [
    "Usage:"
   ]
  },
  {
   "cell_type": "code",
   "execution_count": null,
   "metadata": {},
   "outputs": [],
   "source": [
    "import mypackage\n",
    "\n",
    "# This will log \"Initializing mypackage\" and possibly \"Debug mode is on\" if the environment variable is set\n"
   ]
  },
  {
   "cell_type": "markdown",
   "metadata": {},
   "source": [
    "This __init__.py file sets up logging and performs some initial checks, such as setting the log level based on an environment variable. It ensures that the package is initialized according to the environment it's running in."
   ]
  },
  {
   "cell_type": "markdown",
   "metadata": {},
   "source": [
    "Summary: \n",
    "\n",
    "The __init__.py file in Python is versatile and powerful. It allows you to:\n",
    "\n",
    "Initialize your package when it is imported.\n",
    "\n",
    "Expose a clean and organized API to users.\n",
    "\n",
    "Control what is accessible from the package.\n",
    "\n",
    "Combine functions or classes from different modules into a single interface.\n",
    "\n",
    "Perform dynamic setup or configuration.\n",
    "\n",
    "By leveraging __init__.py, you can create a more user-friendly and maintainable package."
   ]
  },
  {
   "cell_type": "markdown",
   "metadata": {},
   "source": []
  }
 ],
 "metadata": {
  "kernelspec": {
   "display_name": "chicken",
   "language": "python",
   "name": "python3"
  },
  "language_info": {
   "codemirror_mode": {
    "name": "ipython",
    "version": 3
   },
   "file_extension": ".py",
   "mimetype": "text/x-python",
   "name": "python",
   "nbconvert_exporter": "python",
   "pygments_lexer": "ipython3",
   "version": "3.12.1"
  }
 },
 "nbformat": 4,
 "nbformat_minor": 2
}
